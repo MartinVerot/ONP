{
 "cells": [
  {
   "cell_type": "markdown",
   "id": "506d4c0e",
   "metadata": {},
   "source": [
    "# Exemple simple de mesure du temps d'exécution d'une fonction"
   ]
  },
  {
   "cell_type": "code",
   "execution_count": 1,
   "id": "e4af8de1",
   "metadata": {},
   "outputs": [
    {
     "name": "stdout",
     "output_type": "stream",
     "text": [
      "Temps d'exécution pour l'itération 0 (en s): 8.958e-05 s\n",
      "Temps d'exécution pour l'itération 1 (en s): 8.402e-05 s\n",
      "Temps d'exécution pour l'itération 2 (en s): 7.270e-05 s\n",
      "Temps d'exécution pour l'itération 3 (en s): 6.778e-05 s\n",
      "Temps d'exécution pour l'itération 4 (en s): 6.657e-05 s\n",
      "Temps d'exécution pour l'itération 5 (en s): 6.600e-05 s\n",
      "Temps d'exécution pour l'itération 6 (en s): 6.392e-05 s\n",
      "Temps d'exécution pour l'itération 7 (en s): 6.328e-05 s\n",
      "Temps d'exécution pour l'itération 8 (en s): 6.899e-05 s\n",
      "Temps d'exécution pour l'itération 9 (en s): 7.190e-05 s\n",
      "Temps total pour exécuter 10^6 fois le code avec timeit.timeit (s) : 3.857e+01 s\n",
      "Temps moyen d'exécution pour un unique appel de la fonction (s)    : 3.857e-05 s\n"
     ]
    }
   ],
   "source": [
    "\"\"\"\n",
    "Mesures de performances temporelles\n",
    "\"\"\"\n",
    "# Importation des librairies\n",
    "import timeit\n",
    "import random\n",
    "\n",
    "# Definition des fonctions\n",
    "def generate_onelist():\n",
    "    \"\"\"\n",
    "    Genere une liste de 50 entiers choisis aleatoirement entre 0 et 100 \n",
    "    \"\"\"\n",
    "    random_list = [random . randint (0 ,100) for i in range (50)]\n",
    "    return random_list\n",
    "\n",
    "# Illustration de la granulometrie du resultat\n",
    "for i in range (10):\n",
    "    beg = timeit.default_timer()\n",
    "    random_list = generate_onelist()\n",
    "    end = timeit.default_timer()\n",
    "    print (\"Temps d'exécution pour l'itération {} (en s): {:.3e} s\".format(i , end - beg ))\n",
    "\n",
    "# Utilisation de la methode timeit de la librairie timeit \n",
    "####\n",
    "##Attention##, exécute par défaut 10^6 fois la fonction pour avoir le temps d'exécution\n",
    "####\n",
    "execution_time = timeit.timeit(generate_onelist,number=int(1e6))\n",
    "print(\"Temps total pour exécuter 10^6 fois le code avec timeit.timeit (s) : {:.3e} s\".format (execution_time))\n",
    "print(\"Temps moyen d'exécution pour un unique appel de la fonction (s)    : {:.3e} s\".format (execution_time/1e6))"
   ]
  },
  {
   "cell_type": "markdown",
   "id": "34ebe62d",
   "metadata": {},
   "source": [
    "On peut ainsi voir que le temps d'exécution mesuré pour une unique exécution est significativement plus long (environ 55 microsecondes) que lorsqu'on effectue la mesure sur un grand nombre de fois (environ 35 microsecondes) sur la machine où j'ai lancé le programme. \n",
    "\n",
    "Le temps d'exécution n'étant pas du tout une grandeur triviale à définir, il arrive que le processus de mesure lui-même puisse prendre un temps non négligeable par rapport à la tâche à effectuer en elle-même."
   ]
  },
  {
   "cell_type": "markdown",
   "id": "5ad29ad5",
   "metadata": {},
   "source": [
    "# Une application importante : pourquoi on évite d'utiliser des boucles for en numpy\n",
    "\n",
    "La bibliothèque Numpy a été programmée de manière à être la plus efficace possible. Nous verrons cela plus en détail par la suite, mais l'implémentation de la librairie permet de faire des calculs sur des tableaux avec une efficacité bien plus importante qu'en passant par des boucles `for`. On verra plus tard au cours des TD comment faire pour éviter d'utiliser des boucles for."
   ]
  },
  {
   "cell_type": "markdown",
   "id": "04f94f66",
   "metadata": {},
   "source": [
    "## Pour générer des nombres aléatoires"
   ]
  },
  {
   "cell_type": "code",
   "execution_count": 2,
   "id": "890e4db6",
   "metadata": {},
   "outputs": [
    {
     "name": "stdout",
     "output_type": "stream",
     "text": [
      "Code sans boucle for\n",
      "Temps moyen d'exécution pour un unique appel de la fonction (s)    : 9.920e-05 s\n",
      "Code avec boucle for\n",
      "Temps moyen d'exécution pour un unique appel de la fonction (s)    : 2.096e-02 s\n",
      "le code sans boucle for est donc 211.33 plus rapide que le code avec boucle for\n"
     ]
    }
   ],
   "source": [
    "# Importation des librairies\n",
    "import timeit\n",
    "import numpy as np\n",
    "\n",
    "# Definition des fonctions\n",
    "def generate_random_numbers_nofor(N):\n",
    "    \"\"\"\n",
    "    Genere des nombres aléatoires avec numpy sans boucle for explicite\n",
    "    \"\"\"\n",
    "    rng = np.random.default_rng()\n",
    "    return rng.integers(100, size=N)\n",
    "\n",
    "def generate_random_numbers_for(N):\n",
    "    \"\"\"\n",
    "    Genere des nombres aléatoires avec numpy avec boucle for\n",
    "    \"\"\"\n",
    "    random_nums = list()\n",
    "    rng = np.random.default_rng()\n",
    "    for i in range(N):\n",
    "        random_nums.append(rng.integers(100))\n",
    "    return np.asarray(random_nums)\n",
    "\n",
    "# Utilisation de la methode timeit de la librairie timeit \n",
    "####\n",
    "##Attention##, exécute par défaut 10^6 fois la fonction pour avoir le temps d'exécution\n",
    "####\n",
    "\n",
    "#Nombre de nombres aléatoires à tirer\n",
    "N = 10000\n",
    "execution_time_nofor = timeit.timeit(lambda: generate_random_numbers_nofor(N),number=int(1e3))\n",
    "print(\"Code sans boucle for\")\n",
    "print(\"Temps moyen d'exécution pour un unique appel de la fonction (s)    : {:.3e} s\".format (execution_time_nofor/1e3))\n",
    "\n",
    "\n",
    "execution_time_for = timeit.timeit(lambda: generate_random_numbers_for(N),number=int(1e3))\n",
    "print(\"Code avec boucle for\")\n",
    "print(\"Temps moyen d'exécution pour un unique appel de la fonction (s)    : {:.3e} s\".format (execution_time_for/1e3))\n",
    "\n",
    "print(\"le code sans boucle for est donc {:.2f} plus rapide que le code avec boucle for\".format(execution_time_for/execution_time_nofor))"
   ]
  },
  {
   "cell_type": "markdown",
   "id": "9ec78422",
   "metadata": {},
   "source": [
    "## Pour faire un calcul de dérivée à partir d'un tableau \n",
    "\n",
    "On dispose ici du même tableau et on va calculer la vitesse définie comme :\n",
    "\n",
    "$$v= \\dfrac{arr_{i+1}-arr_{i-1}}{2 \\times dt}$$\n",
    "\n",
    "où $dt$ est l'espacement temporel entre les points et $arr_i$ est le i-ème élement du tableau `arr`"
   ]
  },
  {
   "cell_type": "code",
   "execution_count": 4,
   "id": "f200c898",
   "metadata": {},
   "outputs": [
    {
     "name": "stdout",
     "output_type": "stream",
     "text": [
      "Code sans boucle for\n",
      "Temps moyen d'exécution pour un unique appel de la fonction (s)    : 2.609e-05 s\n",
      "Code avec boucle for\n",
      "Temps moyen d'exécution pour un unique appel de la fonction (s)    : 5.812e-03 s\n",
      "le code sans boucle for est donc 222.79 plus rapide que le code avec boucle for\n"
     ]
    }
   ],
   "source": [
    "# Importation des librairies\n",
    "import timeit\n",
    "import numpy as np\n",
    "\n",
    "# Definition des fonctions\n",
    "def compute_speed_nofor(arr,dt):\n",
    "    \"\"\"\n",
    "    Calcule de la vitesse avec une formule centrée sans boucle for explicite\n",
    "    \"\"\"\n",
    "    return (arr[2:]-arr[0:-2])/(2*dt)\n",
    "\n",
    "def compute_speed_for(arr,dt):\n",
    "    \"\"\"\n",
    "    Calcule de la vitesse avec une formule centrée avec boucle for\n",
    "    \"\"\"\n",
    "    speed = np.zeros(arr.size-2)\n",
    "    for i in range(1,N-1):\n",
    "        speed[i-1] = ((arr[i+1]-arr[i-1])/(2*dt))\n",
    "    return speed\n",
    "\n",
    "#Nombre de nombres aléatoires à tirer\n",
    "N = 10000\n",
    "rng = np.random.default_rng()\n",
    "arr = np.arange(N)+rng.normal(0, 1e-2, size=N)\n",
    "dt = 1e-3\n",
    "\n",
    "#Comparaison du temps d'exécution des deux codes\n",
    "execution_time_nofor = timeit.timeit(lambda: compute_speed_nofor(arr,dt),number=int(1e3))\n",
    "print(\"Code sans boucle for\")\n",
    "print(\"Temps moyen d'exécution pour un unique appel de la fonction (s)    : {:.3e} s\".format (execution_time_nofor/1e3))\n",
    "\n",
    "\n",
    "execution_time_for = timeit.timeit(lambda: compute_speed_for(arr,dt),number=int(1e3))\n",
    "print(\"Code avec boucle for\")\n",
    "print(\"Temps moyen d'exécution pour un unique appel de la fonction (s)    : {:.3e} s\".format (execution_time_for/1e3))\n",
    "\n",
    "print(\"le code sans boucle for est donc {:.2f} plus rapide que le code avec boucle for\".format(execution_time_for/execution_time_nofor))\n",
    "\n",
    "\n",
    "\n"
   ]
  },
  {
   "cell_type": "code",
   "execution_count": null,
   "id": "202f463e",
   "metadata": {},
   "outputs": [],
   "source": []
  }
 ],
 "metadata": {
  "kernelspec": {
   "display_name": "Python 3 (ipykernel)",
   "language": "python",
   "name": "python3"
  },
  "language_info": {
   "codemirror_mode": {
    "name": "ipython",
    "version": 3
   },
   "file_extension": ".py",
   "mimetype": "text/x-python",
   "name": "python",
   "nbconvert_exporter": "python",
   "pygments_lexer": "ipython3",
   "version": "3.9.13"
  }
 },
 "nbformat": 4,
 "nbformat_minor": 5
}
