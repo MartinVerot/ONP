{
 "cells": [
  {
   "cell_type": "markdown",
   "id": "6f7c5c37",
   "metadata": {},
   "source": [
    "# Création de nombres aléatoires\n",
    "\n",
    "En intialisant le générateur de nombre aléatoire, en fournissant un `seed` on initialise également la séquence des nombres alétoires qui seront tirés."
   ]
  },
  {
   "cell_type": "code",
   "execution_count": 1,
   "id": "6c5663ad",
   "metadata": {},
   "outputs": [],
   "source": [
    "import numpy as np\n",
    "\n",
    "rng = np.random.default_rng(25)"
   ]
  },
  {
   "cell_type": "markdown",
   "id": "bf7ccfb9",
   "metadata": {},
   "source": [
    "On va par exemple tirer dix séquences de dix entiers compris entre 0 (inclu) et 250 (exclu). Chaque tirage est bien aléatoire."
   ]
  },
  {
   "cell_type": "code",
   "execution_count": 2,
   "id": "805f487e",
   "metadata": {},
   "outputs": [
    {
     "name": "stdout",
     "output_type": "stream",
     "text": [
      "[126  40 213   0  57  54 135  92  39   0]\n",
      "[149  48  64 247 136 196 170  30  50  56]\n",
      "[ 23 191   6 229  74  88  38 196 106  36]\n",
      "[172 135 113 149 179 197 105  69 191 103]\n",
      "[ 73  94 135  34  71 168 223 139 135 126]\n",
      "[ 73 156 167 151  40  18  55  74 120 100]\n",
      "[214  47  67 180  80 168 151 191 177   4]\n",
      "[  3  24 230  61 131 135  91  19  16 231]\n",
      "[146   7  79 158 145 190 118 146   6  96]\n",
      "[205 215 155  73 176  46 175 137 211  30]\n"
     ]
    }
   ],
   "source": [
    "for i in range(10):\n",
    "    print(rng.integers(0, 250, 10))"
   ]
  },
  {
   "cell_type": "markdown",
   "id": "37b3e7bd",
   "metadata": {},
   "source": [
    "Mais si on réinitialise le générateur de nombre aléatoire avec le même seed, on abtiendra les mêmes séquences de nombre aléatoire. Cela peut-être très utile si jamais on teste un programme pour avoir des résultats comparables. Mais est au contraire gênant dans tous les autres cas : les séries de nombre aléatoire tirées avec le même seed étant intégralement corrélées !"
   ]
  },
  {
   "cell_type": "code",
   "execution_count": 3,
   "id": "b31ddefc",
   "metadata": {},
   "outputs": [
    {
     "name": "stdout",
     "output_type": "stream",
     "text": [
      "[126  40 213   0  57  54 135  92  39   0]\n",
      "[149  48  64 247 136 196 170  30  50  56]\n",
      "[ 23 191   6 229  74  88  38 196 106  36]\n",
      "[172 135 113 149 179 197 105  69 191 103]\n",
      "[ 73  94 135  34  71 168 223 139 135 126]\n",
      "[ 73 156 167 151  40  18  55  74 120 100]\n",
      "[214  47  67 180  80 168 151 191 177   4]\n",
      "[  3  24 230  61 131 135  91  19  16 231]\n",
      "[146   7  79 158 145 190 118 146   6  96]\n",
      "[205 215 155  73 176  46 175 137 211  30]\n"
     ]
    }
   ],
   "source": [
    "rng2 = np.random.default_rng(25)\n",
    "for i in range(10):\n",
    "    print(rng2.integers(0, 250, 10))"
   ]
  },
  {
   "cell_type": "code",
   "execution_count": null,
   "id": "67ceb410",
   "metadata": {},
   "outputs": [],
   "source": []
  }
 ],
 "metadata": {
  "kernelspec": {
   "display_name": "Python 3 (ipykernel)",
   "language": "python",
   "name": "python3"
  },
  "language_info": {
   "codemirror_mode": {
    "name": "ipython",
    "version": 3
   },
   "file_extension": ".py",
   "mimetype": "text/x-python",
   "name": "python",
   "nbconvert_exporter": "python",
   "pygments_lexer": "ipython3",
   "version": "3.10.12"
  }
 },
 "nbformat": 4,
 "nbformat_minor": 5
}
