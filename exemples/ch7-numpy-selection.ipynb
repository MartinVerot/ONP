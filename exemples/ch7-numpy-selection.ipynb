{
 "cells": [
  {
   "cell_type": "code",
   "execution_count": 1,
   "id": "a955f5e1",
   "metadata": {},
   "outputs": [],
   "source": [
    "import numpy as np"
   ]
  },
  {
   "cell_type": "markdown",
   "id": "a7f23d21",
   "metadata": {},
   "source": [
    "# Sélection simple d'éléments\n",
    "\n",
    "Le slicing permet de sélectionner uniquement certains éléments."
   ]
  },
  {
   "cell_type": "code",
   "execution_count": 42,
   "id": "cb8c105c",
   "metadata": {},
   "outputs": [
    {
     "name": "stdout",
     "output_type": "stream",
     "text": [
      "[[[ 0  1  2  3]\n",
      "  [ 4  5  6  7]\n",
      "  [ 8  9 10 11]]\n",
      "\n",
      " [[12 13 14 15]\n",
      "  [16 17 18 19]\n",
      "  [20 21 22 23]]]\n",
      "\n",
      "sélection d'un unique élémént\n",
      "23\n",
      "()\n",
      "\n",
      "sélection d'un vecteur\n",
      "[20 21 22 23]\n",
      "(4,)\n",
      "\n",
      "sélection d'une matrice\n",
      "[[12 13 14 15]\n",
      " [16 17 18 19]\n",
      " [20 21 22 23]]\n",
      "(3, 4)\n",
      "\n",
      "avec une syntaxe plus courte\n",
      "[[12 13 14 15]\n",
      " [16 17 18 19]\n",
      " [20 21 22 23]]\n"
     ]
    }
   ],
   "source": [
    "data = np.arange(24)\n",
    "data = data.reshape((2, 3, 4))\n",
    "print(data)\n",
    "print(\"\\nsélection d'un unique élémént\")\n",
    "print(data[1, 2, 3])\n",
    "print(data[1, 2, 3].shape)\n",
    "\n",
    "print(\"\\nsélection d'un vecteur\")\n",
    "print(data[1, 2, :])\n",
    "print(data[1, 2, :].shape)\n",
    "\n",
    "print(\"\\nsélection d'une matrice\")\n",
    "print(data[1, :, :])\n",
    "print(data[1, :, :].shape)\n",
    "print(\"\\navec une syntaxe plus courte\")\n",
    "print(data[1])"
   ]
  },
  {
   "cell_type": "code",
   "execution_count": 43,
   "id": "e98466a5",
   "metadata": {},
   "outputs": [
    {
     "name": "stdout",
     "output_type": "stream",
     "text": [
      "sélection avec des indices négatifs\n",
      "19\n"
     ]
    }
   ],
   "source": [
    "print(\"sélection avec des indices négatifs\")\n",
    "print(data[-1, -2, -1])"
   ]
  },
  {
   "cell_type": "markdown",
   "id": "7f4c0106",
   "metadata": {},
   "source": [
    "# Slicing "
   ]
  },
  {
   "cell_type": "code",
   "execution_count": 44,
   "id": "52c064ea",
   "metadata": {},
   "outputs": [
    {
     "name": "stdout",
     "output_type": "stream",
     "text": [
      "tous les éléments d'indice pair dans la dernière dimension\n",
      "[[[ 0  2]\n",
      "  [ 4  6]\n",
      "  [ 8 10]]\n",
      "\n",
      " [[12 14]\n",
      "  [16 18]\n",
      "  [20 22]]]\n"
     ]
    }
   ],
   "source": [
    "print(\"tous les éléments d'indice pair dans la dernière dimension\")\n",
    "print(data[:, :, ::2])"
   ]
  },
  {
   "cell_type": "code",
   "execution_count": 45,
   "id": "874280f3",
   "metadata": {},
   "outputs": [],
   "source": [
    "data2 = np.arange(10 * 11 * 12)\n",
    "data2 = data2.reshape((10, 11, 12))"
   ]
  },
  {
   "cell_type": "code",
   "execution_count": 46,
   "id": "8edab530",
   "metadata": {},
   "outputs": [
    {
     "name": "stdout",
     "output_type": "stream",
     "text": [
      "les trois premiers éléments dans la première dimension\n",
      "[[[  0   1   2   3   4   5   6   7   8   9  10  11]\n",
      "  [ 12  13  14  15  16  17  18  19  20  21  22  23]\n",
      "  [ 24  25  26  27  28  29  30  31  32  33  34  35]\n",
      "  [ 36  37  38  39  40  41  42  43  44  45  46  47]\n",
      "  [ 48  49  50  51  52  53  54  55  56  57  58  59]\n",
      "  [ 60  61  62  63  64  65  66  67  68  69  70  71]\n",
      "  [ 72  73  74  75  76  77  78  79  80  81  82  83]\n",
      "  [ 84  85  86  87  88  89  90  91  92  93  94  95]\n",
      "  [ 96  97  98  99 100 101 102 103 104 105 106 107]\n",
      "  [108 109 110 111 112 113 114 115 116 117 118 119]\n",
      "  [120 121 122 123 124 125 126 127 128 129 130 131]]\n",
      "\n",
      " [[132 133 134 135 136 137 138 139 140 141 142 143]\n",
      "  [144 145 146 147 148 149 150 151 152 153 154 155]\n",
      "  [156 157 158 159 160 161 162 163 164 165 166 167]\n",
      "  [168 169 170 171 172 173 174 175 176 177 178 179]\n",
      "  [180 181 182 183 184 185 186 187 188 189 190 191]\n",
      "  [192 193 194 195 196 197 198 199 200 201 202 203]\n",
      "  [204 205 206 207 208 209 210 211 212 213 214 215]\n",
      "  [216 217 218 219 220 221 222 223 224 225 226 227]\n",
      "  [228 229 230 231 232 233 234 235 236 237 238 239]\n",
      "  [240 241 242 243 244 245 246 247 248 249 250 251]\n",
      "  [252 253 254 255 256 257 258 259 260 261 262 263]]\n",
      "\n",
      " [[264 265 266 267 268 269 270 271 272 273 274 275]\n",
      "  [276 277 278 279 280 281 282 283 284 285 286 287]\n",
      "  [288 289 290 291 292 293 294 295 296 297 298 299]\n",
      "  [300 301 302 303 304 305 306 307 308 309 310 311]\n",
      "  [312 313 314 315 316 317 318 319 320 321 322 323]\n",
      "  [324 325 326 327 328 329 330 331 332 333 334 335]\n",
      "  [336 337 338 339 340 341 342 343 344 345 346 347]\n",
      "  [348 349 350 351 352 353 354 355 356 357 358 359]\n",
      "  [360 361 362 363 364 365 366 367 368 369 370 371]\n",
      "  [372 373 374 375 376 377 378 379 380 381 382 383]\n",
      "  [384 385 386 387 388 389 390 391 392 393 394 395]]]\n"
     ]
    }
   ],
   "source": [
    "print(\"les trois premiers éléments dans la première dimension\")\n",
    "print(data2[:3, :, :])"
   ]
  },
  {
   "cell_type": "code",
   "execution_count": 47,
   "id": "a5e18142",
   "metadata": {},
   "outputs": [
    {
     "name": "stdout",
     "output_type": "stream",
     "text": [
      "dans les deux premiers plan du cube, toutes les trois lignes selon la deuxième dimension\n",
      "[[   0   36   72  108]\n",
      " [ 132  168  204  240]\n",
      " [ 264  300  336  372]\n",
      " [ 396  432  468  504]\n",
      " [ 528  564  600  636]\n",
      " [ 660  696  732  768]\n",
      " [ 792  828  864  900]\n",
      " [ 924  960  996 1032]\n",
      " [1056 1092 1128 1164]\n",
      " [1188 1224 1260 1296]]\n",
      "(10, 4, 2)\n"
     ]
    }
   ],
   "source": [
    "print(\n",
    "    \"dans les deux premiers plan du cube, toutes les trois lignes selon la deuxième dimension\"\n",
    ")\n",
    "print(data2[:, ::3, 0])\n",
    "print(data2[:, ::3, 0:2].shape)"
   ]
  },
  {
   "cell_type": "markdown",
   "id": "97861599",
   "metadata": {},
   "source": [
    "Création d'un slice qui dépend d'une variable. On affiche tous les éléments, puis de 2 en 2, puis de 3 en 3, etc."
   ]
  },
  {
   "cell_type": "code",
   "execution_count": 48,
   "id": "9d8c762e",
   "metadata": {},
   "outputs": [
    {
     "name": "stdout",
     "output_type": "stream",
     "text": [
      "Slice ::1 dans la dernière dimension\n",
      "[ 0  1  2  3  4  5  6  7  8  9 10 11]\n",
      "Slice ::2 dans la dernière dimension\n",
      "[ 0  2  4  6  8 10]\n",
      "Slice ::3 dans la dernière dimension\n",
      "[0 3 6 9]\n",
      "Slice ::4 dans la dernière dimension\n",
      "[0 4 8]\n",
      "Slice ::5 dans la dernière dimension\n",
      "[ 0  5 10]\n",
      "Slice ::6 dans la dernière dimension\n",
      "[0 6]\n",
      "Slice ::7 dans la dernière dimension\n",
      "[0 7]\n",
      "Slice ::8 dans la dernière dimension\n",
      "[0 8]\n",
      "Slice ::9 dans la dernière dimension\n",
      "[0 9]\n",
      "Slice ::10 dans la dernière dimension\n",
      "[ 0 10]\n",
      "Slice ::11 dans la dernière dimension\n",
      "[ 0 11]\n"
     ]
    }
   ],
   "source": [
    "for i in range(1, data2.shape[2]):\n",
    "    print(\"Slice ::{} dans la dernière dimension\".format(i))\n",
    "    print(data2[0, 0, slice(None, None, i)])\n",
    "\n",
    "    # print(\"Slice équivalent ::i\")\n",
    "    # print(data2[0,0,slice(0,data2.shape[2],i)])"
   ]
  },
  {
   "cell_type": "markdown",
   "id": "c85dbb82",
   "metadata": {},
   "source": [
    "# Sélection conditionnelle d'éléments \n",
    "Pour imprimer tous les éléments du tableau multiples de 2 ou 5 et inférieurs à 500"
   ]
  },
  {
   "cell_type": "code",
   "execution_count": 49,
   "id": "f17b9ad7",
   "metadata": {},
   "outputs": [
    {
     "name": "stdout",
     "output_type": "stream",
     "text": [
      "[  0   2   4   5   6   8  10  12  14  15  16  18  20  22  24  25  26  28\n",
      "  30  32  34  35  36  38  40  42  44  45  46  48  50  52  54  55  56  58\n",
      "  60  62  64  65  66  68  70  72  74  75  76  78  80  82  84  85  86  88\n",
      "  90  92  94  95  96  98 100 102 104 105 106 108 110 112 114 115 116 118\n",
      " 120 122 124 125 126 128 130 132 134 135 136 138 140 142 144 145 146 148\n",
      " 150 152 154 155 156 158 160 162 164 165 166 168 170 172 174 175 176 178\n",
      " 180 182 184 185 186 188 190 192 194 195 196 198 200 202 204 205 206 208\n",
      " 210 212 214 215 216 218 220 222 224 225 226 228 230 232 234 235 236 238\n",
      " 240 242 244 245 246 248 250 252 254 255 256 258 260 262 264 265 266 268\n",
      " 270 272 274 275 276 278 280 282 284 285 286 288 290 292 294 295 296 298\n",
      " 300 302 304 305 306 308 310 312 314 315 316 318 320 322 324 325 326 328\n",
      " 330 332 334 335 336 338 340 342 344 345 346 348 350 352 354 355 356 358\n",
      " 360 362 364 365 366 368 370 372 374 375 376 378 380 382 384 385 386 388\n",
      " 390 392 394 395 396 398 400 402 404 405 406 408 410 412 414 415 416 418\n",
      " 420 422 424 425 426 428 430 432 434 435 436 438 440 442 444 445 446 448\n",
      " 450 452 454 455 456 458 460 462 464 465 466 468 470 472 474 475 476 478\n",
      " 480 482 484 485 486 488 490 492 494 495 496 498]\n"
     ]
    }
   ],
   "source": [
    "print(data2[((data2 % 2 == 0) | (data2 % 5 == 0)) & (data2 < 500)])"
   ]
  },
  {
   "cell_type": "code",
   "execution_count": null,
   "id": "1e076b9b",
   "metadata": {},
   "outputs": [],
   "source": []
  },
  {
   "cell_type": "code",
   "execution_count": null,
   "id": "ce77ea53",
   "metadata": {},
   "outputs": [],
   "source": []
  }
 ],
 "metadata": {
  "kernelspec": {
   "display_name": "Python 3 (ipykernel)",
   "language": "python",
   "name": "python3"
  },
  "language_info": {
   "codemirror_mode": {
    "name": "ipython",
    "version": 3
   },
   "file_extension": ".py",
   "mimetype": "text/x-python",
   "name": "python",
   "nbconvert_exporter": "python",
   "pygments_lexer": "ipython3",
   "version": "3.9.13"
  }
 },
 "nbformat": 4,
 "nbformat_minor": 5
}
