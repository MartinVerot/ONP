{
 "cells": [
  {
   "cell_type": "markdown",
   "id": "ff4bf7e6",
   "metadata": {},
   "source": [
    "Le cahier est ici non exécuté, il faut le lancer en cliquant successivement sur les symboles en forme de flèche afin de voir le résultat des morceaux de code.\n",
    "\n",
    "Ce cahier Jupyter vient en complément du polycopié de cours qui est disponible ici : https://github.com/MartinVerot/ONP/blob/master/cours_python.pdf\n",
    "\n",
    "# Variables mutables ou immutables"
   ]
  },
  {
   "cell_type": "code",
   "execution_count": null,
   "id": "1d86b9e1",
   "metadata": {},
   "outputs": [],
   "source": [
    "# déclaration de variable\n",
    "foo = \"bar\"\n",
    "print(\"contenu de la variable `foo`         : {}\".format(foo))\n",
    "print(\"adresse mémoire de la variable foo   : {}\".format(id(foo)))\n",
    "liste = [0, 1, 2, 3, [4, 5, 6]]\n",
    "print(\"contenu de la variable `liste`       : {}\".format(liste))\n",
    "print(\"adresse mémoire de la variable liste : {}\".format(id(liste)))"
   ]
  },
  {
   "cell_type": "markdown",
   "id": "dc8ab810",
   "metadata": {},
   "source": [
    "## variable immutable"
   ]
  },
  {
   "cell_type": "code",
   "execution_count": null,
   "id": "c6b3f3a7",
   "metadata": {},
   "outputs": [],
   "source": [
    "foo = \"cut\"\n",
    "print(\"contenu de la variable `foo`         : {}\".format(foo))\n",
    "print(\"adresse mémoire de la variable foo   : {}\".format(id(foo)))"
   ]
  },
  {
   "cell_type": "markdown",
   "id": "133dbf0a",
   "metadata": {},
   "source": [
    "En changeant le contenu de la variable pour un objet immutable, on a en fait changé la référence de l'adresse mémoire vers un nouvel objet.\n",
    "\n",
    "## Variable mutable"
   ]
  },
  {
   "cell_type": "code",
   "execution_count": null,
   "id": "a083b6d4",
   "metadata": {},
   "outputs": [],
   "source": [
    "liste = [0, 1, 2, 3, [4, 5, 6]]\n",
    "print(\"contenu de la variable `liste`          : {}\".format(liste))\n",
    "print(\"adresse mémoire de la variable liste    : {}\".format(id(liste)))\n",
    "print(\"adresse mémoire de la variable liste[0] : {}\".format(id(liste[0])))\n",
    "liste[0] = 7\n",
    "print(\"contenu de la variable `liste`          : {}\".format(liste))\n",
    "print(\"adresse mémoire de la variable liste    : {}\".format(id(liste)))\n",
    "print(\"adresse mémoire de la variable liste[0] : {}\".format(id(liste[0])))"
   ]
  },
  {
   "cell_type": "markdown",
   "id": "6865ed15",
   "metadata": {},
   "source": [
    "Pour un objet mutable, on peut voir que l'on n'a pas changé l'adresse mémoire vers laquelle la variable pointe. Mais par contre, on a changé les références internes de la liste."
   ]
  },
  {
   "cell_type": "markdown",
   "id": "84470a13",
   "metadata": {},
   "source": [
    "# Copie superficielle ou profonde (shallow copy versus deep copy)\n",
    "<span id=\"copies\"></span>\n",
    "La copie de liste ou tout éléments qui s'en approche est un problème **IMPORTANT** en programmation, quel que soit le langage. En général, la liste est stockée en mémoire sous la forme suivante :\n",
    " * un endroit de la mémoire permet de stocker l'identifiant de la liste\n",
    " * chacun des éléments de la liste est lui-même stocké dans la mémoire à un endroit différent\n",
    "La liste référence chaque endroit de la mémoire où sont stockés les éléments qui la constituent.\n",
    "\n",
    "Si :\n",
    "* on fait une copie profonde (deep copy) : on copie à un nouvel endroit de la mémoire la liste ET les éléments qui la constituent. Ainsi, si on a deux listes l1 et l2 avec l2 qui est une deep copy de l1, alors modifier l2 ne changera pas le contenu de l1 ou vice-versa.\n",
    "* on fait une copie superficiell (shallow copy) : on copie à un nouvel endroit de la mémoire la liste MAIS **PAS FORCÉMENT** les éléments qui la constituent. Dans ce cas, modifier un élément de l1 affectera également le contenu de la liste l2 (et uniquement dans ce cas là).\n",
    "\n",
    "Il faut donc toujours faire **TRÈS ATTENTION** au fait de faire une copie deep ou shallow en fonction du comportement souhaité. Les deux pouvants être souhaités. Pour faire une copie profonde d'une liste, il faut utliser la librairie deepcopy.\n",
    "\n",
    "#### Copie très shallow "
   ]
  },
  {
   "cell_type": "code",
   "execution_count": null,
   "id": "b0ddb162",
   "metadata": {},
   "outputs": [],
   "source": [
    "# Exemple de copie shallow en fixant une égalité\n",
    "l1 = [0, 1, 2, 3]\n",
    "l2 = l1\n",
    "l2[0] = 4\n",
    "# On a modifié les DEUX listes d'un coup\n",
    "print(\n",
    "    \"Exemple de copie complètement shallow : modifier une liste modifie aussi l'autre !\"\n",
    ")\n",
    "print(l1)\n",
    "print(l2)"
   ]
  },
  {
   "cell_type": "markdown",
   "id": "5e4c9c58",
   "metadata": {},
   "source": [
    "#### Copie un peu moins shallow mais pas totalement deep non plus\n",
    "Avec Python, la copie d'une liste avec \"l1.copy()\" n'est « deep » que pour le premier niveau d'imbrication, mais « shallow » au-delà."
   ]
  },
  {
   "cell_type": "code",
   "execution_count": null,
   "id": "672e2142",
   "metadata": {},
   "outputs": [],
   "source": [
    "# exemple de copie un peu plus profonde avec .copy()\n",
    "l1 = [0, 1, 2, 3, [4, 5, 6]]\n",
    "l2 = l1.copy()\n",
    "l2[0] = 7\n",
    "# Modifier l2 n'a pas changé l1\n",
    "print(\n",
    "    \"Copie un peu plus profonde avec .copy() qui permet de maintenir l'indépendance de l1 et l2 au premier niveau\"\n",
    ")\n",
    "print(l1)\n",
    "print(l2)\n",
    "print(\n",
    "    \"Mais qui n'est quand même pas une copie profonde : si on change un sous-élément : cela affecte tout de même les deux listes !\"\n",
    ")\n",
    "l2[4][0] = 8\n",
    "# Mais changer un sous élément de l2 a changé l1\n",
    "print(l1)\n",
    "print(l2)"
   ]
  },
  {
   "cell_type": "markdown",
   "id": "ae00b44a",
   "metadata": {},
   "source": [
    "#### Une copie vraiement deep\n",
    "La librairie `copy` permet de faire de vraies copies profondes."
   ]
  },
  {
   "cell_type": "code",
   "execution_count": null,
   "id": "0546e321",
   "metadata": {},
   "outputs": [],
   "source": [
    "import copy\n",
    "\n",
    "# exemple de copie profonde avec copy.deepcopy()\n",
    "l1 = [0, 1, 2, 3, [4, 5, 6]]\n",
    "l2 = copy.deepcopy(l1)\n",
    "l2[4][0] = 8\n",
    "print(\n",
    "    \"Ici, la copie profonde fait que l'on a bien deux listes qui sont maintenant totalement indépendantes\"\n",
    ")\n",
    "print(l1)\n",
    "print(l2)"
   ]
  },
  {
   "cell_type": "markdown",
   "id": "893c2db5",
   "metadata": {},
   "source": [
    "### Pour aller un peu plus loin \n",
    "Pour montrer que la situation est un petit peu plus complexe que décrit dans le polycopié."
   ]
  },
  {
   "cell_type": "code",
   "execution_count": null,
   "id": "d350c2a7",
   "metadata": {},
   "outputs": [],
   "source": [
    "import copy\n",
    "\n",
    "l1 = [0, 1, 2, 3, [4, 5, 6]]\n",
    "l2 = l1\n",
    "print(\"***shallow***\")\n",
    "print(\"Les adresses des deux listes sont identiques\")\n",
    "print(id(l1))\n",
    "print(id(l2))\n",
    "print(\"Chacun des éléments de la liste a le même identifiant\")\n",
    "print(id(l1[0]))\n",
    "print(id(l2[0]))\n",
    "l2[0] = 7\n",
    "print(\"Modifier un des éléments dans une liste n'a pas différencié les copies\")\n",
    "print(id(l1[0]))\n",
    "print(id(l2[0]))\n",
    "\n",
    "print(\"\\n***semi shallow***\")\n",
    "# Identifiants d'une copie semi shallow\n",
    "l1 = [0, 1, 2, 3, [4, 5, 6]]\n",
    "l2 = l1.copy()\n",
    "print(\"Maintenant les identifiants des listes diffèrent\")\n",
    "print(id(l1))\n",
    "print(id(l2))\n",
    "print(\"À ce stade, on pointe encore vers les mêmes éléments\")\n",
    "print(id(l1[0]))\n",
    "print(id(l2[0]))\n",
    "l2[0] = 7\n",
    "l2[4][0] = 10\n",
    "print(\n",
    "    \"Mais après modification de l2 ce n'est plus le cas, on a bien différencié chacun des éléments de chaque liste\"\n",
    ")\n",
    "print(id(l1[0]))\n",
    "print(id(l2[0]))\n",
    "print(\"Par contre les identifiants vers la sous-liste sont toujours les mêmes\")\n",
    "print(id(l1[4]))\n",
    "print(id(l2[4]))\n",
    "print(\"Et les éléments de la sous-liste sont donc identiques\")\n",
    "print(id(l1[4][0]))\n",
    "print(id(l2[4][0]))\n",
    "\n",
    "\n",
    "print(\"\\n***deep***\")\n",
    "# Identifiants d'une copie semi shallow\n",
    "l1 = [0, 1, 2, 3, [4, 5, 6]]\n",
    "l2 = copy.deepcopy(l1)\n",
    "print(\"Les identifiants des listes diffèrent\")\n",
    "print(id(l1))\n",
    "print(id(l2))\n",
    "print(\"Celui des éléments inclus aussi\")\n",
    "print(id(l1[4]))\n",
    "print(id(l2[4]))\n",
    "l2[0] = 7\n",
    "l2[4][0] = 10\n",
    "print(\"Cette fois, les sous-éléments sont également bien différenciés\")\n",
    "print(id(l1[4][0]))\n",
    "print(id(l2[4][0]))"
   ]
  },
  {
   "cell_type": "markdown",
   "id": "a4682a72",
   "metadata": {},
   "source": [
    "# Éléments mutables et fonctions\n",
    "<span id=\"mutfonction\"></span>\n",
    "Les éléments mutables sont changés au sein de la fonction ... mais aussi en dehors "
   ]
  },
  {
   "cell_type": "code",
   "execution_count": null,
   "id": "23638b36",
   "metadata": {},
   "outputs": [],
   "source": [
    "def squares_of(numbers):\n",
    "    \"\"\"\n",
    "    Takes a list of numbers and returns their square\n",
    "    \"\"\"\n",
    "    for i, number in enumerate(numbers):\n",
    "        numbers[i] = number**2\n",
    "    return numbers\n",
    "\n",
    "\n",
    "sample = [2, 3, 4]\n",
    "print(squares_of(sample))\n",
    "print(sample)"
   ]
  },
  {
   "cell_type": "markdown",
   "id": "44d7241f",
   "metadata": {},
   "source": [
    "Il existe plusieurs moyens de contourner ce souci."
   ]
  },
  {
   "cell_type": "code",
   "execution_count": null,
   "id": "b63359ef",
   "metadata": {},
   "outputs": [],
   "source": [
    "# en créant une nouvelle liste au sein de la fonction\n",
    "def squares_of(numbers):\n",
    "    \"\"\"\n",
    "    Takes a list of numbers and returns their square\n",
    "    \"\"\"\n",
    "    result = []\n",
    "    for number in numbers:\n",
    "        result.append(number**2)\n",
    "    return result\n",
    "\n",
    "\n",
    "sample = [2, 3, 4]\n",
    "print(squares_of(sample))\n",
    "print(sample)"
   ]
  },
  {
   "cell_type": "code",
   "execution_count": null,
   "id": "fa17c04d",
   "metadata": {},
   "outputs": [],
   "source": [
    "import copy\n",
    "\n",
    "# en faisant une deep copy de l'élément mutable\n",
    "def squares_of(numbers):\n",
    "    \"\"\"\n",
    "    Takes a list of numbers and returns their square\n",
    "    \"\"\"\n",
    "    squares = copy.deepcopy(numbers)\n",
    "    for i, number in enumerate(squares):\n",
    "        squares[i] = number**2\n",
    "    return squares\n",
    "\n",
    "\n",
    "sample = [2, 3, 4]\n",
    "print(squares_of(sample))\n",
    "print(sample)"
   ]
  },
  {
   "cell_type": "code",
   "execution_count": null,
   "id": "c14e7655",
   "metadata": {},
   "outputs": [],
   "source": [
    "# en passant par une compréhension de liste qui créé de nouveaux objets en mémoire à partir de l'objet mutable initial\n",
    "def squares_of(numbers):\n",
    "    \"\"\"\n",
    "    Takes a list of numbers and returns their square\n",
    "    \"\"\"\n",
    "    return [x**2 for x in numbers]\n",
    "\n",
    "\n",
    "sample = [2, 3, 4]\n",
    "print(squares_of(sample))\n",
    "print(sample)"
   ]
  },
  {
   "cell_type": "markdown",
   "id": "3fb993bd",
   "metadata": {},
   "source": [
    "### Éléments mutables optionnels et fonctions\n",
    "<span id=\"mutfonction2\"></span>"
   ]
  },
  {
   "cell_type": "code",
   "execution_count": null,
   "id": "749d028c",
   "metadata": {},
   "outputs": [],
   "source": [
    "def append_to(item, target=[]):\n",
    "    \"\"\"\n",
    "    Adds a new element to the target variable\n",
    "    \"\"\"\n",
    "    target.append(item)\n",
    "    return target\n",
    "\n",
    "\n",
    "liste = [\"a\", \"b\", \"c\"]\n",
    "print(append_to(1))\n",
    "print(append_to(2))\n",
    "print(append_to(3))\n",
    "# Si on applique la fonction à un élément mutable, comme ci-dessus, il sera modifié en dehors de la fonction\n",
    "print(append_to(\"d\", target=liste))\n",
    "print(liste)"
   ]
  },
  {
   "cell_type": "markdown",
   "id": "99d035c9",
   "metadata": {},
   "source": [
    "On peut voir qu'au lieu d'ajouter un unique élément à une liste vide, cette fonction ne fait qu'ajouter des éléments à l'objet mutable créé lors de la création de la fonction. Il est tout de même possible de contourner ce comportement pour avoir un comportement différent qui ajoute un élément à un objet mutable. Car dans ce cas là, l'élément mutable est créé à chaque appel de la fonction au lieu d'être créé lors de l'initialisation de la fonction."
   ]
  },
  {
   "cell_type": "code",
   "execution_count": null,
   "id": "2c0d1d7b",
   "metadata": {},
   "outputs": [],
   "source": [
    "def append_to(item, target=None):\n",
    "    \"\"\"\n",
    "    Adds a new element to the target variable\n",
    "    \"\"\"\n",
    "    if target == None:\n",
    "        target = []\n",
    "    target.append(item)\n",
    "    return target\n",
    "\n",
    "\n",
    "print(append_to(1))\n",
    "print(append_to(2))\n",
    "print(append_to(3))"
   ]
  },
  {
   "cell_type": "code",
   "execution_count": null,
   "id": "3ec43b29",
   "metadata": {},
   "outputs": [],
   "source": []
  }
 ],
 "metadata": {
  "kernelspec": {
   "display_name": "Python 3 (ipykernel)",
   "language": "python",
   "name": "python3"
  },
  "language_info": {
   "codemirror_mode": {
    "name": "ipython",
    "version": 3
   },
   "file_extension": ".py",
   "mimetype": "text/x-python",
   "name": "python",
   "nbconvert_exporter": "python",
   "pygments_lexer": "ipython3",
   "version": "3.9.13"
  }
 },
 "nbformat": 4,
 "nbformat_minor": 5
}
