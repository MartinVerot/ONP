{
 "cells": [
  {
   "cell_type": "markdown",
   "id": "6e2778a3",
   "metadata": {},
   "source": [
    "Le cahier est ici non exécuté, il faut le lancer en cliquant successivement sur les symboles en forme de flèche afin de voir le résultat des morceaux de code.\n",
    "\n",
    "Ce cahier Jupyter vient en complément du polycopié de cours qui est disponible ici : https://github.com/MartinVerot/ONP/blob/master/cours_python.pdf\n",
    "\n",
    "# Fonctions\n",
    "\n",
    "<span id=\"funcs\"></span>\n",
    "## arguments optionnels"
   ]
  },
  {
   "cell_type": "code",
   "execution_count": null,
   "id": "737983c1",
   "metadata": {},
   "outputs": [],
   "source": [
    "def func(x,y,z=0.,liste = None, extended = True):\n",
    "    if liste == None:\n",
    "        liste = []\n",
    "    liste.append(4)\n",
    "    return x,y,z,liste, extended\n",
    "#Les arguments optionnels sont lus dans l'ordre de la déclaration de la fonction\n",
    "print('x : {}, y :{}, z : {}, liste : {}, extended : {}'.format(*func(0,1,4)))\n",
    "print('x : {}, y :{}, z : {}, liste : {}, extended : {}'.format(*func(0,1,12.)))\n",
    "print('x : {}, y :{}, z : {}, liste : {}, extended : {}'.format(*func(0,1,4,[2,3])))\n",
    "#Ici, on peut voir que la liste a été prise à la place de la variable z et pas pour la variable 'liste'\n",
    "print('x : {}, y :{}, z : {}, liste : {}, extended : {}'.format(*func(0,1,[2,3])))\n",
    "#ici, le nommage a permis de \"sauter\" la déclaration de z\n",
    "print('x : {}, y :{}, z : {}, liste : {}, extended : {}'.format(*func(0,1,liste = [5,6])))"
   ]
  },
  {
   "cell_type": "markdown",
   "id": "f9915136",
   "metadata": {},
   "source": [
    "## \\* args"
   ]
  },
  {
   "cell_type": "code",
   "execution_count": null,
   "id": "3a4a9b32",
   "metadata": {},
   "outputs": [],
   "source": [
    "def func(liste,obj,*args):\n",
    "    \"\"\"Fonction similaire à extend : \n",
    "    ajoute obj à liste ainsi que tous les *args\"\"\"\n",
    "    liste.append(obj)\n",
    "    if len(args)>0:\n",
    "        liste.extend(args)\n",
    "    return liste\n",
    "\n",
    "print(func([],1))\n",
    "print(func([],1,3,4))"
   ]
  },
  {
   "cell_type": "markdown",
   "id": "4967dcea",
   "metadata": {},
   "source": [
    "## \\*\\*kwargs\n",
    "Dans ce cas, les arguments passés par mot-clé sont accessibles en tant que dictionnaire. Cela permet d'avoir plus de souplesse sur le nombre d'arguments nécessaires pour la fonction."
   ]
  },
  {
   "cell_type": "code",
   "execution_count": null,
   "id": "da041057",
   "metadata": {},
   "outputs": [],
   "source": [
    "import math\n",
    "def calc_volume(type_solide,**kwargs):\n",
    "    \"\"\"\n",
    "    Function that compute the volume of different solids\n",
    "    - type_solide correspond to the solid : 'sphere', 'cube', 'parallelipiped' are accepted\n",
    "      - for a sphere, the radius 'r' is required\n",
    "      - for a cube, its length 'a' is required\n",
    "      - for a parallelipiped the dimensions 'a', 'b' and 'c' are required\n",
    "    \"\"\"\n",
    "    if type_solide == 'sphere':\n",
    "        if 'r' in list(kwargs.keys()):\n",
    "            return 4/3*math.pi*kwargs['r']**3\n",
    "        else:\n",
    "            print('radius of sphere is missing')\n",
    "            return None\n",
    "    elif type_solide == 'cube':\n",
    "        if  'a' in list(kwargs.keys()):\n",
    "            return kwargs['a']**3\n",
    "        else:\n",
    "            print('length of cube is missing')\n",
    "            return None\n",
    "    elif type_solide == 'parallelipiped':\n",
    "        if  all(item in kwargs.keys() for item in ['a','b','c']):\n",
    "            return kwargs['a']*kwargs['b']*kwargs['c']\n",
    "        else:\n",
    "            print('at least one dimension of the paralellipipede is missing')\n",
    "            return None\n",
    "    else:\n",
    "        print('Unknown type of volume')\n",
    "        return None\n",
    "\n",
    "print(calc_volume('sphere',r = 12))\n",
    "print(calc_volume('sphere',a = 15))\n",
    "print(calc_volume('sphere',r = 12,a = 15))\n",
    "\n",
    "print(calc_volume('cube',a=15))\n",
    "print(calc_volume('parallelipiped', a = 15))\n",
    "print(calc_volume('parallelipiped',b=12,c=3, a = 15))"
   ]
  },
  {
   "cell_type": "markdown",
   "id": "cee34fe0",
   "metadata": {},
   "source": [
    "# Espace de nommage et fonctions"
   ]
  },
  {
   "cell_type": "code",
   "execution_count": null,
   "id": "04c82be0",
   "metadata": {},
   "outputs": [],
   "source": [
    "#contenu de l'espace de nommage built-in\n",
    "print(dir(__builtins__))"
   ]
  },
  {
   "cell_type": "code",
   "execution_count": null,
   "id": "7bac4793",
   "metadata": {},
   "outputs": [],
   "source": [
    "#contenu de l'espace de nommage globals\n",
    "print(globals())"
   ]
  },
  {
   "cell_type": "markdown",
   "id": "c06d6514",
   "metadata": {},
   "source": [
    "Un exemple pour différencier l'espace de nommage local et global, ce qui correspond au cas le plus courant. Ici, il y a une variable `x` dans deux espaces de nommage différent. En fonction de l'endroit où l'on est, des vraiables avec le même nom mais existant dans des espace de nommage différents sont utilisées. On voit ainsi que la variable utilisée dépend du contexte lors de son appel."
   ]
  },
  {
   "cell_type": "code",
   "execution_count": null,
   "id": "98b47862",
   "metadata": {},
   "outputs": [],
   "source": [
    "x = 3\n",
    "\n",
    "def func():\n",
    "    x = 4\n",
    "    print('x local  {}'.format(locals()['x']))\n",
    "    print('x global {}'.format(globals()['x']))\n",
    "    print('x dans la fonction {}'.format(x))\n",
    "func()\n",
    "print('x en dehors de la fonction {}'.format(x))"
   ]
  },
  {
   "cell_type": "markdown",
   "id": "54052806",
   "metadata": {},
   "source": [
    "Un exemple un peu plus complexe pour montrer qu'il est possible d'accéder à l'espace de nommage enclosing avec la librairie `inspect`."
   ]
  },
  {
   "cell_type": "code",
   "execution_count": null,
   "id": "0e675a7e",
   "metadata": {},
   "outputs": [],
   "source": [
    "import inspect\n",
    "x = 3 \n",
    "def outer_func():\n",
    "    x = 4\n",
    "    def inner_func():\n",
    "        x = 5\n",
    "        frame = inspect.currentframe()\n",
    "        print('x local     {}'.format(locals()['x']))\n",
    "        print('x enclosing {}'.format(frame.f_back.f_locals['x']))\n",
    "        print('x global    {}'.format(globals()['x']))\n",
    "    inner_func()\n",
    "    return None\n",
    "outer_func()"
   ]
  },
  {
   "cell_type": "markdown",
   "id": "ba1587d0",
   "metadata": {},
   "source": [
    "## Illustration des règles de portée\n",
    "\n",
    "Ici, la variable est définie à chaque niveau et on va donc utiliser la variable correspondant à l'espace de nommage le plus petit accessible."
   ]
  },
  {
   "cell_type": "code",
   "execution_count": null,
   "id": "c061666e",
   "metadata": {},
   "outputs": [],
   "source": [
    "x = 3 \n",
    "def outer_func():\n",
    "    \"\"\"\n",
    "    Fonction externe\n",
    "    \"\"\"\n",
    "    x = 4\n",
    "    def inner_func():\n",
    "        \"\"\"\n",
    "        Fonction interne\n",
    "        \"\"\"\n",
    "        x = 5\n",
    "        print('x au sein de la fonction interne     {}'.format(x))\n",
    "    inner_func()\n",
    "    print('x au sein de la fonction externe     {}'.format(x))\n",
    "    return None\n",
    "outer_func()\n",
    "print('x au sein du programme principal     {}'.format(x))"
   ]
  },
  {
   "cell_type": "markdown",
   "id": "3851b950",
   "metadata": {},
   "source": [
    "Ici, la variable n'est pas définie au niveau le plus petit et on va donc aller chercher sa valeur dans l'espace de nommage supérieur"
   ]
  },
  {
   "cell_type": "code",
   "execution_count": null,
   "id": "bbad6e12",
   "metadata": {},
   "outputs": [],
   "source": [
    "#Ici, au sein de inner_func on va s'arrêter au niveau enclosing qui est \n",
    "#le premier espace de nommage avec une variable `x` existante\n",
    "x = 3 \n",
    "def outer_func():\n",
    "    x = 4\n",
    "    def inner_func():\n",
    "        print('x au sein de la fonction interne     {}'.format(x))\n",
    "    inner_func()\n",
    "    print('x au sein de la fonction externe     {}'.format(x))\n",
    "    return None\n",
    "outer_func()\n",
    "print('x au sein du programme principal     {}'.format(x))"
   ]
  },
  {
   "cell_type": "code",
   "execution_count": null,
   "id": "66f120c3",
   "metadata": {},
   "outputs": [],
   "source": [
    "#Ici, au sein de inner_func on va aller jusqu'à l'espace de nommage global qui est \n",
    "#le premier espace de nommage avec une variable `x` existante\n",
    "x = 3 \n",
    "def outer_func():\n",
    "    def inner_func():\n",
    "        print('x au sein de la fonction interne     {}'.format(x))\n",
    "    inner_func()\n",
    "    print('x au sein de la fonction externe     {}'.format(x))\n",
    "    return None\n",
    "outer_func()\n",
    "print('x au sein du programme principal     {}'.format(x))"
   ]
  },
  {
   "cell_type": "code",
   "execution_count": null,
   "id": "c8749dc1",
   "metadata": {},
   "outputs": [],
   "source": []
  }
 ],
 "metadata": {
  "kernelspec": {
   "display_name": "Python 3 (ipykernel)",
   "language": "python",
   "name": "python3"
  },
  "language_info": {
   "codemirror_mode": {
    "name": "ipython",
    "version": 3
   },
   "file_extension": ".py",
   "mimetype": "text/x-python",
   "name": "python",
   "nbconvert_exporter": "python",
   "pygments_lexer": "ipython3",
   "version": "3.9.13"
  }
 },
 "nbformat": 4,
 "nbformat_minor": 5
}
