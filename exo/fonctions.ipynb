{
 "cells": [
  {
   "cell_type": "markdown",
   "id": "6e2778a3",
   "metadata": {},
   "source": [
    "Le cahier est ici non exécuté, il faut le lancer en cliquant successivement sur les symboles en forme de flèche afin de voir le résultat des morceaux de code.\n",
    "\n",
    "Ce cahier Jupyter vient en complément du polycopié de cours qui est disponible ici : https://github.com/MartinVerot/ONP/blob/master/cours_python.pdf\n",
    "\n",
    "# Fonctions\n",
    "\n",
    "<span id=\"funcs\"></span>\n",
    "## arguments optionnels"
   ]
  },
  {
   "cell_type": "code",
   "execution_count": null,
   "id": "737983c1",
   "metadata": {},
   "outputs": [],
   "source": [
    "def func(x,y,z=0.,liste = None, extended = True):\n",
    "    if liste == None:\n",
    "        liste = []\n",
    "    liste.append(4)\n",
    "    return x,y,z,liste, extended\n",
    "#Les arguments optionnels sont lus dans l'ordre de la déclaration de la fonction\n",
    "print('x : {}, y :{}, z : {}, liste : {}, extended : {}'.format(*func(0,1,4)))\n",
    "print('x : {}, y :{}, z : {}, liste : {}, extended : {}'.format(*func(0,1,12.)))\n",
    "print('x : {}, y :{}, z : {}, liste : {}, extended : {}'.format(*func(0,1,4,[2,3])))\n",
    "#Ici, on peut voir que la liste a été prise à la place de la variable z et pas pour la variable 'liste'\n",
    "print('x : {}, y :{}, z : {}, liste : {}, extended : {}'.format(*func(0,1,[2,3])))\n",
    "#ici, le nommage a permis de \"sauter\" la déclaration de z\n",
    "print('x : {}, y :{}, z : {}, liste : {}, extended : {}'.format(*func(0,1,liste = [5,6])))"
   ]
  },
  {
   "cell_type": "markdown",
   "id": "f9915136",
   "metadata": {},
   "source": [
    "## \\* args"
   ]
  },
  {
   "cell_type": "code",
   "execution_count": null,
   "id": "3a4a9b32",
   "metadata": {},
   "outputs": [],
   "source": [
    "def func(liste,obj,*args):\n",
    "    \"\"\"Fonction similaire à extend : \n",
    "    ajoute obj à liste ainsi que tous les *args\"\"\"\n",
    "    liste.append(obj)\n",
    "    if len(args)>0:\n",
    "        liste.extend(args)\n",
    "    return liste\n",
    "\n",
    "print(func([],1))\n",
    "print(func([],1,3,4))"
   ]
  },
  {
   "cell_type": "markdown",
   "id": "4967dcea",
   "metadata": {},
   "source": [
    "## \\*\\*kwargs\n",
    "Dans ce cas, les arguments passés par mot-clé sont accessibles en tant que dictionnaire. Cela permet d'avoir plus de souplesse sur le nombre d'arguments nécessaires pour la fonction."
   ]
  },
  {
   "cell_type": "code",
   "execution_count": null,
   "id": "da041057",
   "metadata": {},
   "outputs": [],
   "source": [
    "import math\n",
    "def calc_volume(type_solide,**kwargs):\n",
    "    \"\"\"\n",
    "    Function that compute the volume of different solids\n",
    "    - type_solide correspond to the solid : 'sphere', 'cube', 'parallelipiped' are accepted\n",
    "      - for a sphere, the radius 'r' is required\n",
    "      - for a cube, its length 'a' is required\n",
    "      - for a parallelipiped the dimensions 'a', 'b' and 'c' are required\n",
    "    \"\"\"\n",
    "    if type_solide == 'sphere':\n",
    "        if 'r' in list(kwargs.keys()):\n",
    "            return 4/3*math.pi*kwargs['r']**3\n",
    "        else:\n",
    "            print('radius of sphere is missing')\n",
    "            return None\n",
    "    elif type_solide == 'cube':\n",
    "        if  'a' in list(kwargs.keys()):\n",
    "            return kwargs['a']**3\n",
    "        else:\n",
    "            print('length of cube is missing')\n",
    "            return None\n",
    "    elif type_solide == 'parallelipiped':\n",
    "        if  all(item in kwargs.keys() for item in ['a','b','c']):\n",
    "            return kwargs['a']*kwargs['b']*kwargs['c']\n",
    "        else:\n",
    "            print('at least one dimension of the paralellipipede is missing')\n",
    "            return None\n",
    "    else:\n",
    "        print('Unknown type of volume')\n",
    "        return None\n",
    "\n",
    "print(calc_volume('sphere',r = 12))\n",
    "print(calc_volume('sphere',a = 15))\n",
    "print(calc_volume('sphere',r = 12,a = 15))\n",
    "\n",
    "print(calc_volume('cube',a=15))\n",
    "print(calc_volume('parallelipiped', a = 15))\n",
    "print(calc_volume('parallelipiped',b=12,c=3, a = 15))"
   ]
  },
  {
   "cell_type": "code",
   "execution_count": null,
   "id": "f48cd558",
   "metadata": {},
   "outputs": [],
   "source": []
  },
  {
   "cell_type": "code",
   "execution_count": null,
   "id": "04c82be0",
   "metadata": {},
   "outputs": [],
   "source": []
  }
 ],
 "metadata": {
  "kernelspec": {
   "display_name": "Python 3 (ipykernel)",
   "language": "python",
   "name": "python3"
  },
  "language_info": {
   "codemirror_mode": {
    "name": "ipython",
    "version": 3
   },
   "file_extension": ".py",
   "mimetype": "text/x-python",
   "name": "python",
   "nbconvert_exporter": "python",
   "pygments_lexer": "ipython3",
   "version": "3.9.13"
  }
 },
 "nbformat": 4,
 "nbformat_minor": 5
}
