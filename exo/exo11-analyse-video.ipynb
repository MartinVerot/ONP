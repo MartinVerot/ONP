{
 "cells": [
  {
   "cell_type": "markdown",
   "id": "882724ef",
   "metadata": {},
   "source": [
    "# Analyse d'une vidéo\n",
    "\n",
    "On se propose d'analyser la trajectoire d'un lancer de balle pour retrouver la valeur du champ de pesanteur. Pour cela, on cherche à effectuer un pointage automatique du ballon sur les images.\n",
    "\n",
    "La vidéo est à récupérer sur le portail des études : [Vidéo de mécanique](https://etudes.ens-lyon.fr/course/view.php?id=305#section-3). Elle a été enregistrée à 60 Hz. \n",
    "\n",
    "1. Ouvrir la vidéo avec la librairie opencv ( [Tutoriel](https://docs.opencv.org/3.4/dd/d43/tutorial_py_video_display.html) )\n",
    "\n",
    "Par la suite, nous nous intéresserons uniquement aux images 105 à 162. \n",
    "2. Modifier le code pour se limiter à ces images. (on peut utiliser l'option `cap.set(cv.CAP_PROP_POS_FRAMES, x)`, ou un simple compteur)\n",
    "\n",
    "3. Enregistrer les images une à une dans un répertoire intitulé `frames` (utiliser `os`) au format frame-0000.jpg, frame-0001.jpg, etc.\n",
    "\n",
    "On cherche maintenant à supprimer le fond de la vidéo qui est mobile (feuilles, lanceuse, panneau, sol, etc) \n",
    "\n",
    "4. Adapter le code du tutoriel de la méthode createBackgroundSubtractorMOG2 d'opencv ( [Tutoriel](https://www.ccoderun.ca/programming/doxygen/opencv/tutorial_background_subtraction.html) )  pour analyser les images sans avoir à relire systématiquement la vidéo à chaque test. Pour les options de la méthode, utiliser `history = 500, detectShadows = False`\n",
    "\n",
    "5. L'image est encore très bruitée à cause du mouvement des feuilles. Pour réduire le problème, on va appliquer un effet de flou gaussien. Le ballon étant suffisamment gros, la moyenne ne l'affectera pas. Utiliser la fonction `cv.blur` avec une taille adaptée pour réduire le bruit. [Tutoriel](https://docs.opencv.org/4.x/d4/d13/tutorial_py_filtering.html)\n",
    "\n",
    "L'image est moins bruitée, mais il reste encore les feuilles, on va maintenant enlever tous les pixels gris pour ne garder que le ballon.\n",
    "\n",
    "6. À l'aide de la fonction de seuillage `cv.threshold`, ajuster le seuil afin de ne garder quasiment plus que le ballon visible. [Tutoriel](https://docs.opencv.org/3.4/d7/d4d/tutorial_py_thresholding.html), utiliser l'option `cv.THRESH_BINARY` Enregistrer les images traitées sous un nom explicite (`frames/frame-treatead-0001.jpg` par exemple)\n",
    "\n",
    "Il faut maintenant détecter la position du ballon et son centre.\n",
    "\n",
    "7. Utiliser la fonction `cv.HoughCircles` pour trouver la position du ballon [Tutoriel](https://pyimagesearch.com/2014/07/21/detecting-circles-images-using-opencv-hough-circles/) [Tutoriel2](https://docs.opencv.org/4.x/da/d53/tutorial_py_houghcircles.html). Utiliser les options ` cv.HOUGH_GRADIENT, dp=1.5,param2=1, minDist = 200, minRadius = 2, maxRadius = 35`. Enregistrer les coordonnées ainsi obtenues dans un fichier csv avec la fonction `np.savetxt`. Attention, il peut arriver que la fonction détecte plus d'un cercle, dans ce cas, vérifier que la position n'a pas bougé de plus de 15 pixels en norme.\n",
    "\n",
    "8. La vidéo étant à 60 images par seconde, générer les abscisses temporelles pour chaque image. Tracer le suivi de x et y en fonction du temps.\n",
    "\n",
    "9. Enlever tous les résultats aberrants et les enregistrer en format `t,x,y`.\n",
    "\n",
    "10. Faire un fit polynomial de `y` en fonction du temps. Sachant que la règle attachée sur le poteau de basket fait deux mètres, en déduire la valeur du champs de pesanteur $\\vec{g}$.\n",
    "\n",
    "\n",
    "\n",
    "\n"
   ]
  },
  {
   "cell_type": "code",
   "execution_count": null,
   "id": "136eb898",
   "metadata": {},
   "outputs": [],
   "source": []
  }
 ],
 "metadata": {
  "kernelspec": {
   "display_name": "Python 3 (ipykernel)",
   "language": "python",
   "name": "python3"
  },
  "language_info": {
   "codemirror_mode": {
    "name": "ipython",
    "version": 3
   },
   "file_extension": ".py",
   "mimetype": "text/x-python",
   "name": "python",
   "nbconvert_exporter": "python",
   "pygments_lexer": "ipython3",
   "version": "3.9.13"
  }
 },
 "nbformat": 4,
 "nbformat_minor": 5
}
