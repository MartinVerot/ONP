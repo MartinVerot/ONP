{
 "cells": [
  {
   "cell_type": "markdown",
   "id": "a4938951",
   "metadata": {},
   "source": [
    "# Analyse statistique de données\n",
    "On rappelle que l'utilisation de boucles for est contre-productive, on verra à la fin de l'exercice que sur l'exemple traité, cela permet de diviser par ... 30 le temps de calcul.\n",
    "\n",
    "Utiliser le module stats de la librairie scipy qui est plus complet que ce que propose numpy.\n",
    "\n",
    "\n",
    "## Méthode Monte-Carlo\n",
    "\n",
    "On va ici chercher à voir si le produit de deux gaussiennes vérifie la formule de propagation utilisée en métrologie qui suppose que les incertitudes s'ajoutent de manière quadratique pour un produit.\n",
    "\n",
    "\n",
    "1. On va faire des tirages aléatoires sur une distribution normale. Pour cela, stocker dans un unique tableau le résultat de 100 séries d'une variables $x_1$ tirée 100000 fois selon une loi normale centrée en 5 d'écart-type 0,5. Utiliser 666 comme valeur de `seed`. Faire de même pour une autre variable $x_2$, gaussienne centrée en 3 d'écart-type égal à 2 avec la même valeur de `seed`.\n",
    "2. À partir de ces deux tableaux, former un nouveau tableau de shape (2,100,100000) qui réunisse les deux séries précédemment tirées (utiliser `np.stack`).\n",
    "3. Calculer la valeur moyenne et l'écart-type réduit de chacune des 2 variables pour chaque série de tirage.\n",
    "```\n",
    "#Moyenne \n",
    "(2, 100)\n",
    "[[4.99831363 5.00095389 4.99882227 4.99946498 4.99910262 4.99941696\n",
    "...]\n",
    " [2.99325451 3.00381557 2.99528909 2.99785993 2.99641048 2.99766785\n",
    "...]]\n",
    "#Ecart-type\n",
    "(2, 100)\n",
    "[[0.49941883 0.50030344 0.50065563 0.50140685 0.49890905 0.49965782\n",
    "...]\n",
    " [1.99767533 2.00121375 2.00262253 2.00562739 1.9956362  1.99863129\n",
    "...]]\n",
    "```\n",
    "4. Calculer l'incertitude-type et l'écart-type moyen (moyenne sur $j$) du produit $z=x_{1,i,j}\\times x_{2,i,j}$  des deux variables pour chacune des 100 séries (indice $i$) de 100000 valeurs (indice $j$).\n",
    "```\n",
    "#Pour le produit\n",
    "Moyenne\n",
    "(100,)\n",
    "[15.9588915  16.02314728 15.97553202 15.993321   15.97499448 15.98521324\n",
    "...]\n",
    "Écart-type\n",
    "(100,)\n",
    "[11.55840444 11.59059043 11.59756792 11.62063695 11.55781048 11.5985742\n",
    "...]\n",
    "```\n",
    "5. Pour le premier tirage, tracer la distribution obtenue avec `plt.hist` en utilisant 101 corbeilles et la comparer à celle obtenue pour la gaussienne centrée en 15 et d'écart-type égal à celui calculé.\n",
    "\n",
    "![prodgauss.svg](prodgauss.svg)\n",
    "\n",
    "6. Pour le premier tirage, on cherche à exprimer le résultat sous la forme $z=z_0 \\pm k u_z (XXX \\%)$ avec $z_0$ la valeur moyenne et on cherche à avoir le lien entre $k$ et l'intervalle de confiance $XX$. Écrire une fonction qui permet de compter la fraction des résultats compris dans l'intervalle $z_0 \\pm k u_z$ en fonction de $k$ ($k$ allant de 0 à 5, 101 valeurs) et donc de retourner l'intervalle de confiance associé. Pour cela, commencer par utiliser une fonction qui utilise le masking pour faire le décompte de la fraction des résultats compris dans l'intervalle. Puis vectoriser la fonction avec `np.vectorize` pour éviter l'utilisation de boucle for. \n",
    "\n",
    "7. Comparer le résultat avec celui obtenu pour une gaussienne ayant la même valeur moyenne et le même écart-type que celui de la distribution. Pour celà, utiliser la méthode `cdf` de `norm`.\n",
    "\n",
    "![intervalle-confiance.svg](intervalle-confiance.svg)\n",
    "\n",
    "\n",
    "8. À l'aide d'une nouvelle fonction vectorisée, recommencer le calcul mais pour toutes les séries (il faudra probablement faire des reshape pour rendre les tableaux broadcastables. Calculer la moyenne et afficher l'écart entre l'intervalle de confiance trouvé pour chaque série et l'intervalle de confiance moyen.\n",
    "\n",
    "![intervalle-confiance_full.svg](intervalle-confiance_full.svg)\n",
    "\n",
    "\n",
    "9. Comparer le temps d'éxecution de la fonction vectorisée utilisée question 8 et d'une version utilisant une triple boucle for (boucle sur chaque série, chaque valeur de k, chaque tirage) avec condition if explicite pour obtenir le tableau. Pour cela, utiliser la librairie timeit en répétant **uniquement 10 fois** la mesure pour le code vectorisé et une seule fois pour le code non optimisé. \n",
    "*Sur ma machine, j'ai un temps d'exécution pour la fonction optimisée d'environ 30 secondes (donc 5/6 minutes à attendre pour 10 exécutions) et de 840 secondes pour la fonction non optimisée (environ 15 minutes pour 1 seule exécution). Le gain est donc d'un facteur 30 sur cet exemple simple. (on a un gain d'un facteur 10 pour des séries de 1000 tirage (1s/10s) et d'un facteur 30 pour des séries de 10 000 tirages (3,5s/100s))*"
   ]
  },
  {
   "cell_type": "code",
   "execution_count": null,
   "id": "577730b8",
   "metadata": {},
   "outputs": [],
   "source": []
  },
  {
   "cell_type": "code",
   "execution_count": null,
   "id": "f42b0e94",
   "metadata": {},
   "outputs": [],
   "source": []
  }
 ],
 "metadata": {
  "kernelspec": {
   "display_name": "Python 3 (ipykernel)",
   "language": "python",
   "name": "python3"
  },
  "language_info": {
   "codemirror_mode": {
    "name": "ipython",
    "version": 3
   },
   "file_extension": ".py",
   "mimetype": "text/x-python",
   "name": "python",
   "nbconvert_exporter": "python",
   "pygments_lexer": "ipython3",
   "version": "3.9.13"
  }
 },
 "nbformat": 4,
 "nbformat_minor": 5
}
