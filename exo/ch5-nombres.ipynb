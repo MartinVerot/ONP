{
 "cells": [
  {
   "cell_type": "markdown",
   "id": "1e26b1ea",
   "metadata": {},
   "source": [
    "Le cahier est ici non exécuté, il faut le lancer en cliquant successivement sur les symboles en forme de flèche afin de voir le résultat des morceaux de code.\n",
    "\n",
    "\n",
    "Ce cahier Jupyter vient **en complément** du polycopié de cours qui est disponible ici :\n",
    "https://github.com/MartinVerot/ONP/blob/master/cours_python.pdf\n",
    "\n",
    "\n",
    "# Nombres\n",
    "\n",
    "<span id=\"nombres\"></span>\n",
    "## Entiers vs nombres flottants\n",
    "\n",
    "On peut voir ici qu'en fonction de la manière dont on a déclaré la variable, le résultat est différent."
   ]
  },
  {
   "cell_type": "code",
   "execution_count": null,
   "id": "20370fe5",
   "metadata": {},
   "outputs": [],
   "source": [
    "a = 3\n",
    "b = 3.0\n",
    "print(a, type(a))\n",
    "print(b, type(b))"
   ]
  },
  {
   "cell_type": "markdown",
   "id": "e8bc8176",
   "metadata": {},
   "source": [
    "Cela peut alors avoir des conséquences par la suite sur les opérations possibles ou non avec les variables."
   ]
  },
  {
   "cell_type": "code",
   "execution_count": null,
   "id": "1293da30",
   "metadata": {},
   "outputs": [],
   "source": [
    "# a étant entier, l'opération est possible\n",
    "for indix in range(a):\n",
    "    print(indix)"
   ]
  },
  {
   "cell_type": "code",
   "execution_count": null,
   "id": "3d2af6f6",
   "metadata": {},
   "outputs": [],
   "source": [
    "# b étant un flottant, cela engendre une erreur\n",
    "for indix in range(b):\n",
    "    print(indix)"
   ]
  },
  {
   "cell_type": "code",
   "execution_count": null,
   "id": "c8d79b63",
   "metadata": {
    "scrolled": false
   },
   "outputs": [],
   "source": [
    "# Après une conversion de type, la fonction s'éxecute correctement\n",
    "for indix in range(int(b)):\n",
    "    print(indix)"
   ]
  },
  {
   "cell_type": "markdown",
   "id": "7941ecd1",
   "metadata": {},
   "source": [
    "# Division\n",
    "<span id=\"division\"></span>La division peut être entière ou non"
   ]
  },
  {
   "cell_type": "code",
   "execution_count": null,
   "id": "f00d88c2",
   "metadata": {},
   "outputs": [],
   "source": [
    "a = 2\n",
    "b = 5\n",
    "# Division flottante, marche avec des entiers\n",
    "print(b / a)\n",
    "print(type(b / a))\n",
    "# Division entière qui donne le quotient\n",
    "print(b // a)\n",
    "print(type(b // a))\n",
    "# Pour obtenir le reste\n",
    "print(b % a)"
   ]
  },
  {
   "cell_type": "markdown",
   "id": "995484b2",
   "metadata": {},
   "source": [
    "# Arithmétique en nombre flottant et approximations\n",
    "<span id=\"arithfloat\"></span>\n",
    "\n",
    "## une égalité non vérifiée\n",
    "Il faut **TOUJOURS** être conscient que la représentation d'un nombre flottant peut amener à des erreurs d'arrondis ou des problèmes de comparaison."
   ]
  },
  {
   "cell_type": "code",
   "execution_count": null,
   "id": "98037f9e",
   "metadata": {},
   "outputs": [],
   "source": [
    "# 3*0.3 n'est pas égal à 0.9\n",
    "print(0.3 + 0.3 + 0.3 == 0.9)"
   ]
  },
  {
   "cell_type": "markdown",
   "id": "ca78d559",
   "metadata": {},
   "source": [
    "Le package decimal permet d'identifier le souci en affichant explicitement la valeur réellement stockées en mémoire par python."
   ]
  },
  {
   "cell_type": "code",
   "execution_count": null,
   "id": "4faa9f9c",
   "metadata": {},
   "outputs": [],
   "source": [
    "from decimal import Decimal\n",
    "\n",
    "print(Decimal.from_float(0.3 + 0.3 + 0.3))\n",
    "print(Decimal.from_float(0.9))"
   ]
  },
  {
   "cell_type": "markdown",
   "id": "fddbe936",
   "metadata": {},
   "source": [
    "## une variance négative\n",
    "\n",
    "Un exemple de calcul de la variance qui donne une variance ... négative. [tiré d'une page de blog de Julia Evans](https://jvns.ca/blog/2023/01/13/examples-of-floating-point-problems/).\n",
    "\n",
    "On peut suivre une implémentation naïve pour calculer la variance réduite :\n",
    "$$ V(x) = \\dfrac{1}{N-1} \\sum_i (x_i - \\bar{x})^2 =  \\dfrac{1}{N-1} \\left( \\sum_i x_i^2\\right) -  \\dfrac{N}{N-1}\\bar{x}^2$$ \n",
    "où $\\bar{x}$ est la moyenne des points $\\{x_i\\}$ et $N$ est le nombre de points considérés.\n"
   ]
  },
  {
   "cell_type": "code",
   "execution_count": null,
   "id": "b8a24574",
   "metadata": {},
   "outputs": [],
   "source": [
    "import numpy as np\n",
    "\n",
    "# Implémentation de la formule donnée ci-dessous qui peut donner des résultats catastrophiques\n",
    "def calculate_bad_variance(nums):\n",
    "    sum_of_squares = 0\n",
    "    sum_of_nums = 0\n",
    "    N = len(nums)\n",
    "    for num in nums:\n",
    "        sum_of_squares += num**2\n",
    "        sum_of_nums += num\n",
    "    mean = sum_of_nums / N\n",
    "    variance = (sum_of_squares - N * mean**2) / (N - 1)\n",
    "    return variance\n",
    "\n",
    "\n",
    "# Un exemple où « ça se passe bien »\n",
    "values = [0.1, 0.3, 0.6, 7.0, 0.003, -0.24]\n",
    "print(\n",
    "    \"« Mauvais » calcul de la variance réduite  : {}\".format(\n",
    "        calculate_bad_variance(values)\n",
    "    )\n",
    ")\n",
    "print(\n",
    "    \"Meilleur calcul de la variance réduite     : {}\".format(\n",
    "        np.std(values, ddof=1) ** 2\n",
    "    )\n",
    ")\n",
    "# création de 100000 valeurs comprises entre 1e9 et 1e9+0.06\n",
    "np.random.seed(45)\n",
    "values = np.random.uniform(100000000, 100000000.06, 100000)\n",
    "print(\n",
    "    \"« Mauvais » calcul de la variance réduite  : {}\".format(\n",
    "        calculate_bad_variance(values)\n",
    "    )\n",
    ")\n",
    "print(\n",
    "    \"Meilleur calcul de la variance réduite     : {}\".format(\n",
    "        np.std(values, ddof=1) ** 2\n",
    "    )\n",
    ")"
   ]
  },
  {
   "cell_type": "markdown",
   "id": "d9f18bbe",
   "metadata": {},
   "source": [
    "On peut voir qu'avec l'implémentation naïve de la variance, **qui est strictement positive par définition**, *on peut arriver à trouver une grandeur négative*...\n",
    "\n",
    "Une des origines du problème est de mélanger des nombres qui ont plusieurs ordres de grandeur d'écart (1e9 par rapport à 6e-2)."
   ]
  }
 ],
 "metadata": {
  "kernelspec": {
   "display_name": "Python 3 (ipykernel)",
   "language": "python",
   "name": "python3"
  },
  "language_info": {
   "codemirror_mode": {
    "name": "ipython",
    "version": 3
   },
   "file_extension": ".py",
   "mimetype": "text/x-python",
   "name": "python",
   "nbconvert_exporter": "python",
   "pygments_lexer": "ipython3",
   "version": "3.9.13"
  }
 },
 "nbformat": 4,
 "nbformat_minor": 5
}
