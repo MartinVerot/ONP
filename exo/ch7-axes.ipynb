{
 "cells": [
  {
   "cell_type": "markdown",
   "id": "82574c2d",
   "metadata": {},
   "source": [
    "# Notion d'axe\n",
    "\n",
    "Pour une fonction, il est possible de préciser des axes pour préciser sur quels axes il faut effectuer l'opération.\n",
    "\n",
    "![cube2.svg](cube2.svg)"
   ]
  },
  {
   "cell_type": "code",
   "execution_count": 11,
   "id": "9edd524b",
   "metadata": {},
   "outputs": [
    {
     "name": "stdout",
     "output_type": "stream",
     "text": [
      "[[[  0   1   2   3   4   5   6]\n",
      "  [  7   8   9  10  11  12  13]\n",
      "  [ 14  15  16  17  18  19  20]\n",
      "  [ 21  22  23  24  25  26  27]]\n",
      "\n",
      " [[ 28  29  30  31  32  33  34]\n",
      "  [ 35  36  37  38  39  40  41]\n",
      "  [ 42  43  44  45  46  47  48]\n",
      "  [ 49  50  51  52  53  54  55]]\n",
      "\n",
      " [[ 56  57  58  59  60  61  62]\n",
      "  [ 63  64  65  66  67  68  69]\n",
      "  [ 70  71  72  73  74  75  76]\n",
      "  [ 77  78  79  80  81  82  83]]\n",
      "\n",
      " [[ 84  85  86  87  88  89  90]\n",
      "  [ 91  92  93  94  95  96  97]\n",
      "  [ 98  99 100 101 102 103 104]\n",
      "  [105 106 107 108 109 110 111]]\n",
      "\n",
      " [[112 113 114 115 116 117 118]\n",
      "  [119 120 121 122 123 124 125]\n",
      "  [126 127 128 129 130 131 132]\n",
      "  [133 134 135 136 137 138 139]]]\n"
     ]
    }
   ],
   "source": [
    "import numpy as np\n",
    "a = np.arange(5*4*7).reshape((5,4,7))\n",
    "print(a)"
   ]
  },
  {
   "cell_type": "markdown",
   "id": "79b4a82b",
   "metadata": {},
   "source": [
    "Pour la fonction somme, il est par exemple possible de l'appliquer à tout le tableau :"
   ]
  },
  {
   "cell_type": "code",
   "execution_count": 12,
   "id": "5036756d",
   "metadata": {},
   "outputs": [
    {
     "name": "stdout",
     "output_type": "stream",
     "text": [
      "9730\n"
     ]
    }
   ],
   "source": [
    "print(np.sum(a)) "
   ]
  },
  {
   "cell_type": "markdown",
   "id": "c9878fa0",
   "metadata": {},
   "source": [
    "On retrouve alors la formule de la somme des $n=139$ premiers entiers : \n",
    "    $$S = \\dfrac{n(n+1)}{2} = 139\\times30 = 9730$$"
   ]
  },
  {
   "cell_type": "markdown",
   "id": "29176db5",
   "metadata": {},
   "source": [
    "Mais on pourrait aussi vouloir faire une sommation uniquement selon le dernier axe (celui de shape 7), ou autrement dit selon une « ligne » du cube.\n",
    "\n",
    "![lines2.svg](lines2.svg)"
   ]
  },
  {
   "cell_type": "code",
   "execution_count": 14,
   "id": "968634ee",
   "metadata": {},
   "outputs": [
    {
     "name": "stdout",
     "output_type": "stream",
     "text": [
      "(5, 4)\n",
      "[[ 21  70 119 168]\n",
      " [217 266 315 364]\n",
      " [413 462 511 560]\n",
      " [609 658 707 756]\n",
      " [805 854 903 952]]\n"
     ]
    }
   ],
   "source": [
    "sum_last_axis = np.sum(a,axis = -1)\n",
    "print(sum_last_axis.shape)\n",
    "print(sum_last_axis)"
   ]
  },
  {
   "cell_type": "markdown",
   "id": "edd09a0e",
   "metadata": {},
   "source": [
    "On se retrouve alors avec un nouveau tableau pour lequel on a sommé les éléments selon le dernier axe. Pour un cube, après avoir effectué cette sommation, on se retouve alors avec « seulement » une matrice et on a perdu une dimension.\n",
    "\n",
    "Il est également possible de faire la sommation sur plusieurs axes (ici, selon un plan du cube) :\n",
    "\n",
    "![planes2.svg](planes2.svg)"
   ]
  },
  {
   "cell_type": "code",
   "execution_count": 15,
   "id": "482ab201",
   "metadata": {},
   "outputs": [
    {
     "name": "stdout",
     "output_type": "stream",
     "text": [
      "(5,)\n",
      "[ 378 1162 1946 2730 3514]\n"
     ]
    }
   ],
   "source": [
    "sum_last_axes = np.sum(a,axis = (1,2))\n",
    "print(sum_last_axes.shape)\n",
    "print(sum_last_axes)"
   ]
  },
  {
   "cell_type": "markdown",
   "id": "e91fe554",
   "metadata": {},
   "source": [
    "On se retouve alors avec seulement un vecteur qui correspond à la somme des éléments dans la ligne de `sum_last_axis`."
   ]
  },
  {
   "cell_type": "code",
   "execution_count": null,
   "id": "b4e1cc4a",
   "metadata": {},
   "outputs": [],
   "source": []
  }
 ],
 "metadata": {
  "kernelspec": {
   "display_name": "Python 3 (ipykernel)",
   "language": "python",
   "name": "python3"
  },
  "language_info": {
   "codemirror_mode": {
    "name": "ipython",
    "version": 3
   },
   "file_extension": ".py",
   "mimetype": "text/x-python",
   "name": "python",
   "nbconvert_exporter": "python",
   "pygments_lexer": "ipython3",
   "version": "3.9.13"
  }
 },
 "nbformat": 4,
 "nbformat_minor": 5
}
