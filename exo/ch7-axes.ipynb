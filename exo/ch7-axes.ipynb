{
 "cells": [
  {
   "cell_type": "markdown",
   "id": "82574c2d",
   "metadata": {},
   "source": [
    "# Notion d'axe\n",
    "\n",
    "Pour une fonction, il est possible de préciser des axes pour préciser sur quels axes il faut effectuer l'opération.\n",
    "\n",
    "![cube2.svg](cube2.svg)"
   ]
  },
  {
   "cell_type": "code",
   "execution_count": 1,
   "id": "9edd524b",
   "metadata": {},
   "outputs": [
    {
     "name": "stdout",
     "output_type": "stream",
     "text": [
      "[[[  0   1   2   3   4   5   6]\n",
      "  [  7   8   9  10  11  12  13]\n",
      "  [ 14  15  16  17  18  19  20]\n",
      "  [ 21  22  23  24  25  26  27]]\n",
      "\n",
      " [[ 28  29  30  31  32  33  34]\n",
      "  [ 35  36  37  38  39  40  41]\n",
      "  [ 42  43  44  45  46  47  48]\n",
      "  [ 49  50  51  52  53  54  55]]\n",
      "\n",
      " [[ 56  57  58  59  60  61  62]\n",
      "  [ 63  64  65  66  67  68  69]\n",
      "  [ 70  71  72  73  74  75  76]\n",
      "  [ 77  78  79  80  81  82  83]]\n",
      "\n",
      " [[ 84  85  86  87  88  89  90]\n",
      "  [ 91  92  93  94  95  96  97]\n",
      "  [ 98  99 100 101 102 103 104]\n",
      "  [105 106 107 108 109 110 111]]\n",
      "\n",
      " [[112 113 114 115 116 117 118]\n",
      "  [119 120 121 122 123 124 125]\n",
      "  [126 127 128 129 130 131 132]\n",
      "  [133 134 135 136 137 138 139]]]\n"
     ]
    }
   ],
   "source": [
    "import numpy as np\n",
    "\n",
    "a = np.arange(5 * 4 * 7).reshape((5, 4, 7))\n",
    "print(a)"
   ]
  },
  {
   "cell_type": "markdown",
   "id": "79b4a82b",
   "metadata": {},
   "source": [
    "Pour la fonction somme, il est par exemple possible de l'appliquer à tout le tableau :"
   ]
  },
  {
   "cell_type": "code",
   "execution_count": 2,
   "id": "5036756d",
   "metadata": {},
   "outputs": [
    {
     "name": "stdout",
     "output_type": "stream",
     "text": [
      "9730\n"
     ]
    }
   ],
   "source": [
    "print(np.sum(a))"
   ]
  },
  {
   "cell_type": "markdown",
   "id": "c9878fa0",
   "metadata": {},
   "source": [
    "On retrouve alors la formule de la somme des $n=139$ premiers entiers : \n",
    "    $$S = \\dfrac{n(n+1)}{2} = 139\\times30 = 9730$$"
   ]
  },
  {
   "cell_type": "markdown",
   "id": "29176db5",
   "metadata": {},
   "source": [
    "Mais on pourrait aussi vouloir faire une sommation uniquement selon le dernier axe (celui de shape 7), ou autrement dit selon une « ligne » du cube.\n",
    "\n",
    "![lines2.svg](lines2.svg)"
   ]
  },
  {
   "cell_type": "code",
   "execution_count": 3,
   "id": "968634ee",
   "metadata": {},
   "outputs": [
    {
     "name": "stdout",
     "output_type": "stream",
     "text": [
      "(5, 4)\n",
      "[[ 21  70 119 168]\n",
      " [217 266 315 364]\n",
      " [413 462 511 560]\n",
      " [609 658 707 756]\n",
      " [805 854 903 952]]\n"
     ]
    }
   ],
   "source": [
    "sum_last_axis = np.sum(a, axis=-1)\n",
    "print(sum_last_axis.shape)\n",
    "print(sum_last_axis)"
   ]
  },
  {
   "cell_type": "markdown",
   "id": "edd09a0e",
   "metadata": {},
   "source": [
    "On se retrouve alors avec un nouveau tableau pour lequel on a sommé les éléments selon le dernier axe. Pour un cube, après avoir effectué cette sommation, on se retouve alors avec « seulement » une matrice et on a perdu une dimension.\n",
    "\n",
    "Il est également possible de faire la sommation sur plusieurs axes (ici, selon un plan du cube) :\n",
    "\n",
    "![planes2.svg](planes2.svg)"
   ]
  },
  {
   "cell_type": "code",
   "execution_count": 4,
   "id": "482ab201",
   "metadata": {},
   "outputs": [
    {
     "name": "stdout",
     "output_type": "stream",
     "text": [
      "(5,)\n",
      "[ 378 1162 1946 2730 3514]\n"
     ]
    }
   ],
   "source": [
    "sum_last_axes = np.sum(a, axis=(1, 2))\n",
    "print(sum_last_axes.shape)\n",
    "print(sum_last_axes)"
   ]
  },
  {
   "cell_type": "markdown",
   "id": "e91fe554",
   "metadata": {},
   "source": [
    "On se retouve alors avec seulement un vecteur qui correspond à la somme des éléments dans la ligne de `sum_last_axis`.\n",
    "\n",
    "## Rendre le résultat de l'opération selon un axe broadcastable\n",
    "\n",
    "L'objet retourné n'a en général ni la même dimension ni le même shape que l'objet de déppart. Ce qui peut rendre impossible le broadcasting. La plupart des fonctions permettent de garder le nombre de dimensions avec l'option `keepdims = True`."
   ]
  },
  {
   "cell_type": "code",
   "execution_count": 5,
   "id": "b4e1cc4a",
   "metadata": {},
   "outputs": [
    {
     "name": "stdout",
     "output_type": "stream",
     "text": [
      "[ 13.5  41.5  69.5  97.5 125.5]\n",
      "(5,)\n"
     ]
    }
   ],
   "source": [
    "# Calcul de la moyenne dans chacun des plans sur les axes 1 et 2\n",
    "averages_axes12 = np.average(a, axis=(1, 2))\n",
    "print(averages_axes12)\n",
    "print(averages_axes12.shape)"
   ]
  },
  {
   "cell_type": "markdown",
   "id": "9befe976",
   "metadata": {},
   "source": [
    "Si on veut maintenant calculer chaque élément moins la moyenne dans le plan correspondant aux axes 1 et 2, il va y avoir une erreur de broadcasting."
   ]
  },
  {
   "cell_type": "code",
   "execution_count": 6,
   "id": "f0f33446",
   "metadata": {},
   "outputs": [
    {
     "ename": "ValueError",
     "evalue": "operands could not be broadcast together with shapes (5,4,7) (5,) ",
     "output_type": "error",
     "traceback": [
      "\u001b[0;31m---------------------------------------------------------------------------\u001b[0m",
      "\u001b[0;31mValueError\u001b[0m                                Traceback (most recent call last)",
      "\u001b[0;32m/tmp/ipykernel_303351/1997282277.py\u001b[0m in \u001b[0;36m<module>\u001b[0;34m\u001b[0m\n\u001b[1;32m      1\u001b[0m \u001b[0;31m#erreur de boradcasting car les dimensions ne sont pas compatibles\u001b[0m\u001b[0;34m\u001b[0m\u001b[0;34m\u001b[0m\u001b[0m\n\u001b[0;32m----> 2\u001b[0;31m \u001b[0mprint\u001b[0m\u001b[0;34m(\u001b[0m\u001b[0ma\u001b[0m\u001b[0;34m-\u001b[0m\u001b[0maverages_axes12\u001b[0m\u001b[0;34m)\u001b[0m\u001b[0;34m\u001b[0m\u001b[0;34m\u001b[0m\u001b[0m\n\u001b[0m",
      "\u001b[0;31mValueError\u001b[0m: operands could not be broadcast together with shapes (5,4,7) (5,) "
     ]
    }
   ],
   "source": [
    "# erreur de boradcasting car les dimensions ne sont pas compatibles\n",
    "print(a - averages_axes12)"
   ]
  },
  {
   "cell_type": "code",
   "execution_count": 9,
   "id": "b5efcc7e",
   "metadata": {},
   "outputs": [
    {
     "name": "stdout",
     "output_type": "stream",
     "text": [
      "[[[ 13.5]]\n",
      "\n",
      " [[ 41.5]]\n",
      "\n",
      " [[ 69.5]]\n",
      "\n",
      " [[ 97.5]]\n",
      "\n",
      " [[125.5]]]\n",
      "(5, 1, 1)\n",
      "[[[-13.5 -12.5 -11.5 -10.5  -9.5  -8.5  -7.5]\n",
      "  [ -6.5  -5.5  -4.5  -3.5  -2.5  -1.5  -0.5]\n",
      "  [  0.5   1.5   2.5   3.5   4.5   5.5   6.5]\n",
      "  [  7.5   8.5   9.5  10.5  11.5  12.5  13.5]]\n",
      "\n",
      " [[-13.5 -12.5 -11.5 -10.5  -9.5  -8.5  -7.5]\n",
      "  [ -6.5  -5.5  -4.5  -3.5  -2.5  -1.5  -0.5]\n",
      "  [  0.5   1.5   2.5   3.5   4.5   5.5   6.5]\n",
      "  [  7.5   8.5   9.5  10.5  11.5  12.5  13.5]]\n",
      "\n",
      " [[-13.5 -12.5 -11.5 -10.5  -9.5  -8.5  -7.5]\n",
      "  [ -6.5  -5.5  -4.5  -3.5  -2.5  -1.5  -0.5]\n",
      "  [  0.5   1.5   2.5   3.5   4.5   5.5   6.5]\n",
      "  [  7.5   8.5   9.5  10.5  11.5  12.5  13.5]]\n",
      "\n",
      " [[-13.5 -12.5 -11.5 -10.5  -9.5  -8.5  -7.5]\n",
      "  [ -6.5  -5.5  -4.5  -3.5  -2.5  -1.5  -0.5]\n",
      "  [  0.5   1.5   2.5   3.5   4.5   5.5   6.5]\n",
      "  [  7.5   8.5   9.5  10.5  11.5  12.5  13.5]]\n",
      "\n",
      " [[-13.5 -12.5 -11.5 -10.5  -9.5  -8.5  -7.5]\n",
      "  [ -6.5  -5.5  -4.5  -3.5  -2.5  -1.5  -0.5]\n",
      "  [  0.5   1.5   2.5   3.5   4.5   5.5   6.5]\n",
      "  [  7.5   8.5   9.5  10.5  11.5  12.5  13.5]]]\n"
     ]
    }
   ],
   "source": [
    "averages_axes12dims = np.mean(np.array(a), keepdims=True, axis=(1, 2))\n",
    "print(averages_axes12dims)\n",
    "# Le shape est maintenant broadcastable\n",
    "print(averages_axes12dims.shape)\n",
    "# Maintenant, ça marche !\n",
    "print(a - averages_axes12dims)"
   ]
  },
  {
   "cell_type": "code",
   "execution_count": null,
   "id": "05cba926",
   "metadata": {},
   "outputs": [],
   "source": []
  }
 ],
 "metadata": {
  "kernelspec": {
   "display_name": "Python 3 (ipykernel)",
   "language": "python",
   "name": "python3"
  },
  "language_info": {
   "codemirror_mode": {
    "name": "ipython",
    "version": 3
   },
   "file_extension": ".py",
   "mimetype": "text/x-python",
   "name": "python",
   "nbconvert_exporter": "python",
   "pygments_lexer": "ipython3",
   "version": "3.9.13"
  }
 },
 "nbformat": 4,
 "nbformat_minor": 5
}
