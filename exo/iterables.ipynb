{
 "cells": [
  {
   "cell_type": "markdown",
   "id": "c5dbdf15",
   "metadata": {},
   "source": [
    "Le cahier est ici non exécuté, il faut le lancer en cliquant successivement sur les symboles en forme de flèche afin de voir le résultat des morceaux de code.\n",
    "\n",
    "Ce cahier Jupyter vient en complément du polycopié de cours qui est disponible ici : https://github.com/MartinVerot/ONP/blob/master/cours_python.pdf\n",
    "\n",
    "\n",
    "# Listes"
   ]
  },
  {
   "cell_type": "markdown",
   "id": "a79ef6b1",
   "metadata": {},
   "source": [
    "### Différence entre append et extend"
   ]
  },
  {
   "cell_type": "code",
   "execution_count": null,
   "id": "2d9bb2b8",
   "metadata": {},
   "outputs": [],
   "source": [
    "# Avec append on ajoute UN nouvel élement qui est une liste\n",
    "l = [0, 1, 2]\n",
    "l2 = [4, 5, 6]\n",
    "l.append(l2)\n",
    "print(\"append\", l)\n",
    "# Avec extend on ajoute PLUSIEURS nouveaux élements qui sont ceux de la liste (ou plus généralement de l'objet itérable)\n",
    "l = [0, 1, 2]\n",
    "l2 = [4, 5, 6]\n",
    "l.extend(l2)\n",
    "print(\"extend\", l)\n",
    "# Avec une étoile :\n",
    "l = [0, 1, 2]\n",
    "l2 = [4, 5, 6]\n",
    "l = l + l2  # crée une nouvelle liste intermédiaire, donc plus gourmand en mémoire\n",
    "print(\"caténation\", l)"
   ]
  },
  {
   "cell_type": "markdown",
   "id": "d0cef40f",
   "metadata": {},
   "source": [
    "# Dictionnaire\n",
    "\n",
    "Création d'un dictionnaire."
   ]
  },
  {
   "cell_type": "code",
   "execution_count": null,
   "id": "0e519b69",
   "metadata": {},
   "outputs": [],
   "source": [
    "dictionnaire = {\"nom\": \"John\", \"prenom\": \"Doe\"}\n",
    "print(dictionnaire)"
   ]
  },
  {
   "cell_type": "markdown",
   "id": "be7f4f68",
   "metadata": {},
   "source": [
    "Une mauvaise manière de créer un ensemble de dictionnaires car la structure des dictionnaires n'est pas reproductible, ni lisible, de plus il pourrait y avoir des duplicatas de clés :"
   ]
  },
  {
   "cell_type": "code",
   "execution_count": null,
   "id": "953d1947",
   "metadata": {},
   "outputs": [],
   "source": [
    "bad_dict_list = [\n",
    "    {\"Harry Potter à l'école des sorciers\": \"J. K. Rowling\"},\n",
    "    {\"Harry Potter et la Chambre des secrets\": \"J. K. Rowling\"},\n",
    "    {\"Harry Potter et le Prisonnier d'Azkaban\": \"J. K. Rowling\"},\n",
    "    {\"Harry Potter et la Coupe de feu\": \"J. K. Rowling\"},\n",
    "    {\"Harry Potter et l'Ordre du Phénix\": \"J. K. Rowling\"},\n",
    "    {\"Harry Potter et le Prince de sang-mêlé\": \"J. K. Rowling\"},\n",
    "    {\"Harry Potter et les Reliques de la Mort\": \"J. K. Rowling\"},\n",
    "]\n",
    "print(bad_dict_list)\n",
    "\n",
    "good_dict_list = [\n",
    "    {\"title\": \"Harry Potter à l'école des sorciers\", \"author\": \"J. K. Rowling\"},\n",
    "    {\"title\": \"Harry Potter et la Chambre des secrets\", \"author\": \"J. K. Rowling\"},\n",
    "    {\"title\": \"Harry Potter et le Prisonnier d'Azkaban\", \"author\": \"J. K. Rowling\"},\n",
    "    {\"title\": \"Harry Potter et la Coupe de feu\", \"author\": \"J. K. Rowling\"},\n",
    "    {\"title\": \"Harry Potter et l'Ordre du Phénix\", \"author\": \"J. K. Rowling\"},\n",
    "    {\"title\": \"Harry Potter et le Prince de sang-mêlé\", \"author\": \"J. K. Rowling\"},\n",
    "    {\"title\": \"Harry Potter et les Reliques de la Mort\", \"author\": \"J. K. Rowling\"},\n",
    "]\n",
    "print(good_dict_list)"
   ]
  },
  {
   "cell_type": "code",
   "execution_count": null,
   "id": "914bfdba",
   "metadata": {},
   "outputs": [],
   "source": [
    "# Une autre méthode avec la fonction dict pour éviter d'avoir à mettre des guillemets pour chaque clé\n",
    "dictionnaire = dict(title=\"Harry Potter à l'école des sorciers\", author=\"J. K. Rowling\")\n",
    "print(dictionnaire)"
   ]
  },
  {
   "cell_type": "markdown",
   "id": "3877cb8f",
   "metadata": {},
   "source": [
    "# Tuples\n",
    "Les tuples ne sont à priori pas mutables (sauf s'ils contiennent des objets mutables). (voir la section correspondante sur les objets mutables versus immutables)"
   ]
  },
  {
   "cell_type": "code",
   "execution_count": null,
   "id": "13d7f5b3",
   "metadata": {},
   "outputs": [],
   "source": [
    "tup = (\"0\", 3, 4)\n",
    "print(tup)"
   ]
  },
  {
   "cell_type": "code",
   "execution_count": null,
   "id": "7e96a505",
   "metadata": {},
   "outputs": [],
   "source": [
    "# génère une erreur car un élément de tuple ne peut pas être changé (sauf s'il contient des objets mutables)\n",
    "tup[0] = 2"
   ]
  },
  {
   "cell_type": "code",
   "execution_count": null,
   "id": "e18275cc",
   "metadata": {},
   "outputs": [],
   "source": [
    "tupp = (\"0\", [1, 2, 3], 5.0)\n",
    "print(tupp)\n",
    "tupp[1][2] = 8\n",
    "print(tupp)"
   ]
  },
  {
   "cell_type": "code",
   "execution_count": null,
   "id": "4feaa958",
   "metadata": {
    "scrolled": true
   },
   "outputs": [],
   "source": [
    "# Si jamais on a déjà créé les clés d'une part et les valeur d'autre part, il est possible de faire une liste de tuples\n",
    "keys = [\"title\", \"author\"]\n",
    "values = [\"Harry Potter à l'école des sorciers\", \"J. K. Rowling\"]\n",
    "zipped = zip(keys, values)\n",
    "\n",
    "print(zipped)\n",
    "# contenu de l'objet produit par zip\n",
    "print(list(zipped))\n",
    "# On peut le transformer en dictionnaire\n",
    "print(dict(zip(keys, values)))"
   ]
  },
  {
   "cell_type": "code",
   "execution_count": null,
   "id": "46cedae3",
   "metadata": {},
   "outputs": [],
   "source": []
  }
 ],
 "metadata": {
  "kernelspec": {
   "display_name": "Python 3 (ipykernel)",
   "language": "python",
   "name": "python3"
  },
  "language_info": {
   "codemirror_mode": {
    "name": "ipython",
    "version": 3
   },
   "file_extension": ".py",
   "mimetype": "text/x-python",
   "name": "python",
   "nbconvert_exporter": "python",
   "pygments_lexer": "ipython3",
   "version": "3.9.13"
  }
 },
 "nbformat": 4,
 "nbformat_minor": 5
}
