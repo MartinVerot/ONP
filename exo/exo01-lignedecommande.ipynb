{
 "cells": [
  {
   "cell_type": "markdown",
   "id": "1094aaa6",
   "metadata": {},
   "source": [
    "# Exercices terminal/ligne de commande\n",
    "\n",
    "Ouvrir sa session sur un ordinateur du CBP, les identifiants sont les mêmes que pour le webmail (login et mot de passe).\n",
    "\n",
    "Ensuite, ouvrir le terminal. Placer la fenêtre dans la moitié gauche de votre écran, et gardez cette fenêtre de navigateur dans la moitié droite de votre écran.\n",
    "\n",
    "*N'oubliez pas l'autocomplétion des noms de fichier avec la touche tabulation !*"
   ]
  },
  {
   "cell_type": "markdown",
   "id": "648b2522",
   "metadata": {},
   "source": [
    "## Exercice 1 : arborescence \n",
    "*(Tiré des exercices du module ONP années <2023)*\n",
    "Dans le terminal, \n",
    "1. lister les fichier de votre home\n",
    "2. créer le répertoir \"`arborescence`\" dans votre home\n",
    "3. télécharger le fichier \"`arborescence.tar`\" dans le dossier \"`Downloads`\" (à la souris) \n",
    "   puis le copier dans le dossier \"`arborescence`\" (avec le terminal) \n",
    "   puis le décompresser\n",
    "4. trouver le fichier \"`CP7fQ5.txt`\" puis voir son contenu (avec la commande `cat`) et donner la réponse à la question.\n",
    "5. Vérifier la taille du répertoire \"`arborescence`\" ainsi que la taille de l'espace restant dans les dossiers \"`home`\" et \"`scratch`\""
   ]
  },
  {
   "cell_type": "code",
   "execution_count": null,
   "id": "7733f3b8",
   "metadata": {},
   "outputs": [],
   "source": []
  },
  {
   "cell_type": "markdown",
   "id": "70c3ec3d",
   "metadata": {},
   "source": [
    "## Exercice 2 : droits sur les fichiers\n",
    "\n",
    "Dans le terminal : \n",
    "1. revenir dans votre home puis dans le dossier parent (\"`/home`\"). Lister l'ensemble des dossiers qui donne la liste des utilisateurs du CBP.\n",
    "2. revenir dans votre home puis créer un dossier \"`python`\" puis un sous-dossier \"`terminal`\" à l'intérieur (en une seule ligne, utiliser la commande `man`)\n",
    "3. copier les fichiers \"`default.py`\" et \"`hello-world.py`\" situés dans le répertoire \"`/scratch/mverot/share-python`\" dans le dossier \"`terminal`\" précédemment  créé.\n",
    "4. essayer d'exécuter le fichier \"`hello-world.py`\" \n",
    "5. rendre le fichier exécutable puis l'exécuter\n",
    "6. l'ouvrir avec `gedit`, supprimer le shebang (la première ligne commençant par \"`#!`\") puis relancer le programme"
   ]
  },
  {
   "cell_type": "markdown",
   "id": "9527f418",
   "metadata": {},
   "source": [
    "## Exercice 3 : créer un alias et l'activer\n",
    "Dans le terminal, \n",
    "1. voir le fichier \"`.bashrc`\" dans votre home \n",
    "2. l'ouvrir avec `gedit` sans que cela ne bloque l'éxecution du terminal\n",
    "3. ajouter l'alias `ll` pour lister les fichiers avec des détails en affichant le dernier à la fin. Puis l'utiliser sur votre home."
   ]
  },
  {
   "cell_type": "markdown",
   "id": "6234b27d",
   "metadata": {},
   "source": [
    "## Exercice 4 : se connecter à distance via ssh\n",
    "Activer votre accès ssh à l'ENS de Lyon https://intranet.ens-lyon.fr/ent (section `Connexions réseaux`)\n",
    "\n",
    "Dans le terminal,\n",
    "1. se connecter sur la passerelle ssh de l'ENS (`ssh.ens-lyon.fr`), afficher le contenu de votre home pour voir que vous êtes effectivement sur une machine différente.\n",
    "2. copier le fichier `default.py` dans le dossier \"`python/terminal`\" sur la passerelle et vérifier sa présence. Le supprimer ensuite. Revenir sur votre machine.\n",
    "\n",
    "\n"
   ]
  },
  {
   "cell_type": "markdown",
   "id": "96f3b0c7",
   "metadata": {},
   "source": [
    "## Exercice 5 : un peu de scripting en bash\n",
    "\n",
    "Dans le terminal, pour les images dans le dossier `jpg` extrait à partir de l'archive \"`jpg.tar.gz`\" :\n",
    "1. Faire un script qui \n",
    "   * fait des vignettes de dimension de 100 pixels*100 pixels maximum à partir des images originales avec le suffixe \"`-thumbnail`\" (utiliser la commande `convert` du programme ImageMagick)\n",
    "   * déplace toutes les images ainsi créées dans un dossier appelé \"`thumbnails`\"\n",
    "   \n",
    "Dans le terminal, pour les images dans le dossier `scan` extraites à partir de l'archive \"`scan.zip`\"\n",
    "\n",
    "2. Faire un script qui blanchit le fond des images scannées et noirçit les lettres (regarder les options `-white-threshold` et `-black-threshold` d'imagemagick)\n",
    "\n",
    "3. Faire un script qui utilise les images avec un fond blanc et des lettres noircies (obtenues à l'étape précédente) pour faire de la reconnaissance de caractères à l'aide du logiciel tesseract et concaténer le résultat de la reconnaissance de caractère dans un unique fichier 'scan.txt'.\n"
   ]
  },
  {
   "cell_type": "markdown",
   "id": "2d79049d",
   "metadata": {},
   "source": [
    "## Exercice 6 : Pour aller plus loin : notion de PATH, automatisation, pipe\n",
    "*(Tiré des exercices du module ONP années <2023)*\n",
    "\n",
    "**De manière EXCEPTIONNELLE, nous allons ici calculer dans le home. Mais en temps normal, c'est INTERDIT.**\n",
    "\n",
    "Nous allons ici utiliser un logiciel de dynamique moléculaire, aucune connaissance sur le domaine n'est requise.\n",
    "\n",
    "Télécharger le fichier `moldy-2.16e.tgz` (.tgz est une contraction de .tar.gz).\n",
    "\n",
    "1. Faire un dossier `moldy` dans votre home, y extraire l'archive. Puis lire le `READ.ME` pour installer le logiciel.\n",
    "2. Ajouter le dossier `moldy` à votre PATH de manière temporaire. Puis lancer le programme avec le fichier d'input `control.argon` comme décrit dans le READ.ME. Faire en sorte de rediriger la sortie vers le fichier `output.dat`. Ouvrir le fichier d'output pour voir sa structure, en particulier, regarder la pression et la température. Utiliser la commande `grep` pour afficher la ligne donnant la pression et la température finale.\n",
    "\n",
    "Comme il faut rester organisé, nous allons arrêter de calculer dans le dossier du programme et faire un dossier spécifique pour tracer la courbe reliant la pression à la température.\n",
    "\n",
    "3. Faire un dossier `moldy-simulations` dans votre home, y copier le fichier `control.argon` précédemment utilisé. À l'aide d'un script, faire en sorte de créer une série de fichier `control.argon.XXX` (les `XXX` indiquant la température) pour des températures comprises entre 84 et 134° K par pas de 5° (utiliser la commande `seq`) -- pour modifier la température dans le fichier, utiliser la commande `sed`.  Puis faire le calcul en faisant un fichier de sortie de la forme `output-XXX.out`.\n",
    "4. Nous allons maintenant chercher à récupérer les valeurs de la pression et de la température pour faire un fichier `TvsP.csv` de la forme suivante :\n",
    "```\n",
    "Temperature,Pressure\n",
    "XXX,YYY\n",
    "```\n",
    "où `XXX` et  `YYY` sont respectivement la température et la pression issues du calcul. Pour cela, utiliser tout moyen à votre convenance (`sed`, `grep`, `cut`, `awk`). *Pour assigner une variable au résultat d'une ligne de commande, il faut utiliser la syntaxe `variable=$(ligne de commande)`.*\n",
    "\n",
    "La question 4 est difficile et peut être facilitée par quelques connaissances sur les expressions régulières. Il y a au moins 4 manières différentes de faire. "
   ]
  },
  {
   "cell_type": "code",
   "execution_count": null,
   "id": "d9d82665",
   "metadata": {},
   "outputs": [],
   "source": []
  }
 ],
 "metadata": {
  "kernelspec": {
   "display_name": "Python 3 (ipykernel)",
   "language": "python",
   "name": "python3"
  },
  "language_info": {
   "codemirror_mode": {
    "name": "ipython",
    "version": 3
   },
   "file_extension": ".py",
   "mimetype": "text/x-python",
   "name": "python",
   "nbconvert_exporter": "python",
   "pygments_lexer": "ipython3",
   "version": "3.9.13"
  }
 },
 "nbformat": 4,
 "nbformat_minor": 5
}
