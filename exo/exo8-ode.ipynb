{
 "cells": [
  {
   "cell_type": "markdown",
   "id": "6ea16324",
   "metadata": {},
   "source": [
    "# Chute libre unidimensionnelle d'une balle de golf avec frottement\n",
    "\n",
    "*Exercice tiré des exercices du module ONP des années <2023*\n",
    "\n",
    "On considère le mouvement unidimensionnel correspondant à une chute libre avec frottements. La force de\n",
    "frottement est modélisée sous la forme $$f = \\dfrac{1}{2}\\rho SC_x(Re) v^2 $$\n",
    "où :\n",
    "* $\\rho$ désigne la masse volumique du fluide, \n",
    "* $S$ la “surface projetée” du projectile,\n",
    "* $v$ sa vitesse (relativement au fluide), et \n",
    "* $C_x(v)$ le coefficient de trainée. \n",
    "\n",
    "Pour une sphère de rayon $R$, $S = \\pi R^2$ , et $C_x(Re)$ est une fonction du nombre de Reynolds $Re = \\|v\\|R/\\nu$ (où $\\nu$ correspond à la viscosité cinématique du fluide). Il s’agit donc d’un problème aux conditions initiales portant sur la fonction $v$ correspondant à l’équation différentielle (du premier ordre) suivante :\n",
    "$$m \\dfrac{\\mathrm{d} v}{\\mathrm{d} t} \\pm \\dfrac{1}{2}\\rho SC_x(Re) v^2 = - m g $$\n",
    "avec les conditions initiales $v(t = 0) = 0$ =. Les données numériques considérées correspondent à\n",
    "une balle de golf (diamètre : 43 mm, masse : 45 g) placée dans l’air à 25 °C (ρ = 1.2 kg/m³, $\\nu$ = 1.6 10⁻⁵ m²/s)\n",
    "sur Terre. Le coefficient de trainée tel que proposé (pour une sphère) dans “Bubbles, Drops, and Particles”,\n",
    "Clift, Grace & Weber \\[Academic Press, 1978\\] est implémenté dans le fichier `exo8-scipy_utils.py`.\n",
    "\n",
    "\n",
    "1. À l’aide de la fonction `integrate.solve_ivp`, déterminer la solution du problème. Le résultat attendu est présenté ci-dessous. On pourra remarquer au passage le “décrochement” de  $C_x(Re)$ au voisinage de $Re = 4·10⁵$ appelé “crise de trainée”. *Pour l'exploitation du fichier ``, voir https://stackoverflow.com/questions/8350853/how-to-import-module-when-module-name-has-a-dash-or-hyphen-in-it *\n",
    "\n",
    "![chute-libre.svg](chute-libre.svg)"
   ]
  },
  {
   "cell_type": "markdown",
   "id": "0b5ac641",
   "metadata": {},
   "source": [
    "# Chute libre d'une balle de golf en deux dimensions\n",
    "\n",
    "On cherche maintenant à résoudre le même problème mais :\n",
    "* à deux dimensions, \n",
    "* pour une vitesse initiale de 80 m/s et un angle de lancement compris entre 10 et 80°, frappée depuis l'origine du repère\n",
    "* on cherche maintenant à avoir acccès à la position de la balle à tout instant et pas uniquement à sa vitesse.\n",
    "\n",
    "![chute2D.svg](chute2D.svg)\n",
    "\n",
    "1. Résoudre l'équation différentielle pour différents angle de frappe. *Projeter l'équation sur x et y et voir qu'on a maitnenant une équation différentielle du second ordre*\n",
    "2. Essayer d'utiliser les arguments `dense_output` et `events` pour tracer le résultat et faire en sorte que l'intégration s'arrête lorsque y(t)=0 avec t>0.\n",
    "\n",
    "![chute-libre2.svg](chute-libre2.svg)"
   ]
  },
  {
   "cell_type": "code",
   "execution_count": null,
   "id": "1d56e081",
   "metadata": {},
   "outputs": [],
   "source": []
  },
  {
   "cell_type": "code",
   "execution_count": null,
   "id": "0fbd6489",
   "metadata": {},
   "outputs": [],
   "source": []
  }
 ],
 "metadata": {
  "kernelspec": {
   "display_name": "Python 3 (ipykernel)",
   "language": "python",
   "name": "python3"
  },
  "language_info": {
   "codemirror_mode": {
    "name": "ipython",
    "version": 3
   },
   "file_extension": ".py",
   "mimetype": "text/x-python",
   "name": "python",
   "nbconvert_exporter": "python",
   "pygments_lexer": "ipython3",
   "version": "3.9.13"
  }
 },
 "nbformat": 4,
 "nbformat_minor": 5
}
