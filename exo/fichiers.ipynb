{
 "cells": [
  {
   "cell_type": "markdown",
   "id": "40fecf9a",
   "metadata": {},
   "source": [
    "Le cahier est ici non exécuté, il faut le lancer en cliquant successivement sur les symboles en forme de flèche afin de voir le résultat des morceaux de code.\n",
    "\n",
    "Ce cahier Jupyter vient en complément du polycopié de cours qui est disponible ici : https://github.com/MartinVerot/ONP/blob/master/cours_python.pdf\n",
    "\n",
    "# Fichiers\n",
    "        "
   ]
  },
  {
   "cell_type": "code",
   "execution_count": 8,
   "id": "4379f74f",
   "metadata": {},
   "outputs": [],
   "source": [
    "#Exemple d'écriture d'un fichier\n",
    "with open ('exemple.txt','w') as f:\n",
    "    f.write(\"\"\"Three Rings for the Elven-kings under the sky,\n",
    "Seven for the Dwarf-lords in their halls of stone,\n",
    "Nine for Mortal Men doomed to die,\n",
    "One for the Dark Lord on his dark throne\n",
    "In the Land of Mordor where the Shadows lie.\n",
    "One Ring to rule them all, One Ring to find them,\n",
    "One Ring to bring them all, and in the darkness bind them\n",
    "In the Land of Mordor where the Shadows lie.\"\"\")"
   ]
  },
  {
   "cell_type": "code",
   "execution_count": 9,
   "id": "45951ac5",
   "metadata": {},
   "outputs": [
    {
     "name": "stdout",
     "output_type": "stream",
     "text": [
      "type : <class 'str'> longueur : 371\n"
     ]
    }
   ],
   "source": [
    "#ici, on charge l'intégralité du fichier en mémoire\n",
    "with open ('exemple.txt','r') as f:\n",
    "    txt = f.read()\n",
    "    print('type : {} longueur : {}'.format(type(txt), len(txt)))"
   ]
  },
  {
   "cell_type": "code",
   "execution_count": 10,
   "id": "714b3004",
   "metadata": {},
   "outputs": [
    {
     "name": "stdout",
     "output_type": "stream",
     "text": [
      "type : <class 'list'> longueur : 8\n",
      "première ligne\n",
      "Three Rings for the Elven-kings under the sky,\n",
      "\n"
     ]
    }
   ],
   "source": [
    "#Ici, on charge l'intégralité du fichier, mais on garde la séparation en lignes\n",
    "with open ('exemple.txt','r') as f:\n",
    "    txt = f.readlines()\n",
    "    print('type : {} longueur : {}'.format(type(txt), len(txt)))\n",
    "    print('première ligne')\n",
    "    print(txt[0])"
   ]
  },
  {
   "cell_type": "code",
   "execution_count": 11,
   "id": "098fce3c",
   "metadata": {},
   "outputs": [
    {
     "name": "stdout",
     "output_type": "stream",
     "text": [
      "type : <class 'str'> longueur : 47\n",
      "première ligne\n",
      "Three Rings for the Elven-kings under the sky,\n",
      "\n",
      "type : <class 'str'> longueur : 51\n",
      "deuxième ligne\n",
      "Seven for the Dwarf-lords in their halls of stone,\n",
      "\n"
     ]
    }
   ],
   "source": [
    "#Ici, on charge le fichier ligne à ligne, c'est plus économe en mémoire.\n",
    "with open ('exemple.txt','r') as f:\n",
    "    txt = f.readline()\n",
    "    print('type : {} longueur : {}'.format(type(txt), len(txt)))\n",
    "    print('première ligne')\n",
    "    print(txt)\n",
    "    txt = f.readline()\n",
    "    print('type : {} longueur : {}'.format(type(txt), len(txt)))\n",
    "    print('deuxième ligne')\n",
    "    print(txt)    "
   ]
  },
  {
   "cell_type": "code",
   "execution_count": 13,
   "id": "4f95cba9",
   "metadata": {},
   "outputs": [
    {
     "name": "stdout",
     "output_type": "stream",
     "text": [
      "Ligne 1\n",
      "Seven for the Dwarf-lords in their halls of stone,\n",
      "\n",
      "Ligne 2\n",
      "Nine for Mortal Men doomed to die,\n",
      "\n",
      "Ligne 3\n",
      "One for the Dark Lord on his dark throne\n",
      "\n",
      "Ligne 4\n",
      "In the Land of Mordor where the Shadows lie.\n",
      "\n",
      "Ligne 5\n",
      "One Ring to rule them all, One Ring to find them,\n",
      "\n",
      "Ligne 6\n",
      "One Ring to bring them all, and in the darkness bind them\n",
      "\n",
      "Ligne 7\n",
      "In the Land of Mordor where the Shadows lie.\n"
     ]
    }
   ],
   "source": [
    "#Ici, on charge le fichier ligne à ligne, c'est plus économe en mémoire.\n",
    "with open ('exemple.txt','r') as f:\n",
    "    txt = f.readline()\n",
    "    for i,line in enumerate(f):\n",
    "        print('Ligne {}'.format(i+1))\n",
    "        print(line)"
   ]
  },
  {
   "cell_type": "code",
   "execution_count": null,
   "id": "a2d29798",
   "metadata": {},
   "outputs": [],
   "source": []
  }
 ],
 "metadata": {
  "kernelspec": {
   "display_name": "Python 3 (ipykernel)",
   "language": "python",
   "name": "python3"
  },
  "language_info": {
   "codemirror_mode": {
    "name": "ipython",
    "version": 3
   },
   "file_extension": ".py",
   "mimetype": "text/x-python",
   "name": "python",
   "nbconvert_exporter": "python",
   "pygments_lexer": "ipython3",
   "version": "3.9.13"
  }
 },
 "nbformat": 4,
 "nbformat_minor": 5
}
