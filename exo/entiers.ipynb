{
 "cells": [
  {
   "cell_type": "markdown",
   "id": "1e26b1ea",
   "metadata": {},
   "source": [
    "# Types\n",
    "\n",
    "<span id=\"nombres\"></span>\n",
    "## Entiers vs nombres flottants\n",
    "\n",
    "On peut voir ici qu'en fonction de la manière dont on a déclaré la variable, le résultat est différent."
   ]
  },
  {
   "cell_type": "code",
   "execution_count": 1,
   "id": "20370fe5",
   "metadata": {},
   "outputs": [
    {
     "name": "stdout",
     "output_type": "stream",
     "text": [
      "3 <class 'int'>\n",
      "3.0 <class 'float'>\n"
     ]
    }
   ],
   "source": [
    "a = 3\n",
    "b = 3.0\n",
    "print(a, type(a))\n",
    "print(b, type(b))"
   ]
  },
  {
   "cell_type": "markdown",
   "id": "e8bc8176",
   "metadata": {},
   "source": [
    "Cela peut alors avoir des conséquences par la suite sur les opérations possibles ou non avec les variables."
   ]
  },
  {
   "cell_type": "code",
   "execution_count": 2,
   "id": "1293da30",
   "metadata": {},
   "outputs": [
    {
     "name": "stdout",
     "output_type": "stream",
     "text": [
      "0\n",
      "1\n",
      "2\n"
     ]
    }
   ],
   "source": [
    "# a étant entier, l'opération est possible\n",
    "for indix in range(a):\n",
    "    print(indix)"
   ]
  },
  {
   "cell_type": "code",
   "execution_count": 3,
   "id": "3d2af6f6",
   "metadata": {},
   "outputs": [
    {
     "ename": "TypeError",
     "evalue": "'float' object cannot be interpreted as an integer",
     "output_type": "error",
     "traceback": [
      "\u001b[0;31m---------------------------------------------------------------------------\u001b[0m",
      "\u001b[0;31mTypeError\u001b[0m                                 Traceback (most recent call last)",
      "\u001b[0;32m/tmp/ipykernel_66382/3347334423.py\u001b[0m in \u001b[0;36m<module>\u001b[0;34m\u001b[0m\n\u001b[1;32m      1\u001b[0m \u001b[0;31m#b étant un flottant, cela engendre une erreur\u001b[0m\u001b[0;34m\u001b[0m\u001b[0;34m\u001b[0m\u001b[0m\n\u001b[0;32m----> 2\u001b[0;31m \u001b[0;32mfor\u001b[0m \u001b[0mindix\u001b[0m \u001b[0;32min\u001b[0m \u001b[0mrange\u001b[0m\u001b[0;34m(\u001b[0m\u001b[0mb\u001b[0m\u001b[0;34m)\u001b[0m\u001b[0;34m:\u001b[0m\u001b[0;34m\u001b[0m\u001b[0;34m\u001b[0m\u001b[0m\n\u001b[0m\u001b[1;32m      3\u001b[0m     \u001b[0mprint\u001b[0m\u001b[0;34m(\u001b[0m\u001b[0mindix\u001b[0m\u001b[0;34m)\u001b[0m\u001b[0;34m\u001b[0m\u001b[0;34m\u001b[0m\u001b[0m\n",
      "\u001b[0;31mTypeError\u001b[0m: 'float' object cannot be interpreted as an integer"
     ]
    }
   ],
   "source": [
    "# b étant un flottant, cela engendre une erreur\n",
    "for indix in range(b):\n",
    "    print(indix)"
   ]
  },
  {
   "cell_type": "code",
   "execution_count": 4,
   "id": "c8d79b63",
   "metadata": {
    "scrolled": false
   },
   "outputs": [
    {
     "name": "stdout",
     "output_type": "stream",
     "text": [
      "0\n",
      "1\n",
      "2\n"
     ]
    }
   ],
   "source": [
    "# Après une conversion de type, la fonction s'éxecute correctement\n",
    "for indix in range(int(b)):\n",
    "    print(indix)"
   ]
  },
  {
   "cell_type": "markdown",
   "id": "7941ecd1",
   "metadata": {},
   "source": [
    "# Division\n",
    "<span id=\"division\"></span>La division peut être entière ou non"
   ]
  },
  {
   "cell_type": "code",
   "execution_count": 5,
   "id": "f00d88c2",
   "metadata": {},
   "outputs": [
    {
     "name": "stdout",
     "output_type": "stream",
     "text": [
      "2.5\n",
      "<class 'float'>\n",
      "2\n",
      "<class 'int'>\n",
      "1\n"
     ]
    }
   ],
   "source": [
    "a = 2\n",
    "b = 5\n",
    "# Division flottante, marche avec des entiers\n",
    "print(b / a)\n",
    "print(type(b / a))\n",
    "# Division entière qui donne le quotient\n",
    "print(b // a)\n",
    "print(type(b // a))\n",
    "# Pour obtenir le reste\n",
    "print(b % a)"
   ]
  },
  {
   "cell_type": "markdown",
   "id": "995484b2",
   "metadata": {},
   "source": [
    "# Arithmétique en nombre flottant et approximations\n",
    "<span id=\"arithfloat\"></span>\n",
    "\n",
    "## une égalité non vérifiée\n",
    "Il faut **TOUJOURS** être conscient que la représentation d'un nombre flottant peut amener à des erreurs d'arrondis ou des problèmes de comparaison."
   ]
  },
  {
   "cell_type": "code",
   "execution_count": 6,
   "id": "98037f9e",
   "metadata": {},
   "outputs": [
    {
     "name": "stdout",
     "output_type": "stream",
     "text": [
      "False\n"
     ]
    }
   ],
   "source": [
    "# 3*0.3 n'est pas égal à 0.9\n",
    "print(0.3 + 0.3 + 0.3 == 0.9)"
   ]
  },
  {
   "cell_type": "markdown",
   "id": "ca78d559",
   "metadata": {},
   "source": [
    "Le package decimal permet d'identifier le souci en affichant explicitement la valeur réellement stockées en mémoire par python."
   ]
  },
  {
   "cell_type": "code",
   "execution_count": 7,
   "id": "4faa9f9c",
   "metadata": {},
   "outputs": [
    {
     "name": "stdout",
     "output_type": "stream",
     "text": [
      "0.899999999999999911182158029987476766109466552734375\n",
      "0.90000000000000002220446049250313080847263336181640625\n"
     ]
    }
   ],
   "source": [
    "from decimal import Decimal\n",
    "\n",
    "print(Decimal.from_float(0.3 + 0.3 + 0.3))\n",
    "print(Decimal.from_float(0.9))"
   ]
  },
  {
   "cell_type": "markdown",
   "id": "fddbe936",
   "metadata": {},
   "source": [
    "## une variance négative\n",
    "\n",
    "Un exemple de calcul de la variance qui donne une variance ... négative. [tiré d'une page de blog de Julia Evans](https://jvns.ca/blog/2023/01/13/examples-of-floating-point-problems/).\n",
    "\n",
    "On peut suivre une implémentation naïve pour calculer la variance réduite :\n",
    "$$ V(x) = \\dfrac{1}{N-1} \\sum_i (x_i - \\bar{x})^2 =  \\dfrac{1}{N-1} \\left( \\sum_i x_i^2\\right) -  \\dfrac{N}{N-1}\\bar{x}^2$$ \n",
    "où $\\bar{x}$ est la moyenne des points $\\{x_i\\}$ et $N$ est le nombre de points considérés.\n"
   ]
  },
  {
   "cell_type": "code",
   "execution_count": 8,
   "id": "b8a24574",
   "metadata": {},
   "outputs": [
    {
     "name": "stdout",
     "output_type": "stream",
     "text": [
      "« Mauvais » calcul de la variance réduite  : 7.894716166666666\n",
      "Meilleur calcul de la variance réduite     : 7.894716166666665\n",
      "« Mauvais » calcul de la variance réduite  : -190.05630056300564\n",
      "Meilleur calcul de la variance réduite     : 0.000300497935268595\n"
     ]
    }
   ],
   "source": [
    "import numpy as np\n",
    "\n",
    "# Implémentation de la formule donnée ci-dessous qui peut donner des résultats catastrophiques\n",
    "def calculate_bad_variance(nums):\n",
    "    sum_of_squares = 0\n",
    "    sum_of_nums = 0\n",
    "    N = len(nums)\n",
    "    for num in nums:\n",
    "        sum_of_squares += num**2\n",
    "        sum_of_nums += num\n",
    "    mean = sum_of_nums / N\n",
    "    variance = (sum_of_squares - N * mean**2) / (N - 1)\n",
    "    return variance\n",
    "\n",
    "\n",
    "# Un exemple où « ça se passe bien »\n",
    "values = [0.1, 0.3, 0.6, 7.0, 0.003, -0.24]\n",
    "print(\n",
    "    \"« Mauvais » calcul de la variance réduite  : {}\".format(\n",
    "        calculate_bad_variance(values)\n",
    "    )\n",
    ")\n",
    "print(\n",
    "    \"Meilleur calcul de la variance réduite     : {}\".format(\n",
    "        np.std(values, ddof=1) ** 2\n",
    "    )\n",
    ")\n",
    "# création de 100000 valeurs comprises entre 1e9 et 1e9+0.06\n",
    "np.random.seed(45)\n",
    "values = np.random.uniform(100000000, 100000000.06, 100000)\n",
    "print(\n",
    "    \"« Mauvais » calcul de la variance réduite  : {}\".format(\n",
    "        calculate_bad_variance(values)\n",
    "    )\n",
    ")\n",
    "print(\n",
    "    \"Meilleur calcul de la variance réduite     : {}\".format(\n",
    "        np.std(values, ddof=1) ** 2\n",
    "    )\n",
    ")"
   ]
  },
  {
   "cell_type": "markdown",
   "id": "d9f18bbe",
   "metadata": {},
   "source": [
    "On peut voir qu'avec l'implémentation naïve de la variance, **qui est strictement positive par définition**, *on peut arriver à trouver une grandeur négative*..."
   ]
  },
  {
   "cell_type": "markdown",
   "id": "933e897e",
   "metadata": {},
   "source": [
    "# Chaînes de caractère\n",
    "<span id=\"carac\"></span>"
   ]
  },
  {
   "cell_type": "code",
   "execution_count": 9,
   "id": "3d9deafa",
   "metadata": {},
   "outputs": [
    {
     "name": "stdout",
     "output_type": "stream",
     "text": [
      "49\n"
     ]
    }
   ],
   "source": [
    "a = \"4\"\n",
    "b = 5\n",
    "c = \"9\"\n",
    "# Une addition qui est en fait une caténation\n",
    "print(a + c)"
   ]
  },
  {
   "cell_type": "code",
   "execution_count": 10,
   "id": "c6aa51fc",
   "metadata": {},
   "outputs": [
    {
     "ename": "TypeError",
     "evalue": "can only concatenate str (not \"int\") to str",
     "output_type": "error",
     "traceback": [
      "\u001b[0;31m---------------------------------------------------------------------------\u001b[0m",
      "\u001b[0;31mTypeError\u001b[0m                                 Traceback (most recent call last)",
      "\u001b[0;32m/tmp/ipykernel_66382/1965898148.py\u001b[0m in \u001b[0;36m<module>\u001b[0;34m\u001b[0m\n\u001b[1;32m      1\u001b[0m \u001b[0;31m#Une erreur liée à la confusion entre addition et caténation\u001b[0m\u001b[0;34m\u001b[0m\u001b[0;34m\u001b[0m\u001b[0m\n\u001b[0;32m----> 2\u001b[0;31m \u001b[0mprint\u001b[0m\u001b[0;34m(\u001b[0m\u001b[0ma\u001b[0m\u001b[0;34m+\u001b[0m\u001b[0mb\u001b[0m\u001b[0;34m)\u001b[0m\u001b[0;34m\u001b[0m\u001b[0;34m\u001b[0m\u001b[0m\n\u001b[0m",
      "\u001b[0;31mTypeError\u001b[0m: can only concatenate str (not \"int\") to str"
     ]
    }
   ],
   "source": [
    "# Une erreur liée à la confusion entre addition et caténation\n",
    "print(a + b)"
   ]
  },
  {
   "cell_type": "markdown",
   "id": "e89e9219",
   "metadata": {},
   "source": [
    "### Options de formatage<span id=\"formatcarac\"></span>\n",
    "Résultat du tableau 5.1 sur le formatage des variables"
   ]
  },
  {
   "cell_type": "code",
   "execution_count": 11,
   "id": "a6d23e64",
   "metadata": {},
   "outputs": [
    {
     "name": "stdout",
     "output_type": "stream",
     "text": [
      "a 3.14\n",
      "3.14 a\n",
      "blabla    \n",
      "    blabla\n",
      "1\n",
      "  1\n",
      "001\n",
      "3.140000\n",
      "3.140\n",
      "     3.140\n",
      "3.140000e+00\n",
      "3.140e+00\n",
      " 3.140e+00\n"
     ]
    }
   ],
   "source": [
    "print(\"{} {}\".format(\"a\", 3.14))\n",
    "print(\"{1} {0}\".format(\"a\", 3.14))\n",
    "print(\"{:<10}\".format(\"blabla\"))\n",
    "print(\"{:>10}\".format(\"blabla\"))\n",
    "print(\"{:d}\".format(1))\n",
    "print(\"{:3d}\".format(1))\n",
    "print(\"{:03d}\".format(1))\n",
    "print(\"{:f}\".format(3.14))\n",
    "print(\"{:.3f}\".format(3.14))\n",
    "print(\"{:10.3f}\".format(3.14))\n",
    "print(\"{:e}\".format(3.14))\n",
    "print(\"{:.3e}\".format(3.14))\n",
    "print(\"{:10.3e}\".format(3.14))"
   ]
  },
  {
   "cell_type": "markdown",
   "id": "cd3ef949",
   "metadata": {},
   "source": [
    "### Syntaxe allégée pour afficher des variables"
   ]
  },
  {
   "cell_type": "code",
   "execution_count": 12,
   "id": "910ca7f2",
   "metadata": {},
   "outputs": [
    {
     "name": "stdout",
     "output_type": "stream",
     "text": [
      "la variable truc vaut 18.25 et bidule vaut 0\n"
     ]
    }
   ],
   "source": [
    "truc = 18.25\n",
    "bidule = 0\n",
    "print(f\"la variable truc vaut {truc} et bidule vaut {bidule}\")"
   ]
  },
  {
   "cell_type": "markdown",
   "id": "eda7da14",
   "metadata": {},
   "source": [
    "### Pour ne pas avoir à échapper les backslash"
   ]
  },
  {
   "cell_type": "code",
   "execution_count": 13,
   "id": "d00d8582",
   "metadata": {},
   "outputs": [
    {
     "name": "stdout",
     "output_type": "stream",
     "text": [
      "\textit{un peu de LaTeX}\n",
      "ewline\n",
      "\\textit{un peu de LaTeX}\\newline\n",
      "\\textit{un peu de LaTeX}\\newline\n"
     ]
    }
   ],
   "source": [
    "# Ici, \\t est correspond à une tabulation, \\r est un retour à la ligne et \\n est une nouvelle ligne\n",
    "print(\"\\textit{un peu de LaTeX}\\newline\")\n",
    "# L'option r permet de ne pas avoir à échapper les caractères\n",
    "print(r\"\\textit{un peu de LaTeX}\\newline\")\n",
    "print(\"\\\\textit{un peu de LaTeX}\\\\newline\")"
   ]
  },
  {
   "cell_type": "markdown",
   "id": "41e9917b",
   "metadata": {},
   "source": [
    "### Mélanger format et accolades"
   ]
  },
  {
   "cell_type": "code",
   "execution_count": 14,
   "id": "d7507214",
   "metadata": {},
   "outputs": [
    {
     "ename": "ValueError",
     "evalue": "unmatched '{' in format spec",
     "output_type": "error",
     "traceback": [
      "\u001b[0;31m---------------------------------------------------------------------------\u001b[0m",
      "\u001b[0;31mValueError\u001b[0m                                Traceback (most recent call last)",
      "\u001b[0;32m/tmp/ipykernel_66382/1550721842.py\u001b[0m in \u001b[0;36m<module>\u001b[0;34m\u001b[0m\n\u001b[1;32m      1\u001b[0m \u001b[0;31m# Génère une erreur car il y a une accolade que l'on veut afficher en début de chaîne de caractère\u001b[0m\u001b[0;34m\u001b[0m\u001b[0;34m\u001b[0m\u001b[0m\n\u001b[0;32m----> 2\u001b[0;31m \u001b[0mprint\u001b[0m\u001b[0;34m(\u001b[0m\u001b[0;34m\"une accolade : '{' et voilà la valeur de truc : {}\"\u001b[0m\u001b[0;34m.\u001b[0m\u001b[0mformat\u001b[0m\u001b[0;34m(\u001b[0m\u001b[0;36m42\u001b[0m\u001b[0;34m)\u001b[0m\u001b[0;34m)\u001b[0m\u001b[0;34m\u001b[0m\u001b[0;34m\u001b[0m\u001b[0m\n\u001b[0m",
      "\u001b[0;31mValueError\u001b[0m: unmatched '{' in format spec"
     ]
    }
   ],
   "source": [
    "# Génère une erreur car il y a une accolade que l'on veut afficher en début de chaîne de caractère\n",
    "print(\"une accolade : '{' et voilà la valeur de truc : {}\".format(42))"
   ]
  },
  {
   "cell_type": "code",
   "execution_count": 15,
   "id": "488086ea",
   "metadata": {},
   "outputs": [
    {
     "name": "stdout",
     "output_type": "stream",
     "text": [
      "\\textititalique\n",
      "\\textit{}\n",
      "\\textit{italique}\n"
     ]
    }
   ],
   "source": [
    "texte = \"italique\"\n",
    "# Ici, les accolades sont remplacées par la valeur de la variable\n",
    "print(r\"\\textit{}\".format(texte))\n",
    "# Les accolades sont doublées donc affichées et il n'y a pas de variable attendue\n",
    "print(r\"\\textit{{}}\".format(texte))\n",
    "# Ici, les accolades sont doublées pour les afficher et une paire supplémentaire permet d'afficher la variable\n",
    "print(r\"\\textit{{{}}}\".format(texte))"
   ]
  },
  {
   "cell_type": "markdown",
   "id": "89884ef4",
   "metadata": {},
   "source": [
    "### Faire une chaine de caractère sur plusieurs lignes"
   ]
  },
  {
   "cell_type": "code",
   "execution_count": 16,
   "id": "ca5229a3",
   "metadata": {},
   "outputs": [
    {
     "name": "stdout",
     "output_type": "stream",
     "text": [
      "une chaine\n",
      "de caractère sur \n",
      "trois lignes\n"
     ]
    }
   ],
   "source": [
    "\"\"\"L'utilisation du triple double quote permet d'utiliser des sauts à la ligne, mais ceux-ci font\n",
    "partie de la chaine de caractère\"\"\"\n",
    "test = \"\"\"une chaine\n",
    "de caractère sur \n",
    "trois lignes\"\"\"\n",
    "print(test)"
   ]
  },
  {
   "cell_type": "code",
   "execution_count": 17,
   "id": "3303ccb7",
   "metadata": {},
   "outputs": [
    {
     "name": "stdout",
     "output_type": "stream",
     "text": [
      "une chaine de caractère sur trois lignes\n"
     ]
    }
   ],
   "source": [
    "\"\"\"Le backslash '\\' permet de continuer une chaine de caracère sur une autre ligne,\n",
    "mais dans ce cas, le retour à la ligne ne fait pas partie de la chaine de caractères.\"\"\"\n",
    "test = \"une chaine \\\n",
    "de caractère sur \\\n",
    "trois lignes\"\n",
    "print(test)"
   ]
  },
  {
   "cell_type": "markdown",
   "id": "c5dbdf15",
   "metadata": {},
   "source": [
    "# Listes"
   ]
  },
  {
   "cell_type": "markdown",
   "id": "a79ef6b1",
   "metadata": {},
   "source": [
    "### Différence entre append et extend"
   ]
  },
  {
   "cell_type": "code",
   "execution_count": 52,
   "id": "2d9bb2b8",
   "metadata": {},
   "outputs": [
    {
     "name": "stdout",
     "output_type": "stream",
     "text": [
      "append [0, 1, 2, [4, 5, 6]]\n",
      "extend [0, 1, 2, 4, 5, 6]\n",
      "caténation [0, 1, 2, 4, 5, 6]\n"
     ]
    }
   ],
   "source": [
    "# Avec append on ajoute UN nouvel élement qui est une liste\n",
    "l = [0, 1, 2]\n",
    "l2 = [4, 5, 6]\n",
    "l.append(l2)\n",
    "print(\"append\", l)\n",
    "# Avec extend on ajoute PLUSIEURS nouveaux élements qui sont ceux de la liste (ou plus généralement de l'objet itérable)\n",
    "l = [0, 1, 2]\n",
    "l2 = [4, 5, 6]\n",
    "l.extend(l2)\n",
    "print(\"extend\", l)\n",
    "# Avec une étoile :\n",
    "l = [0, 1, 2]\n",
    "l2 = [4, 5, 6]\n",
    "l = l + l2  # crée une nouvelle liste intermédiaire, donc plus gourmand en mémoire\n",
    "print(\"caténation\", l)"
   ]
  },
  {
   "cell_type": "markdown",
   "id": "d0cef40f",
   "metadata": {},
   "source": [
    "# Dictionnaire\n",
    "\n",
    "Création d'un dictionnaire."
   ]
  },
  {
   "cell_type": "code",
   "execution_count": 19,
   "id": "0e519b69",
   "metadata": {},
   "outputs": [
    {
     "name": "stdout",
     "output_type": "stream",
     "text": [
      "{'nom': 'John', 'prenom': 'Doe'}\n"
     ]
    }
   ],
   "source": [
    "dictionnaire = {\"nom\": \"John\", \"prenom\": \"Doe\"}\n",
    "print(dictionnaire)"
   ]
  },
  {
   "cell_type": "markdown",
   "id": "be7f4f68",
   "metadata": {},
   "source": [
    "Une mauvaise manière de créer un ensemble de dictionnaires car la structure des dictionnaires n'est pas reproductible, ni lisible, de plus il pourrait y avoir des duplicatas de clés :"
   ]
  },
  {
   "cell_type": "code",
   "execution_count": 20,
   "id": "953d1947",
   "metadata": {},
   "outputs": [
    {
     "name": "stdout",
     "output_type": "stream",
     "text": [
      "[{\"Harry Potter à l'école des sorciers\": 'J. K. Rowling'}, {'Harry Potter et la Chambre des secrets': 'J. K. Rowling'}, {\"Harry Potter et le Prisonnier d'Azkaban\": 'J. K. Rowling'}, {'Harry Potter et la Coupe de feu': 'J. K. Rowling'}, {\"Harry Potter et l'Ordre du Phénix\": 'J. K. Rowling'}, {'Harry Potter et le Prince de sang-mêlé': 'J. K. Rowling'}, {'Harry Potter et les Reliques de la Mort': 'J. K. Rowling'}]\n",
      "[{'title': \"Harry Potter à l'école des sorciers\", 'author': 'J. K. Rowling'}, {'title': 'Harry Potter et la Chambre des secrets', 'author': 'J. K. Rowling'}, {'title': \"Harry Potter et le Prisonnier d'Azkaban\", 'author': 'J. K. Rowling'}, {'title': 'Harry Potter et la Coupe de feu', 'author': 'J. K. Rowling'}, {'title': \"Harry Potter et l'Ordre du Phénix\", 'author': 'J. K. Rowling'}, {'title': 'Harry Potter et le Prince de sang-mêlé', 'author': 'J. K. Rowling'}, {'title': 'Harry Potter et les Reliques de la Mort', 'author': 'J. K. Rowling'}]\n"
     ]
    }
   ],
   "source": [
    "bad_dict_list = [\n",
    "    {\"Harry Potter à l'école des sorciers\": \"J. K. Rowling\"},\n",
    "    {\"Harry Potter et la Chambre des secrets\": \"J. K. Rowling\"},\n",
    "    {\"Harry Potter et le Prisonnier d'Azkaban\": \"J. K. Rowling\"},\n",
    "    {\"Harry Potter et la Coupe de feu\": \"J. K. Rowling\"},\n",
    "    {\"Harry Potter et l'Ordre du Phénix\": \"J. K. Rowling\"},\n",
    "    {\"Harry Potter et le Prince de sang-mêlé\": \"J. K. Rowling\"},\n",
    "    {\"Harry Potter et les Reliques de la Mort\": \"J. K. Rowling\"},\n",
    "]\n",
    "print(bad_dict_list)\n",
    "\n",
    "good_dict_list = [\n",
    "    {\"title\": \"Harry Potter à l'école des sorciers\", \"author\": \"J. K. Rowling\"},\n",
    "    {\"title\": \"Harry Potter et la Chambre des secrets\", \"author\": \"J. K. Rowling\"},\n",
    "    {\"title\": \"Harry Potter et le Prisonnier d'Azkaban\", \"author\": \"J. K. Rowling\"},\n",
    "    {\"title\": \"Harry Potter et la Coupe de feu\", \"author\": \"J. K. Rowling\"},\n",
    "    {\"title\": \"Harry Potter et l'Ordre du Phénix\", \"author\": \"J. K. Rowling\"},\n",
    "    {\"title\": \"Harry Potter et le Prince de sang-mêlé\", \"author\": \"J. K. Rowling\"},\n",
    "    {\"title\": \"Harry Potter et les Reliques de la Mort\", \"author\": \"J. K. Rowling\"},\n",
    "]\n",
    "print(good_dict_list)"
   ]
  },
  {
   "cell_type": "code",
   "execution_count": 21,
   "id": "914bfdba",
   "metadata": {},
   "outputs": [
    {
     "name": "stdout",
     "output_type": "stream",
     "text": [
      "{'title': \"Harry Potter à l'école des sorciers\", 'author': 'J. K. Rowling'}\n"
     ]
    }
   ],
   "source": [
    "# Une autre méthode avec la fonction dict pour éviter d'avoir à mettre des guillemets pour chaque clé\n",
    "dictionnaire = dict(title=\"Harry Potter à l'école des sorciers\", author=\"J. K. Rowling\")\n",
    "print(dictionnaire)"
   ]
  },
  {
   "cell_type": "markdown",
   "id": "3877cb8f",
   "metadata": {},
   "source": [
    "# Tuples"
   ]
  },
  {
   "cell_type": "code",
   "execution_count": 22,
   "id": "4feaa958",
   "metadata": {},
   "outputs": [
    {
     "name": "stdout",
     "output_type": "stream",
     "text": [
      "<zip object at 0x7f11d40fe780>\n",
      "[('title', \"Harry Potter à l'école des sorciers\"), ('author', 'J. K. Rowling')]\n",
      "{'title': \"Harry Potter à l'école des sorciers\", 'author': 'J. K. Rowling'}\n"
     ]
    }
   ],
   "source": [
    "# Si jamais on a déjà créé les clés d'une part et les valeur d'autre part, il est possible de faire une liste de tuples\n",
    "keys = [\"title\", \"author\"]\n",
    "values = [\"Harry Potter à l'école des sorciers\", \"J. K. Rowling\"]\n",
    "zipped = zip(keys, values)\n",
    "\n",
    "print(zipped)\n",
    "# contenu de l'objet produit par zip\n",
    "print(list(zipped))\n",
    "# On peut le transformer en dictionnaire\n",
    "print(dict(zip(keys, values)))"
   ]
  },
  {
   "cell_type": "markdown",
   "id": "6e2778a3",
   "metadata": {},
   "source": [
    "# Fonctions\n",
    "\n",
    "<span id=\"funcs\"></span>"
   ]
  },
  {
   "cell_type": "code",
   "execution_count": 62,
   "id": "737983c1",
   "metadata": {},
   "outputs": [
    {
     "name": "stdout",
     "output_type": "stream",
     "text": [
      "x : 0, y :1, z : 4, liste : [4], extended : True\n",
      "x : 0, y :1, z : 12.0, liste : [4], extended : True\n",
      "x : 0, y :1, z : 4, liste : [2, 3, 4], extended : True\n",
      "x : 0, y :1, z : [2, 3], liste : [4], extended : True\n",
      "x : 0, y :1, z : 0.0, liste : [5, 6, 4], extended : True\n"
     ]
    }
   ],
   "source": [
    "def func(x, y, z=0.0, liste=None, extended=True):\n",
    "    if liste == None:\n",
    "        liste = []\n",
    "    liste.append(4)\n",
    "    return x, y, z, liste, extended\n",
    "\n",
    "\n",
    "# Les arguments optionnels sont lus dans l'ordre de la déclaration de la fonction\n",
    "print(\"x : {}, y :{}, z : {}, liste : {}, extended : {}\".format(*func(0, 1, 4)))\n",
    "print(\"x : {}, y :{}, z : {}, liste : {}, extended : {}\".format(*func(0, 1, 12.0)))\n",
    "print(\"x : {}, y :{}, z : {}, liste : {}, extended : {}\".format(*func(0, 1, 4, [2, 3])))\n",
    "# Ici, on peut voir que la liste a été prise à la place de la variable z et pas pour la variable 'liste'\n",
    "print(\"x : {}, y :{}, z : {}, liste : {}, extended : {}\".format(*func(0, 1, [2, 3])))\n",
    "# ici, le nommage a permis de \"sauter\" la déclaration de z\n",
    "print(\n",
    "    \"x : {}, y :{}, z : {}, liste : {}, extended : {}\".format(*func(0, 1, liste=[5, 6]))\n",
    ")"
   ]
  },
  {
   "cell_type": "markdown",
   "id": "ff4bf7e6",
   "metadata": {},
   "source": [
    "# Variables mutables ou immutable"
   ]
  },
  {
   "cell_type": "code",
   "execution_count": 23,
   "id": "1d86b9e1",
   "metadata": {},
   "outputs": [
    {
     "name": "stdout",
     "output_type": "stream",
     "text": [
      "contenu de la variable `foo`         : bar\n",
      "adresse mémoire de la variable foo   : 139714600503408\n",
      "contenu de la variable `liste`       : [0, 1, 2, 3, [4, 5, 6]]\n",
      "adresse mémoire de la variable liste : 139714548298688\n"
     ]
    }
   ],
   "source": [
    "# déclaration de variable\n",
    "foo = \"bar\"\n",
    "print(\"contenu de la variable `foo`         : {}\".format(foo))\n",
    "print(\"adresse mémoire de la variable foo   : {}\".format(id(foo)))\n",
    "liste = [0, 1, 2, 3, [4, 5, 6]]\n",
    "print(\"contenu de la variable `liste`       : {}\".format(liste))\n",
    "print(\"adresse mémoire de la variable liste : {}\".format(id(liste)))"
   ]
  },
  {
   "cell_type": "markdown",
   "id": "dc8ab810",
   "metadata": {},
   "source": [
    "## variable immutable"
   ]
  },
  {
   "cell_type": "code",
   "execution_count": 24,
   "id": "c6b3f3a7",
   "metadata": {},
   "outputs": [
    {
     "name": "stdout",
     "output_type": "stream",
     "text": [
      "contenu de la variable `foo`         : cut\n",
      "adresse mémoire de la variable foo   : 139714592575216\n"
     ]
    }
   ],
   "source": [
    "foo = \"cut\"\n",
    "print(\"contenu de la variable `foo`         : {}\".format(foo))\n",
    "print(\"adresse mémoire de la variable foo   : {}\".format(id(foo)))"
   ]
  },
  {
   "cell_type": "markdown",
   "id": "133dbf0a",
   "metadata": {},
   "source": [
    "En changeant le contenu de la variable pour un objet immutable, on a en fait changé la référence de l'adresse mémoire vers un nouvel objet.\n",
    "\n",
    "## Variable mutable"
   ]
  },
  {
   "cell_type": "code",
   "execution_count": 25,
   "id": "a083b6d4",
   "metadata": {},
   "outputs": [
    {
     "name": "stdout",
     "output_type": "stream",
     "text": [
      "contenu de la variable `liste`          : [0, 1, 2, 3, [4, 5, 6]]\n",
      "adresse mémoire de la variable liste    : 139714548282304\n",
      "adresse mémoire de la variable liste[0] : 139714620614928\n",
      "contenu de la variable `liste`          : [7, 1, 2, 3, [4, 5, 6]]\n",
      "adresse mémoire de la variable liste    : 139714548282304\n",
      "adresse mémoire de la variable liste[0] : 139714620615152\n"
     ]
    }
   ],
   "source": [
    "liste = [0, 1, 2, 3, [4, 5, 6]]\n",
    "print(\"contenu de la variable `liste`          : {}\".format(liste))\n",
    "print(\"adresse mémoire de la variable liste    : {}\".format(id(liste)))\n",
    "print(\"adresse mémoire de la variable liste[0] : {}\".format(id(liste[0])))\n",
    "liste[0] = 7\n",
    "print(\"contenu de la variable `liste`          : {}\".format(liste))\n",
    "print(\"adresse mémoire de la variable liste    : {}\".format(id(liste)))\n",
    "print(\"adresse mémoire de la variable liste[0] : {}\".format(id(liste[0])))"
   ]
  },
  {
   "cell_type": "markdown",
   "id": "6865ed15",
   "metadata": {},
   "source": [
    "Pour un objet mutable, on peut voir que l'on n'a pas changé l'adresse mémoire vers laquelle la variable pointe. Mais par contre, on a changé les références internes de la liste."
   ]
  },
  {
   "cell_type": "markdown",
   "id": "84470a13",
   "metadata": {},
   "source": [
    "### Copie superficielle ou profonde (shallow copy versus deep copy)\n",
    "<span id=\"copies\"></span>\n",
    "La copie de liste ou tout éléments qui s'en approche est un problème **IMPORTANT** en programmation, quel que soit le langage. En général, la liste est stockée en mémoire sous la forme suivante :\n",
    " * un endroit de la mémoire permet de stocker l'identifiant de la liste\n",
    " * chacun des éléments de la liste est lui-même stocké dans la mémoire à un endroit différent\n",
    "La liste référence chaque endroit de la mémoire où sont stockés les éléments qui la constituent.\n",
    "\n",
    "Si :\n",
    "* on fait une copie profonde (deep copy) : on copie à un nouvel endroit de la mémoire la liste ET les éléments qui la constituent. Ainsi, si on a deux listes l1 et l2 avec l2 qui est une deep copy de l1, alors modifier l2 ne changera pas le contenu de l1 ou vice-versa.\n",
    "* on fait une copie superficiell (shallow copy) : on copie à un nouvel endroit de la mémoire la liste MAIS **PAS FORCÉMENT** les éléments qui la constituent. Dans ce cas, modifier un élément de l1 affectera également le contenu de la liste l2 (et uniquement dans ce cas là).\n",
    "\n",
    "Il faut donc toujours faire **TRÈS ATTENTION** au fait de faire une copie deep ou shallow en fonction du comportement souhaité. Les deux pouvants être souhaités. Pour faire une copie profonde d'une liste, il faut utliser la librairie deepcopy.\n",
    "\n",
    "#### Copie très shallow "
   ]
  },
  {
   "cell_type": "code",
   "execution_count": null,
   "id": "18315c89",
   "metadata": {},
   "outputs": [],
   "source": []
  },
  {
   "cell_type": "code",
   "execution_count": 26,
   "id": "b0ddb162",
   "metadata": {},
   "outputs": [
    {
     "name": "stdout",
     "output_type": "stream",
     "text": [
      "Exemple de copie complètement shallow : modifier une liste modifie aussi l'autre !\n",
      "[4, 1, 2, 3]\n",
      "[4, 1, 2, 3]\n"
     ]
    }
   ],
   "source": [
    "# Exemple de copie shallow en fixant une égalité\n",
    "l1 = [0, 1, 2, 3]\n",
    "l2 = l1\n",
    "l2[0] = 4\n",
    "# On a modifié les DEUX listes d'un coup\n",
    "print(\n",
    "    \"Exemple de copie complètement shallow : modifier une liste modifie aussi l'autre !\"\n",
    ")\n",
    "print(l1)\n",
    "print(l2)"
   ]
  },
  {
   "cell_type": "markdown",
   "id": "5e4c9c58",
   "metadata": {},
   "source": [
    "#### Copie un peu moins shallow mais pas totalement deep non plus\n",
    "Avec Python, la copie d'une liste avec \"l1.copy()\" n'est « deep » que pour le premier niveau d'imbrication, mais « shallow » au-delà."
   ]
  },
  {
   "cell_type": "code",
   "execution_count": 27,
   "id": "672e2142",
   "metadata": {},
   "outputs": [
    {
     "name": "stdout",
     "output_type": "stream",
     "text": [
      "Copie un peu plus profonde avec .copy() qui permet de maintenir l'indépendance de l1 et l2 au premier niveau\n",
      "[0, 1, 2, 3, [4, 5, 6]]\n",
      "[7, 1, 2, 3, [4, 5, 6]]\n",
      "Mais qui n'est quand même pas une copie profonde : si on change un sous-élément : cela affecte tout de même les deux listes !\n",
      "[0, 1, 2, 3, [8, 5, 6]]\n",
      "[7, 1, 2, 3, [8, 5, 6]]\n"
     ]
    }
   ],
   "source": [
    "# exemple de copie un peu plus profonde avec .copy()\n",
    "l1 = [0, 1, 2, 3, [4, 5, 6]]\n",
    "l2 = l1.copy()\n",
    "l2[0] = 7\n",
    "# Modifier l2 n'a pas changé l1\n",
    "print(\n",
    "    \"Copie un peu plus profonde avec .copy() qui permet de maintenir l'indépendance de l1 et l2 au premier niveau\"\n",
    ")\n",
    "print(l1)\n",
    "print(l2)\n",
    "print(\n",
    "    \"Mais qui n'est quand même pas une copie profonde : si on change un sous-élément : cela affecte tout de même les deux listes !\"\n",
    ")\n",
    "l2[4][0] = 8\n",
    "# Mais changer un sous élément de l2 a changé l1\n",
    "print(l1)\n",
    "print(l2)"
   ]
  },
  {
   "cell_type": "markdown",
   "id": "ae00b44a",
   "metadata": {},
   "source": [
    "#### Une copie vraiement deep\n",
    "La librairie `copy` permet de faire de vraies copies profondes."
   ]
  },
  {
   "cell_type": "code",
   "execution_count": 28,
   "id": "0546e321",
   "metadata": {},
   "outputs": [
    {
     "name": "stdout",
     "output_type": "stream",
     "text": [
      "Ici, la copie profonde fait que l'on a bien deux listes qui sont maintenant totalement indépendantes\n",
      "[0, 1, 2, 3, [4, 5, 6]]\n",
      "[0, 1, 2, 3, [8, 5, 6]]\n"
     ]
    }
   ],
   "source": [
    "import copy\n",
    "\n",
    "# exemple de copie profonde avec copy.deepcopy()\n",
    "l1 = [0, 1, 2, 3, [4, 5, 6]]\n",
    "l2 = copy.deepcopy(l1)\n",
    "l2[4][0] = 8\n",
    "print(\n",
    "    \"Ici, la copie profonde fait que l'on a bien deux listes qui sont maintenant totalement indépendantes\"\n",
    ")\n",
    "print(l1)\n",
    "print(l2)"
   ]
  },
  {
   "cell_type": "markdown",
   "id": "893c2db5",
   "metadata": {},
   "source": [
    "### Pour aller un peu plus loin \n",
    "Pour montrer que la situation est un petit peu plus complexe que décrit dans le polycopié."
   ]
  },
  {
   "cell_type": "code",
   "execution_count": 29,
   "id": "d350c2a7",
   "metadata": {},
   "outputs": [
    {
     "name": "stdout",
     "output_type": "stream",
     "text": [
      "***shallow***\n",
      "Les adresses des deux listes sont identiques\n",
      "139713964208320\n",
      "139713964208320\n",
      "Chacun des éléments de la liste a le même identifiant\n",
      "139714620614928\n",
      "139714620614928\n",
      "Modifier un des éléments dans une liste n'a pas différencié les copies\n",
      "139714620615152\n",
      "139714620615152\n",
      "\n",
      "***semi shallow***\n",
      "Maintenant les identifiants des listes diffèrent\n",
      "139714548982912\n",
      "139714549352640\n",
      "À ce stade, on pointe encore vers les mêmes éléments\n",
      "139714620614928\n",
      "139714620614928\n",
      "Mais après modification de l2 ce n'est plus le cas, on a bien différencié chacun des éléments de chaque liste\n",
      "139714620614928\n",
      "139714620615152\n",
      "Par contre les identifiants vers la sous-liste sont toujours les mêmes\n",
      "139714414204416\n",
      "139714414204416\n",
      "Et les éléments de la sous-liste sont donc identiques\n",
      "139714620615248\n",
      "139714620615248\n",
      "\n",
      "***deep***\n",
      "Les identifiants des listes diffèrent\n",
      "139713964208768\n",
      "139713964208320\n",
      "Celui des éléments inclus aussi\n",
      "139713964208704\n",
      "139713964208384\n",
      "Cette fois, les sous-éléments sont également bien différenciés\n",
      "139714620615056\n",
      "139714620615248\n"
     ]
    }
   ],
   "source": [
    "import copy\n",
    "\n",
    "l1 = [0, 1, 2, 3, [4, 5, 6]]\n",
    "l2 = l1\n",
    "print(\"***shallow***\")\n",
    "print(\"Les adresses des deux listes sont identiques\")\n",
    "print(id(l1))\n",
    "print(id(l2))\n",
    "print(\"Chacun des éléments de la liste a le même identifiant\")\n",
    "print(id(l1[0]))\n",
    "print(id(l2[0]))\n",
    "l2[0] = 7\n",
    "print(\"Modifier un des éléments dans une liste n'a pas différencié les copies\")\n",
    "print(id(l1[0]))\n",
    "print(id(l2[0]))\n",
    "\n",
    "print(\"\\n***semi shallow***\")\n",
    "# Identifiants d'une copie semi shallow\n",
    "l1 = [0, 1, 2, 3, [4, 5, 6]]\n",
    "l2 = l1.copy()\n",
    "print(\"Maintenant les identifiants des listes diffèrent\")\n",
    "print(id(l1))\n",
    "print(id(l2))\n",
    "print(\"À ce stade, on pointe encore vers les mêmes éléments\")\n",
    "print(id(l1[0]))\n",
    "print(id(l2[0]))\n",
    "l2[0] = 7\n",
    "l2[4][0] = 10\n",
    "print(\n",
    "    \"Mais après modification de l2 ce n'est plus le cas, on a bien différencié chacun des éléments de chaque liste\"\n",
    ")\n",
    "print(id(l1[0]))\n",
    "print(id(l2[0]))\n",
    "print(\"Par contre les identifiants vers la sous-liste sont toujours les mêmes\")\n",
    "print(id(l1[4]))\n",
    "print(id(l2[4]))\n",
    "print(\"Et les éléments de la sous-liste sont donc identiques\")\n",
    "print(id(l1[4][0]))\n",
    "print(id(l2[4][0]))\n",
    "\n",
    "\n",
    "print(\"\\n***deep***\")\n",
    "# Identifiants d'une copie semi shallow\n",
    "l1 = [0, 1, 2, 3, [4, 5, 6]]\n",
    "l2 = copy.deepcopy(l1)\n",
    "print(\"Les identifiants des listes diffèrent\")\n",
    "print(id(l1))\n",
    "print(id(l2))\n",
    "print(\"Celui des éléments inclus aussi\")\n",
    "print(id(l1[4]))\n",
    "print(id(l2[4]))\n",
    "l2[0] = 7\n",
    "l2[4][0] = 10\n",
    "print(\"Cette fois, les sous-éléments sont également bien différenciés\")\n",
    "print(id(l1[4][0]))\n",
    "print(id(l2[4][0]))"
   ]
  },
  {
   "cell_type": "markdown",
   "id": "a4682a72",
   "metadata": {},
   "source": [
    "### Éléments mutables et fonctions\n",
    "<span id=\"mutfonction\"></span>\n",
    "Les éléments mutables sont changés au sein de la fonction ... mais aussi en dehors "
   ]
  },
  {
   "cell_type": "code",
   "execution_count": 30,
   "id": "23638b36",
   "metadata": {},
   "outputs": [
    {
     "name": "stdout",
     "output_type": "stream",
     "text": [
      "[4, 9, 16]\n",
      "[4, 9, 16]\n"
     ]
    }
   ],
   "source": [
    "def squares_of(numbers):\n",
    "    \"\"\"\n",
    "    Takes a list of numbers and returns their square\n",
    "    \"\"\"\n",
    "    for i, number in enumerate(numbers):\n",
    "        numbers[i] = number**2\n",
    "    return numbers\n",
    "\n",
    "\n",
    "sample = [2, 3, 4]\n",
    "print(squares_of(sample))\n",
    "print(sample)"
   ]
  },
  {
   "cell_type": "markdown",
   "id": "44d7241f",
   "metadata": {},
   "source": [
    "Il existe plusieurs moyens de contourner ce souci."
   ]
  },
  {
   "cell_type": "code",
   "execution_count": 31,
   "id": "b63359ef",
   "metadata": {},
   "outputs": [
    {
     "name": "stdout",
     "output_type": "stream",
     "text": [
      "[4, 9, 16]\n",
      "[2, 3, 4]\n"
     ]
    }
   ],
   "source": [
    "# en créant une nouvelle liste au sein de la fonction\n",
    "def squares_of(numbers):\n",
    "    \"\"\"\n",
    "    Takes a list of numbers and returns their square\n",
    "    \"\"\"\n",
    "    result = []\n",
    "    for number in numbers:\n",
    "        result.append(number**2)\n",
    "    return result\n",
    "\n",
    "\n",
    "sample = [2, 3, 4]\n",
    "print(squares_of(sample))\n",
    "print(sample)"
   ]
  },
  {
   "cell_type": "code",
   "execution_count": 32,
   "id": "fa17c04d",
   "metadata": {},
   "outputs": [
    {
     "name": "stdout",
     "output_type": "stream",
     "text": [
      "[4, 9, 16]\n",
      "[2, 3, 4]\n"
     ]
    }
   ],
   "source": [
    "import copy\n",
    "\n",
    "# en faisant une deep copy de l'élément mutable\n",
    "def squares_of(numbers):\n",
    "    \"\"\"\n",
    "    Takes a list of numbers and returns their square\n",
    "    \"\"\"\n",
    "    squares = copy.deepcopy(numbers)\n",
    "    for i, number in enumerate(squares):\n",
    "        squares[i] = number**2\n",
    "    return squares\n",
    "\n",
    "\n",
    "sample = [2, 3, 4]\n",
    "print(squares_of(sample))\n",
    "print(sample)"
   ]
  },
  {
   "cell_type": "code",
   "execution_count": 33,
   "id": "c14e7655",
   "metadata": {},
   "outputs": [
    {
     "name": "stdout",
     "output_type": "stream",
     "text": [
      "[4, 9, 16]\n",
      "[2, 3, 4]\n"
     ]
    }
   ],
   "source": [
    "# en passant par une compréhension de liste qui créé de nouveaux objets en mémoire à partir de l'objet mutable initial\n",
    "def squares_of(numbers):\n",
    "    \"\"\"\n",
    "    Takes a list of numbers and returns their square\n",
    "    \"\"\"\n",
    "    return [x**2 for x in numbers]\n",
    "\n",
    "\n",
    "sample = [2, 3, 4]\n",
    "print(squares_of(sample))\n",
    "print(sample)"
   ]
  },
  {
   "cell_type": "markdown",
   "id": "3fb993bd",
   "metadata": {},
   "source": [
    "### Éléments mutables optionnels et fonctions\n",
    "<span id=\"mutfonction2\"></span>"
   ]
  },
  {
   "cell_type": "code",
   "execution_count": 34,
   "id": "749d028c",
   "metadata": {},
   "outputs": [
    {
     "name": "stdout",
     "output_type": "stream",
     "text": [
      "[1]\n",
      "[1, 2]\n",
      "[1, 2, 3]\n",
      "['a', 'b', 'c', 'd']\n",
      "['a', 'b', 'c', 'd']\n"
     ]
    }
   ],
   "source": [
    "def append_to(item, target=[]):\n",
    "    \"\"\"\n",
    "    Adds a new element to the target variable\n",
    "    \"\"\"\n",
    "    target.append(item)\n",
    "    return target\n",
    "\n",
    "\n",
    "liste = [\"a\", \"b\", \"c\"]\n",
    "print(append_to(1))\n",
    "print(append_to(2))\n",
    "print(append_to(3))\n",
    "# Si on applique la fonction à un élément mutable, comme ci-dessus, il sera modifié en dehors de la fonction\n",
    "print(append_to(\"d\", target=liste))\n",
    "print(liste)"
   ]
  },
  {
   "cell_type": "markdown",
   "id": "99d035c9",
   "metadata": {},
   "source": [
    "On peut voir qu'au lieu d'ajouter un unique élément à une liste vide, cette fonction ne fait qu'ajouter des éléments à l'objet mutable créé lors de la création de la fonction. Il est tout de même possible de contourner ce comportement pour avoir un comportement différent qui ajoute un élément à un objet mutable. Car dans ce cas là, l'élément mutable est créé à chaque appel de la fonction au lieu d'être créé lors de l'initialisation de la fonction."
   ]
  },
  {
   "cell_type": "code",
   "execution_count": 35,
   "id": "2c0d1d7b",
   "metadata": {},
   "outputs": [
    {
     "name": "stdout",
     "output_type": "stream",
     "text": [
      "[1]\n",
      "[2]\n",
      "[3]\n"
     ]
    }
   ],
   "source": [
    "def append_to(item, target=None):\n",
    "    \"\"\"\n",
    "    Adds a new element to the target variable\n",
    "    \"\"\"\n",
    "    if target == None:\n",
    "        target = []\n",
    "    target.append(item)\n",
    "    return target\n",
    "\n",
    "\n",
    "print(append_to(1))\n",
    "print(append_to(2))\n",
    "print(append_to(3))"
   ]
  },
  {
   "cell_type": "markdown",
   "id": "24465358",
   "metadata": {},
   "source": [
    "# Boucle for\n",
    "\n",
    "Il est possible de faire une boucle en itérant sur des entiers."
   ]
  },
  {
   "cell_type": "code",
   "execution_count": 36,
   "id": "9d4d9090",
   "metadata": {},
   "outputs": [
    {
     "name": "stdout",
     "output_type": "stream",
     "text": [
      "résultat avec la fonction range avec un unique argument\n",
      " 0 1 2 3 4 5\n",
      "résultat avec la fonction range avec deux arguments\n",
      " 1 2 3 4 5\n",
      "résultat avec la fonction range avec trois arguments\n",
      " 1 3 5\n"
     ]
    }
   ],
   "source": [
    "range_simple = \"\"\n",
    "for indix in range(6):\n",
    "    range_simple += \" {}\".format(indix)\n",
    "print(\"résultat avec la fonction range avec un unique argument\")\n",
    "print(range_simple)\n",
    "\n",
    "\n",
    "range_evolved = \"\"\n",
    "for indix in range(1, 6):\n",
    "    range_evolved += \" {}\".format(indix)\n",
    "print(\"résultat avec la fonction range avec deux arguments\")\n",
    "print(range_evolved)\n",
    "\n",
    "range_evolved = \"\"\n",
    "for indix in range(1, 6, 2):\n",
    "    range_evolved += \" {}\".format(indix)\n",
    "print(\"résultat avec la fonction range avec trois arguments\")\n",
    "print(range_evolved)"
   ]
  },
  {
   "cell_type": "markdown",
   "id": "fae1c4b6",
   "metadata": {
    "collapsed": true
   },
   "source": [
    "## Itération sur une liste\n",
    "\n",
    "La première méthode d'itération est très pédestre et verbeuse sans forcément être très explicite. La seconde est syntaxiquement plus efficace si l'indice n'est pas utile pour ce qu'on veut faire."
   ]
  },
  {
   "cell_type": "code",
   "execution_count": 37,
   "id": "38b7c49f",
   "metadata": {},
   "outputs": [
    {
     "name": "stdout",
     "output_type": "stream",
     "text": [
      "Corentin,Ysée,Maxime,Killian,Liam,Elaura,Eliot,Marian,Anna,Olivier,Ludmila,Gaétan,Benjamin,Azalée,Eva,Léontine,Julien,Célian,Eliott,Victor,Nathan,Paul,Constantin,Lucien,Yacine,Chengzhi,Marius,Léo,Merlin,Augustin,Sébastien,Ewann,Gabriel,Hector,Pierre,Camille,Tristan,Philémon,Etienne,Simon,Arthur,Léo,Laura,Louisa,Ayoub,Théodore,Lilas,Lila,Quentin,Adriel,Romain,Paul,Octave,Sasha,Antoine,Julie,Etienne,Roman,Félice,David,Ruben,Clément,Wayan,\n",
      "\n",
      "Corentin,Ysée,Maxime,Killian,Liam,Elaura,Eliot,Marian,Anna,Olivier,Ludmila,Gaétan,Benjamin,Azalée,Eva,Léontine,Julien,Célian,Eliott,Victor,Nathan,Paul,Constantin,Lucien,Yacine,Chengzhi,Marius,Léo,Merlin,Augustin,Sébastien,Ewann,Gabriel,Hector,Pierre,Camille,Tristan,Philémon,Etienne,Simon,Arthur,Léo,Laura,Louisa,Ayoub,Théodore,Lilas,Lila,Quentin,Adriel,Romain,Paul,Octave,Sasha,Antoine,Julie,Etienne,Roman,Félice,David,Ruben,Clément,Wayan,\n",
      "\n",
      "Corentin Chimie,Ysée Chimie,Maxime Chimie,Killian Chimie,Liam Chimie,Elaura Chimie,Eliot Chimie,Marian Chimie,Anna Chimie,Olivier Chimie,Ludmila Chimie,Gaétan Chimie,Benjamin Chimie,Azalée Chimie,Eva Chimie,Léontine Chimie,Julien Chimie,Célian Chimie,Eliott Chimie,Victor Chimie,Nathan Physique,Paul Physique,Constantin Physique,Lucien Physique,Yacine Physique,Chengzhi Physique,Marius Physique,Léo Physique,Merlin Physique,Augustin Physique,Sébastien Physique,Ewann Physique,Gabriel Physique,Hector Physique,Pierre Physique,Camille Physique,Tristan Physique,Philémon Physique,Etienne Physique,Simon Physique,Arthur Physique,Léo Physique,Laura Physique,Louisa Physique,Ayoub Physique,Théodore Physique,Lilas Physique,Lila Physique,Quentin Physique,Adriel Physique,Romain Physique,Paul Physique,Octave Physique,Sasha Physique,Antoine Physique,Julie Physique,Etienne Physique,Roman Physique,Félice Physique,David Physique,Ruben Physique,Clément Physique,Wayan Physique,\n",
      "\n",
      "Corentin Chimie,Ysée Chimie,Maxime Chimie,Killian Chimie,Liam Chimie,Elaura Chimie,Eliot Chimie,Marian Chimie,Anna Chimie,Olivier Chimie,Ludmila Chimie,Gaétan Chimie,Benjamin Chimie,Azalée Chimie,Eva Chimie,Léontine Chimie,Julien Chimie,Célian Chimie,Eliott Chimie,Victor Chimie,Nathan Physique,Paul Physique,Constantin Physique,Lucien Physique,Yacine Physique,Chengzhi Physique,Marius Physique,Léo Physique,Merlin Physique,Augustin Physique,Sébastien Physique,Ewann Physique,Gabriel Physique,Hector Physique,Pierre Physique,Camille Physique,Tristan Physique,Philémon Physique,Etienne Physique,Simon Physique,Arthur Physique,Léo Physique,Laura Physique,Louisa Physique,Ayoub Physique,Théodore Physique,Lilas Physique,Lila Physique,Quentin Physique,Adriel Physique,Romain Physique,Paul Physique,Octave Physique,Sasha Physique,Antoine Physique,Julie Physique,Etienne Physique,Roman Physique,Félice Physique,David Physique,Ruben Physique,Clément Physique,Wayan Physique,"
     ]
    }
   ],
   "source": [
    "students = [\n",
    "    \"Corentin\",\n",
    "    \"Ysée\",\n",
    "    \"Maxime\",\n",
    "    \"Killian\",\n",
    "    \"Liam\",\n",
    "    \"Elaura\",\n",
    "    \"Eliot\",\n",
    "    \"Marian\",\n",
    "    \"Anna\",\n",
    "    \"Olivier\",\n",
    "    \"Ludmila\",\n",
    "    \"Gaétan\",\n",
    "    \"Benjamin\",\n",
    "    \"Azalée\",\n",
    "    \"Eva\",\n",
    "    \"Léontine\",\n",
    "    \"Julien\",\n",
    "    \"Célian\",\n",
    "    \"Eliott\",\n",
    "    \"Victor\",\n",
    "    \"Nathan\",\n",
    "    \"Paul\",\n",
    "    \"Constantin\",\n",
    "    \"Lucien\",\n",
    "    \"Yacine\",\n",
    "    \"Chengzhi\",\n",
    "    \"Marius\",\n",
    "    \"Léo\",\n",
    "    \"Merlin\",\n",
    "    \"Augustin\",\n",
    "    \"Sébastien\",\n",
    "    \"Ewann\",\n",
    "    \"Gabriel\",\n",
    "    \"Hector\",\n",
    "    \"Pierre\",\n",
    "    \"Camille\",\n",
    "    \"Tristan\",\n",
    "    \"Philémon\",\n",
    "    \"Etienne\",\n",
    "    \"Simon\",\n",
    "    \"Arthur\",\n",
    "    \"Léo\",\n",
    "    \"Laura\",\n",
    "    \"Louisa\",\n",
    "    \"Ayoub\",\n",
    "    \"Théodore\",\n",
    "    \"Lilas\",\n",
    "    \"Lila\",\n",
    "    \"Quentin\",\n",
    "    \"Adriel\",\n",
    "    \"Romain\",\n",
    "    \"Paul\",\n",
    "    \"Octave\",\n",
    "    \"Sasha\",\n",
    "    \"Antoine\",\n",
    "    \"Julie\",\n",
    "    \"Etienne\",\n",
    "    \"Roman\",\n",
    "    \"Félice\",\n",
    "    \"David\",\n",
    "    \"Ruben\",\n",
    "    \"Clément\",\n",
    "    \"Wayan\",\n",
    "]\n",
    "majeures = [\n",
    "    \"Chimie\",\n",
    "    \"Chimie\",\n",
    "    \"Chimie\",\n",
    "    \"Chimie\",\n",
    "    \"Chimie\",\n",
    "    \"Chimie\",\n",
    "    \"Chimie\",\n",
    "    \"Chimie\",\n",
    "    \"Chimie\",\n",
    "    \"Chimie\",\n",
    "    \"Chimie\",\n",
    "    \"Chimie\",\n",
    "    \"Chimie\",\n",
    "    \"Chimie\",\n",
    "    \"Chimie\",\n",
    "    \"Chimie\",\n",
    "    \"Chimie\",\n",
    "    \"Chimie\",\n",
    "    \"Chimie\",\n",
    "    \"Chimie\",\n",
    "    \"Physique\",\n",
    "    \"Physique\",\n",
    "    \"Physique\",\n",
    "    \"Physique\",\n",
    "    \"Physique\",\n",
    "    \"Physique\",\n",
    "    \"Physique\",\n",
    "    \"Physique\",\n",
    "    \"Physique\",\n",
    "    \"Physique\",\n",
    "    \"Physique\",\n",
    "    \"Physique\",\n",
    "    \"Physique\",\n",
    "    \"Physique\",\n",
    "    \"Physique\",\n",
    "    \"Physique\",\n",
    "    \"Physique\",\n",
    "    \"Physique\",\n",
    "    \"Physique\",\n",
    "    \"Physique\",\n",
    "    \"Physique\",\n",
    "    \"Physique\",\n",
    "    \"Physique\",\n",
    "    \"Physique\",\n",
    "    \"Physique\",\n",
    "    \"Physique\",\n",
    "    \"Physique\",\n",
    "    \"Physique\",\n",
    "    \"Physique\",\n",
    "    \"Physique\",\n",
    "    \"Physique\",\n",
    "    \"Physique\",\n",
    "    \"Physique\",\n",
    "    \"Physique\",\n",
    "    \"Physique\",\n",
    "    \"Physique\",\n",
    "    \"Physique\",\n",
    "    \"Physique\",\n",
    "    \"Physique\",\n",
    "    \"Physique\",\n",
    "    \"Physique\",\n",
    "    \"Physique\",\n",
    "    \"Physique\",\n",
    "]\n",
    "\n",
    "# Itération sur les indices, ce n'est pas forcément le plus explicite\n",
    "for i in range(len(students)):\n",
    "    print(students[i], end=\",\")\n",
    "print(\"\\n\")\n",
    "# Itération directe sur les éléments, beacoup plus lisible\n",
    "for student in students:\n",
    "    print(student, end=\",\")\n",
    "print(\"\\n\")\n",
    "# Une version qui permet d'exploiter simultanément les éléments de la liste et les indices grâce à la fonction enumerate\n",
    "for i, student in enumerate(students):\n",
    "    print(student, majeures[i], end=\",\")\n",
    "print(\"\\n\")\n",
    "# même chose avec un zip\n",
    "for student, majeure in zip(students, majeures):\n",
    "    print(student, majeure, end=\",\")"
   ]
  },
  {
   "cell_type": "markdown",
   "id": "25ade85e",
   "metadata": {},
   "source": [
    "## Itération sur un dictionnaire"
   ]
  },
  {
   "cell_type": "code",
   "execution_count": 38,
   "id": "0a2933d6",
   "metadata": {},
   "outputs": [
    {
     "name": "stdout",
     "output_type": "stream",
     "text": [
      "prenom\n",
      "nom\n",
      "age\n",
      "eyecolor\n",
      "\n",
      "\n",
      "prenom John\n",
      "nom Doe\n",
      "age 38\n",
      "eyecolor blue\n"
     ]
    }
   ],
   "source": [
    "dictionnaire = dict(prenom=\"John\", nom=\"Doe\", age=\"38\", eyecolor=\"blue\")\n",
    "# itération sur les clés uniquement\n",
    "for key in dictionnaire:\n",
    "    print(key)\n",
    "print(\"\\n\")\n",
    "# itération sur les clés et les valeurs\n",
    "for key, value in dictionnaire.items():\n",
    "    print(key, value)"
   ]
  },
  {
   "cell_type": "markdown",
   "id": "32240887",
   "metadata": {
    "collapsed": true
   },
   "source": [
    "# Boucle While\n"
   ]
  },
  {
   "cell_type": "code",
   "execution_count": 39,
   "id": "ff8e4fac",
   "metadata": {},
   "outputs": [
    {
     "name": "stdout",
     "output_type": "stream",
     "text": [
      "erreur on n'atteint jamais zéro !\n",
      "Ici, on ne finit pas\n"
     ]
    }
   ],
   "source": [
    "# Exemple de boucle while qui ne termine jamais à cause des erreurs d'arrondi\n",
    "\n",
    "a = 1000\n",
    "step = 0\n",
    "while a != 0:\n",
    "    a -= 0.001\n",
    "    if step > 1e7:\n",
    "        print(\"erreur on n'atteint jamais zéro !\")\n",
    "        break\n",
    "    step += 1\n",
    "print(\"Ici, on ne finit pas\")"
   ]
  },
  {
   "cell_type": "code",
   "execution_count": 40,
   "id": "09ec0b6c",
   "metadata": {},
   "outputs": [
    {
     "name": "stdout",
     "output_type": "stream",
     "text": [
      "Ici, on finit\n"
     ]
    }
   ],
   "source": [
    "a = 1000\n",
    "step = 0\n",
    "while a > 0:\n",
    "    a -= 0.001\n",
    "    if step > 1e7:\n",
    "        print(\"erreur on n'atteint jamais zéro !\")\n",
    "        break\n",
    "    step += 1\n",
    "print(\"Ici, on finit\")"
   ]
  },
  {
   "cell_type": "markdown",
   "id": "52cdeb01",
   "metadata": {},
   "source": [
    "# Conditions\n",
    "\n",
    "Pour tester les égalités, il est préfrable d'utiliser une fonction dédiée pour éviter les problèmes liés aux calcul en nombre à virgule flottante. Où alors de tester une inégalité."
   ]
  },
  {
   "cell_type": "code",
   "execution_count": 49,
   "id": "c6f8df43",
   "metadata": {},
   "outputs": [
    {
     "name": "stdout",
     "output_type": "stream",
     "text": [
      "0.3+0.3+0.3 est différent de 0.9 en calcul à nombre flottant\n",
      "On a égalité avec la fonction isclose\n"
     ]
    }
   ],
   "source": [
    "if 0.3 + 0.3 + 0.3 == 0.9:\n",
    "    print(\"0.3+0.3+0.3 est égal à 0.9 en calcul à nombre flottant\")\n",
    "else:\n",
    "    print(\"0.3+0.3+0.3 est différent de 0.9 en calcul à nombre flottant\")\n",
    "\n",
    "import math\n",
    "\n",
    "if math.isclose(0.3 + 0.3 + 0.3, 0.9):\n",
    "    print(\"On a égalité avec la fonction isclose\")"
   ]
  },
  {
   "cell_type": "markdown",
   "id": "97feb63a",
   "metadata": {},
   "source": [
    "# Instructions "
   ]
  },
  {
   "cell_type": "code",
   "execution_count": 41,
   "id": "c7daac12",
   "metadata": {},
   "outputs": [],
   "source": [
    "# L'instruction pass permet de ne rien faire mais ne pas générer d'erreur lors de l'exécution du code\n",
    "for i in range(10):\n",
    "    pass"
   ]
  },
  {
   "cell_type": "code",
   "execution_count": 42,
   "id": "4d70faf9",
   "metadata": {},
   "outputs": [
    {
     "name": "stdout",
     "output_type": "stream",
     "text": [
      "0\n",
      "1\n",
      "2\n",
      "3\n",
      "4\n",
      "C'est fini\n"
     ]
    }
   ],
   "source": [
    "# ici, on va en fait sortir de la boucle avec l'instruction break\n",
    "for i in range(10):\n",
    "    if i == 5:\n",
    "        break\n",
    "    print(i)\n",
    "print(\"C'est fini\")"
   ]
  },
  {
   "cell_type": "code",
   "execution_count": 43,
   "id": "31905acc",
   "metadata": {},
   "outputs": [
    {
     "name": "stdout",
     "output_type": "stream",
     "text": [
      "0\n",
      "1\n",
      "2\n",
      "3\n",
      "4\n",
      "6\n",
      "7\n",
      "8\n",
      "9\n"
     ]
    }
   ],
   "source": [
    "# Ici, on va sauter la valeur 5\n",
    "for i in range(10):\n",
    "    if i == 5:\n",
    "        continue\n",
    "    print(i)"
   ]
  },
  {
   "cell_type": "code",
   "execution_count": 46,
   "id": "cac02049",
   "metadata": {},
   "outputs": [
    {
     "name": "stdout",
     "output_type": "stream",
     "text": [
      "1000000.0\n",
      "1000000.0007792843\n"
     ]
    }
   ],
   "source": []
  },
  {
   "cell_type": "code",
   "execution_count": null,
   "id": "610bbed2",
   "metadata": {},
   "outputs": [],
   "source": []
  }
 ],
 "metadata": {
  "kernelspec": {
   "display_name": "Python 3 (ipykernel)",
   "language": "python",
   "name": "python3"
  },
  "language_info": {
   "codemirror_mode": {
    "name": "ipython",
    "version": 3
   },
   "file_extension": ".py",
   "mimetype": "text/x-python",
   "name": "python",
   "nbconvert_exporter": "python",
   "pygments_lexer": "ipython3",
   "version": "3.9.13"
  }
 },
 "nbformat": 4,
 "nbformat_minor": 5
}
