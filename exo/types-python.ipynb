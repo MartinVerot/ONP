{
 "cells": [
  {
   "cell_type": "markdown",
   "id": "1e26b1ea",
   "metadata": {},
   "source": [
    "# Types\n",
    "\n",
    "<span id=\"nombres\"></span>\n",
    "## Entiers vs nombres flottants\n",
    "\n",
    "On peut voir ici qu'en fonction de la manière dont on a déclaré la variable, le résultat est différent."
   ]
  },
  {
   "cell_type": "code",
   "execution_count": 1,
   "id": "20370fe5",
   "metadata": {},
   "outputs": [
    {
     "name": "stdout",
     "output_type": "stream",
     "text": [
      "3 <class 'int'>\n",
      "3.0 <class 'float'>\n"
     ]
    }
   ],
   "source": [
    "a = 3\n",
    "b = 3.\n",
    "print(a, type(a))\n",
    "print(b, type(b))"
   ]
  },
  {
   "cell_type": "markdown",
   "id": "e8bc8176",
   "metadata": {},
   "source": [
    "Cela peut alors avoir des conséquences par la suite sur les opérations possibles ou non avec les variables."
   ]
  },
  {
   "cell_type": "code",
   "execution_count": 2,
   "id": "1293da30",
   "metadata": {},
   "outputs": [
    {
     "name": "stdout",
     "output_type": "stream",
     "text": [
      "0\n",
      "1\n",
      "2\n"
     ]
    }
   ],
   "source": [
    "#a étant entier, l'opération est possible\n",
    "for indix in range(a):\n",
    "    print(indix)"
   ]
  },
  {
   "cell_type": "code",
   "execution_count": 3,
   "id": "3d2af6f6",
   "metadata": {
    "collapsed": true
   },
   "outputs": [
    {
     "ename": "TypeError",
     "evalue": "'float' object cannot be interpreted as an integer",
     "output_type": "error",
     "traceback": [
      "\u001b[0;31m---------------------------------------------------------------------------\u001b[0m",
      "\u001b[0;31mTypeError\u001b[0m                                 Traceback (most recent call last)",
      "\u001b[0;32m/tmp/ipykernel_9046/3347334423.py\u001b[0m in \u001b[0;36m<module>\u001b[0;34m\u001b[0m\n\u001b[1;32m      1\u001b[0m \u001b[0;31m#b étant un flottant, cela engendre une erreur\u001b[0m\u001b[0;34m\u001b[0m\u001b[0;34m\u001b[0m\u001b[0m\n\u001b[0;32m----> 2\u001b[0;31m \u001b[0;32mfor\u001b[0m \u001b[0mindix\u001b[0m \u001b[0;32min\u001b[0m \u001b[0mrange\u001b[0m\u001b[0;34m(\u001b[0m\u001b[0mb\u001b[0m\u001b[0;34m)\u001b[0m\u001b[0;34m:\u001b[0m\u001b[0;34m\u001b[0m\u001b[0;34m\u001b[0m\u001b[0m\n\u001b[0m\u001b[1;32m      3\u001b[0m     \u001b[0mprint\u001b[0m\u001b[0;34m(\u001b[0m\u001b[0mindix\u001b[0m\u001b[0;34m)\u001b[0m\u001b[0;34m\u001b[0m\u001b[0;34m\u001b[0m\u001b[0m\n",
      "\u001b[0;31mTypeError\u001b[0m: 'float' object cannot be interpreted as an integer"
     ]
    }
   ],
   "source": [
    "#b étant un flottant, cela engendre une erreur\n",
    "for indix in range(b):\n",
    "    print(indix)    "
   ]
  },
  {
   "cell_type": "code",
   "execution_count": 4,
   "id": "c8d79b63",
   "metadata": {
    "collapsed": true
   },
   "outputs": [
    {
     "name": "stdout",
     "output_type": "stream",
     "text": [
      "0\n",
      "1\n",
      "2\n"
     ]
    }
   ],
   "source": [
    "#Après une conversion de type, la fonction s'éxecute correctement\n",
    "for indix in range(int(b)):\n",
    "    print(indix)  "
   ]
  },
  {
   "cell_type": "markdown",
   "id": "7941ecd1",
   "metadata": {},
   "source": [
    "# Division\n",
    "<span id=\"division\"></span>La division peut être entière ou non"
   ]
  },
  {
   "cell_type": "code",
   "execution_count": 5,
   "id": "f00d88c2",
   "metadata": {
    "collapsed": true
   },
   "outputs": [
    {
     "name": "stdout",
     "output_type": "stream",
     "text": [
      "2.5\n",
      "<class 'float'>\n",
      "2\n",
      "<class 'int'>\n",
      "1\n"
     ]
    }
   ],
   "source": [
    "a = 2\n",
    "b = 5\n",
    "#Division flottante, marche avec des entiers\n",
    "print(b/a)\n",
    "print(type(b/a))\n",
    "#Division entière qui donne le quotient\n",
    "print(b//a)\n",
    "print(type(b//a))\n",
    "#Pour obtenir le reste \n",
    "print(b%a)"
   ]
  },
  {
   "cell_type": "markdown",
   "id": "995484b2",
   "metadata": {},
   "source": [
    "# Arithmétique en nombre flottant et approximations\n",
    "<span id=\"arithfloat\"></span>\n",
    "\n",
    "## une égalité non vérifiée\n",
    "Il faut **TOUJOURS** être conscient que la représentation d'un nombre flottant peut amener à des erreurs d'arrondis ou des problèmes de comparaison."
   ]
  },
  {
   "cell_type": "code",
   "execution_count": 6,
   "id": "98037f9e",
   "metadata": {},
   "outputs": [
    {
     "name": "stdout",
     "output_type": "stream",
     "text": [
      "False\n"
     ]
    }
   ],
   "source": [
    "#3*0.3 n'est pas égal à 0.9\n",
    "print(0.3+0.3+0.3 == 0.9)"
   ]
  },
  {
   "cell_type": "markdown",
   "id": "ca78d559",
   "metadata": {},
   "source": [
    "Le package decimal permet d'identifier le souci en affichant explicitement la valeur réellement stockées en mémoire par python."
   ]
  },
  {
   "cell_type": "code",
   "execution_count": 7,
   "id": "4faa9f9c",
   "metadata": {},
   "outputs": [
    {
     "name": "stdout",
     "output_type": "stream",
     "text": [
      "0.899999999999999911182158029987476766109466552734375\n",
      "0.90000000000000002220446049250313080847263336181640625\n"
     ]
    }
   ],
   "source": [
    "from decimal import Decimal\n",
    "print(Decimal.from_float(0.3+0.3+0.3))\n",
    "print(Decimal.from_float(0.9))"
   ]
  },
  {
   "cell_type": "markdown",
   "id": "fddbe936",
   "metadata": {},
   "source": [
    "## une variance négative\n",
    "\n",
    "Un exemple de calcul de la variance qui donne une variance ... négative. [tiré d'une page de blog de Julia Evans](https://jvns.ca/blog/2023/01/13/examples-of-floating-point-problems/).\n",
    "\n",
    "On peut suivre une implémentation naïve pour calculer la variance réduite :\n",
    "$$ V(x) = \\dfrac{1}{N-1} \\sum_i (x_i - \\bar{x})^2 =  \\dfrac{1}{N-1} \\left( \\sum_i x_i^2\\right) -  \\dfrac{N}{N-1}\\bar{x}^2$$ \n",
    "où $\\bar{x}$ est la moyenne des points $\\{x_i\\}$ et $N$ est le nombre de points considérés.\n"
   ]
  },
  {
   "cell_type": "code",
   "execution_count": 8,
   "id": "b8a24574",
   "metadata": {},
   "outputs": [
    {
     "name": "stdout",
     "output_type": "stream",
     "text": [
      "« Mauvais » calcul de la variance réduite  : 7.894716166666666\n",
      "Meilleur calcul de la variance réduite     : 7.894716166666665\n",
      "« Mauvais » calcul de la variance réduite  : -190.05630056300564\n",
      "Meilleur calcul de la variance réduite     : 0.000300497935268595\n"
     ]
    }
   ],
   "source": [
    "import numpy as np\n",
    "#Implémentation de la formule donnée ci-dessous qui peut donner des résultats catastrophiques\n",
    "def calculate_bad_variance(nums):\n",
    "    sum_of_squares = 0\n",
    "    sum_of_nums = 0\n",
    "    N = len(nums)\n",
    "    for num in nums:\n",
    "        sum_of_squares += num**2\n",
    "        sum_of_nums += num\n",
    "    mean = sum_of_nums / N\n",
    "    variance = (sum_of_squares - N * mean**2) / (N-1)\n",
    "    return variance\n",
    "#Un exemple où « ça se passe bien »\n",
    "values = [0.1,0.3,0.6,7.0,0.003,-0.24]\n",
    "print('« Mauvais » calcul de la variance réduite  : {}'.format(calculate_bad_variance(values)))\n",
    "print('Meilleur calcul de la variance réduite     : {}'.format(np.std(values,ddof=1)**2))   \n",
    "#création de 100000 valeurs comprises entre 1e9 et 1e9+0.06\n",
    "np.random.seed(45)\n",
    "values = np.random.uniform(100000000, 100000000.06, 100000)\n",
    "print('« Mauvais » calcul de la variance réduite  : {}'.format(calculate_bad_variance(values)))\n",
    "print('Meilleur calcul de la variance réduite     : {}'.format(np.std(values,ddof=1)**2))     \n"
   ]
  },
  {
   "cell_type": "markdown",
   "id": "d9f18bbe",
   "metadata": {},
   "source": [
    "On peut voir qu'avec l'implémentation naïve de la variance, **qui est strictement positive par définition**, *on peut arriver à trouver une grandeur négative*..."
   ]
  },
  {
   "cell_type": "markdown",
   "id": "933e897e",
   "metadata": {},
   "source": [
    "# Chaînes de caractère\n",
    "<span id=\"carac\"></span>"
   ]
  },
  {
   "cell_type": "code",
   "execution_count": 9,
   "id": "3d9deafa",
   "metadata": {
    "collapsed": true
   },
   "outputs": [
    {
     "name": "stdout",
     "output_type": "stream",
     "text": [
      "49\n"
     ]
    }
   ],
   "source": [
    "a = '4'\n",
    "b = 5\n",
    "c = '9'\n",
    "#Une addition qui est en fait une caténation\n",
    "print(a+c)"
   ]
  },
  {
   "cell_type": "code",
   "execution_count": 10,
   "id": "c6aa51fc",
   "metadata": {
    "collapsed": true
   },
   "outputs": [
    {
     "ename": "TypeError",
     "evalue": "can only concatenate str (not \"int\") to str",
     "output_type": "error",
     "traceback": [
      "\u001b[0;31m---------------------------------------------------------------------------\u001b[0m",
      "\u001b[0;31mTypeError\u001b[0m                                 Traceback (most recent call last)",
      "\u001b[0;32m/tmp/ipykernel_9046/1965898148.py\u001b[0m in \u001b[0;36m<module>\u001b[0;34m\u001b[0m\n\u001b[1;32m      1\u001b[0m \u001b[0;31m#Une erreur liée à la confusion entre addition et caténation\u001b[0m\u001b[0;34m\u001b[0m\u001b[0;34m\u001b[0m\u001b[0m\n\u001b[0;32m----> 2\u001b[0;31m \u001b[0mprint\u001b[0m\u001b[0;34m(\u001b[0m\u001b[0ma\u001b[0m\u001b[0;34m+\u001b[0m\u001b[0mb\u001b[0m\u001b[0;34m)\u001b[0m\u001b[0;34m\u001b[0m\u001b[0;34m\u001b[0m\u001b[0m\n\u001b[0m",
      "\u001b[0;31mTypeError\u001b[0m: can only concatenate str (not \"int\") to str"
     ]
    }
   ],
   "source": [
    "#Une erreur liée à la confusion entre addition et caténation\n",
    "print(a+b)"
   ]
  },
  {
   "cell_type": "markdown",
   "id": "e89e9219",
   "metadata": {},
   "source": [
    "### Options de formatage<span id=\"formatcarac\"></span>\n",
    "Résultat du tableau 5.1 sur le formatage des variables"
   ]
  },
  {
   "cell_type": "code",
   "execution_count": 11,
   "id": "a6d23e64",
   "metadata": {},
   "outputs": [
    {
     "name": "stdout",
     "output_type": "stream",
     "text": [
      "a 3.14\n",
      "3.14 a\n",
      "blabla    \n",
      "    blabla\n",
      "1\n",
      "  1\n",
      "001\n",
      "3.140000\n",
      "3.140\n",
      "     3.140\n",
      "3.140000e+00\n",
      "3.140e+00\n",
      " 3.140e+00\n"
     ]
    }
   ],
   "source": [
    "print(\"{} {}\".format('a',3.14))\n",
    "print(\"{1} {0}\".format('a',3.14))\n",
    "print(\"{:<10}\".format('blabla'))\n",
    "print(\"{:>10}\".format('blabla'))\n",
    "print(\"{:d}\".format(1))\n",
    "print(\"{:3d}\".format(1))\n",
    "print(\"{:03d}\".format(1))\n",
    "print(\"{:f}\".format(3.14))\n",
    "print(\"{:.3f}\".format(3.14))\n",
    "print(\"{:10.3f}\".format(3.14))\n",
    "print(\"{:e}\".format(3.14))\n",
    "print(\"{:.3e}\".format(3.14))\n",
    "print(\"{:10.3e}\".format(3.14))"
   ]
  },
  {
   "cell_type": "markdown",
   "id": "cd3ef949",
   "metadata": {},
   "source": [
    "### Syntaxe allégée pour afficher des variables"
   ]
  },
  {
   "cell_type": "code",
   "execution_count": 12,
   "id": "910ca7f2",
   "metadata": {},
   "outputs": [
    {
     "name": "stdout",
     "output_type": "stream",
     "text": [
      "la variable truc vaut 18.25 et bidule vaut 0\n"
     ]
    }
   ],
   "source": [
    "truc = 18.25\n",
    "bidule = 0\n",
    "print(f\"la variable truc vaut {truc} et bidule vaut {bidule}\")"
   ]
  },
  {
   "cell_type": "markdown",
   "id": "eda7da14",
   "metadata": {},
   "source": [
    "### Pour ne pas avoir à échapper les backslash"
   ]
  },
  {
   "cell_type": "code",
   "execution_count": 13,
   "id": "d00d8582",
   "metadata": {},
   "outputs": [
    {
     "name": "stdout",
     "output_type": "stream",
     "text": [
      "\textit{un peu de LaTeX}\n",
      "ewline\n",
      "\\textit{un peu de LaTeX}\\newline\n",
      "\\textit{un peu de LaTeX}\\newline\n"
     ]
    }
   ],
   "source": [
    "#Ici, \\t est correspond à une tabulation, \\r est un retour à la ligne et \\n est une nouvelle ligne\n",
    "print(\"\\textit{un peu de LaTeX}\\newline\")\n",
    "#L'option r permet de ne pas avoir à échapper les caractères\n",
    "print(r\"\\textit{un peu de LaTeX}\\newline\")\n",
    "print(\"\\\\textit{un peu de LaTeX}\\\\newline\")"
   ]
  },
  {
   "cell_type": "markdown",
   "id": "41e9917b",
   "metadata": {},
   "source": [
    "### Mélanger format et accolades"
   ]
  },
  {
   "cell_type": "code",
   "execution_count": 17,
   "id": "d7507214",
   "metadata": {},
   "outputs": [
    {
     "ename": "ValueError",
     "evalue": "unmatched '{' in format spec",
     "output_type": "error",
     "traceback": [
      "\u001b[0;31m---------------------------------------------------------------------------\u001b[0m",
      "\u001b[0;31mValueError\u001b[0m                                Traceback (most recent call last)",
      "\u001b[0;32m/tmp/ipykernel_9046/1550721842.py\u001b[0m in \u001b[0;36m<module>\u001b[0;34m\u001b[0m\n\u001b[1;32m      1\u001b[0m \u001b[0;31m# Génère une erreur car il y a une accolade que l'on veut afficher en début de chaîne de caractère\u001b[0m\u001b[0;34m\u001b[0m\u001b[0;34m\u001b[0m\u001b[0m\n\u001b[0;32m----> 2\u001b[0;31m \u001b[0mprint\u001b[0m\u001b[0;34m(\u001b[0m\u001b[0;34m\"une accolade : '{' et voilà la valeur de truc : {}\"\u001b[0m\u001b[0;34m.\u001b[0m\u001b[0mformat\u001b[0m\u001b[0;34m(\u001b[0m\u001b[0;36m42\u001b[0m\u001b[0;34m)\u001b[0m\u001b[0;34m)\u001b[0m\u001b[0;34m\u001b[0m\u001b[0;34m\u001b[0m\u001b[0m\n\u001b[0m",
      "\u001b[0;31mValueError\u001b[0m: unmatched '{' in format spec"
     ]
    }
   ],
   "source": [
    "# Génère une erreur car il y a une accolade que l'on veut afficher en début de chaîne de caractère\n",
    "print(\"une accolade : '{' et voilà la valeur de truc : {}\".format(42))"
   ]
  },
  {
   "cell_type": "code",
   "execution_count": 14,
   "id": "488086ea",
   "metadata": {},
   "outputs": [
    {
     "name": "stdout",
     "output_type": "stream",
     "text": [
      "\\textititalique\n",
      "\\textit{}\n",
      "\\textit{italique}\n"
     ]
    }
   ],
   "source": [
    "texte = 'italique'\n",
    "#Ici, les accolades sont remplacées par la valeur de la variable\n",
    "print(r\"\\textit{}\".format(texte))\n",
    "#Les accolades sont doublées donc affichées et il n'y a pas de variable attendue\n",
    "print(r\"\\textit{{}}\".format(texte))\n",
    "#Ici, les accolades sont doublées pour les afficher et une paire supplémentaire permet d'afficher la variable\n",
    "print(r\"\\textit{{{}}}\".format(texte))"
   ]
  },
  {
   "cell_type": "markdown",
   "id": "89884ef4",
   "metadata": {},
   "source": [
    "### Faire une chaine de caractère sur plusieurs lignes"
   ]
  },
  {
   "cell_type": "code",
   "execution_count": 20,
   "id": "ca5229a3",
   "metadata": {},
   "outputs": [
    {
     "name": "stdout",
     "output_type": "stream",
     "text": [
      "une chaine\n",
      "de caractère sur \n",
      "trois lignes\n"
     ]
    }
   ],
   "source": [
    "\"\"\"L'utilisation du triple double quote permet d'utiliser des sauts à la ligne, mais ceux-ci font\n",
    "partie de la chaine de caractère\"\"\"\n",
    "test = \"\"\"une chaine\n",
    "de caractère sur \n",
    "trois lignes\"\"\"\n",
    "print(test)"
   ]
  },
  {
   "cell_type": "code",
   "execution_count": 22,
   "id": "3303ccb7",
   "metadata": {},
   "outputs": [
    {
     "name": "stdout",
     "output_type": "stream",
     "text": [
      "une chaine de caractère sur trois lignes\n"
     ]
    }
   ],
   "source": [
    "\"\"\"Le backslash '\\' permet de continuer une chaine de caracère sur une autre ligne,\n",
    "mais dans ce cas, le retour à la ligne ne fait pas partie de la chaine de caractères.\"\"\"\n",
    "test = \"une chaine \\\n",
    "de caractère sur \\\n",
    "trois lignes\"\n",
    "print(test)"
   ]
  },
  {
   "cell_type": "markdown",
   "id": "c5dbdf15",
   "metadata": {},
   "source": [
    "# Listes"
   ]
  },
  {
   "cell_type": "markdown",
   "id": "a79ef6b1",
   "metadata": {},
   "source": [
    "### Différence entre append et extend"
   ]
  },
  {
   "cell_type": "code",
   "execution_count": 27,
   "id": "2d9bb2b8",
   "metadata": {},
   "outputs": [
    {
     "name": "stdout",
     "output_type": "stream",
     "text": [
      "append [0, 1, 2, [4, 5, 6]]\n",
      "extend [0, 1, 2, 4, 5, 6]\n"
     ]
    }
   ],
   "source": [
    "#Avec append on ajoute UN nouvel élement qui est une liste\n",
    "l = [0,1,2]\n",
    "l2 = [4,5,6]\n",
    "l.append(l2)\n",
    "print('append',l)\n",
    "#Avec extend on ajoute PLUSIEURS nouveaux élements qui sont ceux de la liste (ou plus généralement de l'objet itérable) \n",
    "l = [0,1,2]\n",
    "l2 = [4,5,6]\n",
    "l.extend(l2)\n",
    "print('extend',l)"
   ]
  },
  {
   "cell_type": "markdown",
   "id": "d0cef40f",
   "metadata": {},
   "source": [
    "# Dictionnaire\n",
    "\n",
    "Création d'un dictionnaire."
   ]
  },
  {
   "cell_type": "code",
   "execution_count": 68,
   "id": "0e519b69",
   "metadata": {},
   "outputs": [
    {
     "name": "stdout",
     "output_type": "stream",
     "text": [
      "{'nom': 'John', 'prenom': 'Doe'}\n"
     ]
    }
   ],
   "source": [
    "dictionnaire = {'nom': 'John','prenom':'Doe'}\n",
    "print(dictionnaire)"
   ]
  },
  {
   "cell_type": "markdown",
   "id": "be7f4f68",
   "metadata": {},
   "source": [
    "Une mauvaise manière de créer un ensemble de dictionnaires car la structure des dictionnaires n'est pas reproductible, ni lisible, de plus il pourrait y avoir des duplicatas de clés :"
   ]
  },
  {
   "cell_type": "code",
   "execution_count": 71,
   "id": "953d1947",
   "metadata": {},
   "outputs": [
    {
     "name": "stdout",
     "output_type": "stream",
     "text": [
      "[{\"Harry Potter à l'école des sorciers\": 'J. K. Rowling'}, {'Harry Potter et la Chambre des secrets': 'J. K. Rowling'}, {\"Harry Potter et le Prisonnier d'Azkaban\": 'J. K. Rowling'}, {'Harry Potter et la Coupe de feu': 'J. K. Rowling'}, {\"Harry Potter et l'Ordre du Phénix\": 'J. K. Rowling'}, {'Harry Potter et le Prince de sang-mêlé': 'J. K. Rowling'}, {'Harry Potter et les Reliques de la Mort': 'J. K. Rowling'}]\n",
      "[{'title': \"Harry Potter à l'école des sorciers\", 'author': 'J. K. Rowling'}, {'title': 'Harry Potter et la Chambre des secrets', 'author': 'J. K. Rowling'}, {'title': \"Harry Potter et le Prisonnier d'Azkaban\", 'author': 'J. K. Rowling'}, {'title': 'Harry Potter et la Coupe de feu', 'author': 'J. K. Rowling'}, {'title': \"Harry Potter et l'Ordre du Phénix\", 'author': 'J. K. Rowling'}, {'title': 'Harry Potter et le Prince de sang-mêlé', 'author': 'J. K. Rowling'}, {'title': 'Harry Potter et les Reliques de la Mort', 'author': 'J. K. Rowling'}]\n"
     ]
    }
   ],
   "source": [
    "bad_dict_list = [{\"Harry Potter à l'école des sorciers\" : 'J. K. Rowling'},\\\n",
    "                {\"Harry Potter et la Chambre des secrets\" : 'J. K. Rowling'},\\\n",
    "                {\"Harry Potter et le Prisonnier d'Azkaban\" : 'J. K. Rowling'},\\\n",
    "                {\"Harry Potter et la Coupe de feu\" : 'J. K. Rowling'},\\\n",
    "                {\"Harry Potter et l'Ordre du Phénix\" : 'J. K. Rowling'},\\\n",
    "                {\"Harry Potter et le Prince de sang-mêlé\" : 'J. K. Rowling'},\\\n",
    "                {\"Harry Potter et les Reliques de la Mort\" : 'J. K. Rowling'}]\n",
    "print(bad_dict_list)\n",
    "\n",
    "good_dict_list = [{'title' : \"Harry Potter à l'école des sorciers\" , 'author': 'J. K. Rowling'},\\\n",
    "                {'title' :\"Harry Potter et la Chambre des secrets\" , 'author':  'J. K. Rowling'},\\\n",
    "                {'title' :\"Harry Potter et le Prisonnier d'Azkaban\" , 'author':  'J. K. Rowling'},\\\n",
    "                {'title' :\"Harry Potter et la Coupe de feu\", 'author': 'J. K. Rowling'},\\\n",
    "                {'title' :\"Harry Potter et l'Ordre du Phénix\", 'author':  'J. K. Rowling'},\\\n",
    "                {'title' :\"Harry Potter et le Prince de sang-mêlé\" , 'author':  'J. K. Rowling'},\\\n",
    "                {'title' :\"Harry Potter et les Reliques de la Mort\" , 'author': 'J. K. Rowling'}]\n",
    "print(good_dict_list)"
   ]
  },
  {
   "cell_type": "code",
   "execution_count": 73,
   "id": "914bfdba",
   "metadata": {},
   "outputs": [
    {
     "name": "stdout",
     "output_type": "stream",
     "text": [
      "{'title': \"Harry Potter à l'école des sorciers\", 'author': 'J. K. Rowling'}\n",
      "<zip object at 0x7f45e093ac00>\n"
     ]
    }
   ],
   "source": [
    "#Une autre méthode avec la fonction dict pour éviter d'avoir à mettre des guillemets pour chaque clé\n",
    "dictionnaire = dict(title=\"Harry Potter à l'école des sorciers\" , author = 'J. K. Rowling')\n",
    "print(dictionnaire)"
   ]
  },
  {
   "cell_type": "markdown",
   "id": "3877cb8f",
   "metadata": {},
   "source": [
    "# Tuples"
   ]
  },
  {
   "cell_type": "code",
   "execution_count": 79,
   "id": "4feaa958",
   "metadata": {},
   "outputs": [
    {
     "name": "stdout",
     "output_type": "stream",
     "text": [
      "<zip object at 0x7f45e09327c0>\n",
      "[('title', \"Harry Potter à l'école des sorciers\"), ('author', 'J. K. Rowling')]\n",
      "{'title': \"Harry Potter à l'école des sorciers\", 'author': 'J. K. Rowling'}\n"
     ]
    }
   ],
   "source": [
    "#Si jamais on a déjà créé les clés d'une part et les valeur d'autre part, il est possible de faire une liste de tuples\n",
    "keys = ['title','author']\n",
    "values = [\"Harry Potter à l'école des sorciers\", 'J. K. Rowling']\n",
    "zipped = zip(keys,values)\n",
    "\n",
    "print(zipped)\n",
    "#contenu de l'objet produit par zip\n",
    "print(list(zipped))\n",
    "#On peut le transformer en dictionnaire\n",
    "print(dict(zip(keys,values)))"
   ]
  },
  {
   "cell_type": "markdown",
   "id": "ff4bf7e6",
   "metadata": {},
   "source": [
    "# Variables mutables ou immutable"
   ]
  },
  {
   "cell_type": "code",
   "execution_count": 83,
   "id": "1d86b9e1",
   "metadata": {},
   "outputs": [
    {
     "name": "stdout",
     "output_type": "stream",
     "text": [
      "contenu de la variable `foo`         : bar\n",
      "adresse mémoire de la variable foo   : 139938666989232\n",
      "contenu de la variable `liste`       : [0, 1, 2, 3, [4, 5, 6]]\n",
      "adresse mémoire de la variable liste : 139938097217472\n"
     ]
    }
   ],
   "source": [
    "#déclaration de variable\n",
    "foo = 'bar'\n",
    "print('contenu de la variable `foo`         : {}'.format(foo))\n",
    "print('adresse mémoire de la variable foo   : {}'.format(id(foo)))\n",
    "liste = [0,1,2,3,[4,5,6]]\n",
    "print('contenu de la variable `liste`       : {}'.format(liste))\n",
    "print('adresse mémoire de la variable liste : {}'.format(id(liste)))"
   ]
  },
  {
   "cell_type": "markdown",
   "id": "dc8ab810",
   "metadata": {},
   "source": [
    "## variable immutable"
   ]
  },
  {
   "cell_type": "code",
   "execution_count": 84,
   "id": "c6b3f3a7",
   "metadata": {},
   "outputs": [
    {
     "name": "stdout",
     "output_type": "stream",
     "text": [
      "contenu de la variable `foo`         : cut\n",
      "adresse mémoire de la variable foo   : 139938659057328\n"
     ]
    }
   ],
   "source": [
    "foo = 'cut'\n",
    "print('contenu de la variable `foo`         : {}'.format(foo))\n",
    "print('adresse mémoire de la variable foo   : {}'.format(id(foo)))\n"
   ]
  },
  {
   "cell_type": "markdown",
   "id": "133dbf0a",
   "metadata": {},
   "source": [
    "En changeant le contenu de la variable pour un objet immutable, on a en fait changé la référence de l'adresse mémoire vers un nouvel objet.\n",
    "\n",
    "## Variable mutable"
   ]
  },
  {
   "cell_type": "code",
   "execution_count": 90,
   "id": "a083b6d4",
   "metadata": {},
   "outputs": [
    {
     "name": "stdout",
     "output_type": "stream",
     "text": [
      "contenu de la variable `liste`          : [0, 1, 2, 3, [4, 5, 6]]\n",
      "adresse mémoire de la variable liste    : 139938097244352\n",
      "adresse mémoire de la variable liste[0] : 139938687097104\n",
      "contenu de la variable `liste`          : [7, 1, 2, 3, [4, 5, 6]]\n",
      "adresse mémoire de la variable liste    : 139938097244352\n",
      "adresse mémoire de la variable liste[0] : 139938687097328\n"
     ]
    }
   ],
   "source": [
    "liste = [0,1,2,3,[4,5,6]]\n",
    "print('contenu de la variable `liste`          : {}'.format(liste))\n",
    "print('adresse mémoire de la variable liste    : {}'.format(id(liste)))\n",
    "print('adresse mémoire de la variable liste[0] : {}'.format(id(liste[0])))\n",
    "liste[0]=7\n",
    "print('contenu de la variable `liste`          : {}'.format(liste))\n",
    "print('adresse mémoire de la variable liste    : {}'.format(id(liste)))\n",
    "print('adresse mémoire de la variable liste[0] : {}'.format(id(liste[0])))"
   ]
  },
  {
   "cell_type": "markdown",
   "id": "6865ed15",
   "metadata": {},
   "source": [
    "Pour un objet mutable, on peut voir que l'on n'a pas changé l'adresse mémoire vers laquelle la variable pointe. Mais par contre, on a changé les références internes de la liste."
   ]
  },
  {
   "cell_type": "markdown",
   "id": "84470a13",
   "metadata": {},
   "source": [
    "### Copie superficielle ou profonde (shallow copy versus deep copy)\n",
    "<span id=\"copies\"></span>\n",
    "La copie de liste ou tout éléments qui s'en approche est un problème **IMPORTANT** en programmation, quel que soit le langage. En général, la liste est stockée en mémoire sous la forme suivante :\n",
    " * un endroit de la mémoire permet de stocker l'identifiant de la liste\n",
    " * chacun des éléments de la liste est lui-même stocké dans la mémoire à un endroit différent\n",
    "La liste référence chaque endroit de la mémoire où sont stockés les éléments qui la constituent.\n",
    "\n",
    "Si :\n",
    "* on fait une copie profonde (deep copy) : on copie à un nouvel endroit de la mémoire la liste ET les éléments qui la constituent. Ainsi, si on a deux listes l1 et l2 avec l2 qui est une deep copy de l1, alors modifier l2 ne changera pas le contenu de l1 ou vice-versa.\n",
    "* on fait une copie superficiell (shallow copy) : on copie à un nouvel endroit de la mémoire la liste MAIS **PAS FORCÉMENT** les éléments qui la constituent. Dans ce cas, modifier un élément de l1 affectera également le contenu de la liste l2 (et uniquement dans ce cas là).\n",
    "\n",
    "Il faut donc toujours faire **TRÈS ATTENTION** au fait de faire une copie deep ou shallow en fonction du comportement souhaité. Les deux pouvants être souhaités. Pour faire une copie profonde d'une liste, il faut utliser la librairie deepcopy.\n",
    "\n",
    "#### Copie très shallow "
   ]
  },
  {
   "cell_type": "code",
   "execution_count": null,
   "id": "18315c89",
   "metadata": {},
   "outputs": [],
   "source": []
  },
  {
   "cell_type": "code",
   "execution_count": 42,
   "id": "b0ddb162",
   "metadata": {},
   "outputs": [
    {
     "name": "stdout",
     "output_type": "stream",
     "text": [
      "Exemple de copie complètement shallow : modifier une liste modifie aussi l'autre !\n",
      "[4, 1, 2, 3]\n",
      "[4, 1, 2, 3]\n"
     ]
    }
   ],
   "source": [
    "#Exemple de copie shallow en fixant une égalité\n",
    "l1 = [0,1,2,3]\n",
    "l2 = l1\n",
    "l2[0]=4\n",
    "#On a modifié les DEUX listes d'un coup\n",
    "print('Exemple de copie complètement shallow : modifier une liste modifie aussi l\\'autre !')\n",
    "print(l1)\n",
    "print(l2)"
   ]
  },
  {
   "cell_type": "markdown",
   "id": "5e4c9c58",
   "metadata": {},
   "source": [
    "#### Copie un peu moins shallow mais pas totalement deep non plus\n",
    "Avec Python, la copie d'une liste avec \"l1.copy()\" n'est « deep » que pour le premier niveau d'imbrication, mais « shallow » au-delà."
   ]
  },
  {
   "cell_type": "code",
   "execution_count": 43,
   "id": "672e2142",
   "metadata": {},
   "outputs": [
    {
     "name": "stdout",
     "output_type": "stream",
     "text": [
      "Copie un peu plus profonde avec .copy() qui permet de maintenir l'indépendance de l1 et l2 au premier niveau\n",
      "[0, 1, 2, 3, [4, 5, 6]]\n",
      "[7, 1, 2, 3, [4, 5, 6]]\n",
      "Mais qui n'est quand même pas une copie profonde : si on change un sous-élément : cela affecte tout de même les deux listes !\n",
      "[0, 1, 2, 3, [8, 5, 6]]\n",
      "[7, 1, 2, 3, [8, 5, 6]]\n"
     ]
    }
   ],
   "source": [
    "#exemple de copie un peu plus profonde avec .copy()\n",
    "l1 = [0,1,2,3,[4,5,6]]\n",
    "l2 = l1.copy()\n",
    "l2[0]=7\n",
    "#Modifier l2 n'a pas changé l1\n",
    "print(\"Copie un peu plus profonde avec .copy() qui permet de maintenir l'indépendance de l1 et l2 au premier niveau\")\n",
    "print(l1)\n",
    "print(l2)\n",
    "print(\"Mais qui n'est quand même pas une copie profonde : si on change un sous-élément : cela affecte tout de même les deux listes !\")\n",
    "l2[4][0]=8\n",
    "#Mais changer un sous élément de l2 a changé l1\n",
    "print(l1)\n",
    "print(l2)"
   ]
  },
  {
   "cell_type": "markdown",
   "id": "ae00b44a",
   "metadata": {},
   "source": [
    "#### Une copie vraiement deep\n",
    "La librairie `copy` permet de faire de vraies copies profondes."
   ]
  },
  {
   "cell_type": "code",
   "execution_count": 45,
   "id": "0546e321",
   "metadata": {},
   "outputs": [
    {
     "name": "stdout",
     "output_type": "stream",
     "text": [
      "Ici, la copie profonde fait que l'on a bien deux listes qui sont maintenant totalement indépendantes\n",
      "[0, 1, 2, 3, [4, 5, 6]]\n",
      "[0, 1, 2, 3, [8, 5, 6]]\n"
     ]
    }
   ],
   "source": [
    "import copy\n",
    "#exemple de copie profonde avec copy.deepcopy()\n",
    "l1 = [0,1,2,3,[4,5,6]]\n",
    "l2 = copy.deepcopy(l1)\n",
    "l2[4][0]=8\n",
    "print('Ici, la copie profonde fait que l\\'on a bien deux listes qui sont maintenant totalement indépendantes')\n",
    "print(l1)\n",
    "print(l2)"
   ]
  },
  {
   "cell_type": "markdown",
   "id": "893c2db5",
   "metadata": {},
   "source": [
    "### Pour aller un peu plus loin \n",
    "Pour montrer que la situation est un petit peu plus complexe que décrit dans le polycopié."
   ]
  },
  {
   "cell_type": "code",
   "execution_count": 67,
   "id": "d350c2a7",
   "metadata": {},
   "outputs": [
    {
     "name": "stdout",
     "output_type": "stream",
     "text": [
      "***shallow***\n",
      "Les adresses des deux listes sont identiques\n",
      "139938097267008\n",
      "139938097267008\n",
      "Chacun des éléments de la liste a le même identifiant\n",
      "139938687097104\n",
      "139938687097104\n",
      "Modifier un des éléments dans une liste n'a pas différencié les copies\n",
      "139938687097328\n",
      "139938687097328\n",
      "\n",
      "***semi shallow***\n",
      "Maintenant les identifiants des listes diffèrent\n",
      "139938097217024\n",
      "139938097216640\n",
      "À ce stade, on pointe encore vers les mêmes éléments\n",
      "139938687097104\n",
      "139938687097104\n",
      "Mais après modification de l2 ce n'est plus le cas, on a bien différencié chacun des éléments de chaque liste\n",
      "139938687097104\n",
      "139938687097328\n",
      "Par contre les identifiants vers la sous-liste sont toujours les mêmes\n",
      "139938097216960\n",
      "139938097216960\n",
      "Et les éléments de la sous-liste sont donc identiques\n",
      "139938687097424\n",
      "139938687097424\n",
      "\n",
      "***deep***\n",
      "Les identifiants des listes diffèrent\n",
      "139938097267456\n",
      "139938097267008\n",
      "Celui des éléments inclus aussi\n",
      "139938097267392\n",
      "139938097267072\n",
      "Cette fois, les sous-éléments sont également bien différenciés\n",
      "139938687097232\n",
      "139938687097424\n"
     ]
    }
   ],
   "source": [
    "import copy\n",
    "l1 = [0,1,2,3,[4,5,6]]\n",
    "l2 = l1\n",
    "print('***shallow***')\n",
    "print('Les adresses des deux listes sont identiques')\n",
    "print(id(l1))\n",
    "print(id(l2))\n",
    "print('Chacun des éléments de la liste a le même identifiant')\n",
    "print(id(l1[0]))\n",
    "print(id(l2[0]))\n",
    "l2[0]=7\n",
    "print('Modifier un des éléments dans une liste n\\'a pas différencié les copies' )\n",
    "print(id(l1[0]))\n",
    "print(id(l2[0]))\n",
    "\n",
    "print('\\n***semi shallow***')\n",
    "#Identifiants d'une copie semi shallow\n",
    "l1 = [0,1,2,3,[4,5,6]]\n",
    "l2 = l1.copy()\n",
    "print('Maintenant les identifiants des listes diffèrent')\n",
    "print(id(l1))\n",
    "print(id(l2))\n",
    "print('À ce stade, on pointe encore vers les mêmes éléments')\n",
    "print(id(l1[0]))\n",
    "print(id(l2[0]))\n",
    "l2[0]=7\n",
    "l2[4][0]=10\n",
    "print('Mais après modification de l2 ce n\\'est plus le cas, on a bien différencié chacun des éléments de chaque liste')\n",
    "print(id(l1[0]))\n",
    "print(id(l2[0]))\n",
    "print('Par contre les identifiants vers la sous-liste sont toujours les mêmes')\n",
    "print(id(l1[4]))\n",
    "print(id(l2[4]))\n",
    "print('Et les éléments de la sous-liste sont donc identiques')\n",
    "print(id(l1[4][0]))\n",
    "print(id(l2[4][0]))\n",
    "\n",
    "\n",
    "print('\\n***deep***')\n",
    "#Identifiants d'une copie semi shallow\n",
    "l1 = [0,1,2,3,[4,5,6]]\n",
    "l2 = copy.deepcopy(l1)\n",
    "print('Les identifiants des listes diffèrent')\n",
    "print(id(l1))\n",
    "print(id(l2))\n",
    "print('Celui des éléments inclus aussi')\n",
    "print(id(l1[4]))\n",
    "print(id(l2[4]))\n",
    "l2[0]=7\n",
    "l2[4][0]=10\n",
    "print('Cette fois, les sous-éléments sont également bien différenciés')\n",
    "print(id(l1[4][0]))\n",
    "print(id(l2[4][0]))"
   ]
  },
  {
   "cell_type": "markdown",
   "id": "b93267ad",
   "metadata": {},
   "source": [
    "### Éléments mutables et fonctions\n",
    "<span id=\"mutfonction\"></span>\n",
    "Les éléments mutables sont changés au sein de la fonction ... mais aussi en dehors "
   ]
  },
  {
   "cell_type": "code",
   "execution_count": 91,
   "id": "63657405",
   "metadata": {},
   "outputs": [
    {
     "name": "stdout",
     "output_type": "stream",
     "text": [
      "[4, 9, 16]\n",
      "[4, 9, 16]\n"
     ]
    }
   ],
   "source": [
    "def squares_of(numbers):\n",
    "    \"\"\"\n",
    "    Takes a list of numbers and returns their square\n",
    "    \"\"\"\n",
    "    for i, number in enumerate(numbers):\n",
    "        numbers[i] = number ** 2\n",
    "    return numbers\n",
    "sample = [2, 3, 4]\n",
    "print(squares_of(sample))\n",
    "print(sample)"
   ]
  },
  {
   "cell_type": "markdown",
   "id": "ebd4e769",
   "metadata": {},
   "source": [
    "Il existe plusieurs moyens de contourner ce souci."
   ]
  },
  {
   "cell_type": "code",
   "execution_count": 92,
   "id": "2c50fc67",
   "metadata": {},
   "outputs": [
    {
     "name": "stdout",
     "output_type": "stream",
     "text": [
      "[4, 9, 16]\n",
      "[2, 3, 4]\n"
     ]
    }
   ],
   "source": [
    "#en créant une nouvelle liste au sein de la fonction\n",
    "def squares_of(numbers):\n",
    "    \"\"\"\n",
    "    Takes a list of numbers and returns their square\n",
    "    \"\"\"    \n",
    "    result = []\n",
    "    for number in numbers:\n",
    "       result.append(number ** 2)\n",
    "    return result\n",
    "sample = [2, 3, 4]\n",
    "print(squares_of(sample))\n",
    "print(sample)"
   ]
  },
  {
   "cell_type": "code",
   "execution_count": 95,
   "id": "2e2c4645",
   "metadata": {},
   "outputs": [
    {
     "name": "stdout",
     "output_type": "stream",
     "text": [
      "[4, 9, 16]\n",
      "[2, 3, 4]\n"
     ]
    }
   ],
   "source": [
    "import copy\n",
    "#en faisant une deep copy de l'élément mutable\n",
    "def squares_of(numbers):\n",
    "    \"\"\"\n",
    "    Takes a list of numbers and returns their square\n",
    "    \"\"\"\n",
    "    squares = copy.deepcopy(numbers)\n",
    "    for i, number in enumerate(squares):\n",
    "        squares[i] = number ** 2\n",
    "    return squares\n",
    "sample = [2, 3, 4]\n",
    "print(squares_of(sample))\n",
    "print(sample)"
   ]
  },
  {
   "cell_type": "code",
   "execution_count": 98,
   "id": "ba4f5f28",
   "metadata": {},
   "outputs": [
    {
     "name": "stdout",
     "output_type": "stream",
     "text": [
      "[4, 9, 16]\n",
      "[2, 3, 4]\n"
     ]
    }
   ],
   "source": [
    "#en passant par une compréhension de liste qui créé de nouveaux objets en mémoire à partir de l'objet mutable initial\n",
    "def squares_of(numbers):\n",
    "    \"\"\"\n",
    "    Takes a list of numbers and returns their square\n",
    "    \"\"\"\n",
    "    return [x**2 for x in numbers]\n",
    "sample = [2, 3, 4]\n",
    "print(squares_of(sample))\n",
    "print(sample)"
   ]
  },
  {
   "cell_type": "markdown",
   "id": "d1eb2b86",
   "metadata": {},
   "source": [
    "### Éléments mutables optionnels et fonctions\n",
    "<span id=\"mutfonction2\"></span>"
   ]
  },
  {
   "cell_type": "code",
   "execution_count": 104,
   "id": "247e257c",
   "metadata": {},
   "outputs": [
    {
     "name": "stdout",
     "output_type": "stream",
     "text": [
      "[1]\n",
      "[1, 2]\n",
      "[1, 2, 3]\n",
      "['a', 'b', 'c', 'd']\n",
      "['a', 'b', 'c', 'd']\n"
     ]
    }
   ],
   "source": [
    "def append_to(item, target=[]):\n",
    "    \"\"\"\n",
    "    Adds a new element to the target variable\n",
    "    \"\"\"\n",
    "    target.append(item)\n",
    "    return target\n",
    "liste = ['a','b','c']\n",
    "print(append_to(1))\n",
    "print(append_to(2))\n",
    "print(append_to(3))\n",
    "#Si on applique la fonction à un élément mutable, comme ci-dessus, il sera modifié en dehors de la fonction\n",
    "print(append_to('d',target = liste))\n",
    "print(liste)"
   ]
  },
  {
   "cell_type": "markdown",
   "id": "dfa2edee",
   "metadata": {},
   "source": [
    "On peut voir qu'au lieu d'ajouter un unique élément à une liste vide, cette fonction ne fait qu'ajouter des éléments à l'objet mutable créé lors de la création de la fonction. Il est tout de même possible de contourner ce comportement pour avoir un comportement différent qui ajoute un élément à un objet mutable. Car dans ce cas là, l'élément mutable est créé à chaque appel de la fonction au lieu d'être créé lors de l'initialisation de la fonction."
   ]
  },
  {
   "cell_type": "code",
   "execution_count": 105,
   "id": "a6df4c76",
   "metadata": {},
   "outputs": [
    {
     "name": "stdout",
     "output_type": "stream",
     "text": [
      "[1]\n",
      "[2]\n",
      "[3]\n"
     ]
    }
   ],
   "source": [
    "def append_to(item, target=None):\n",
    "    \"\"\"\n",
    "    Adds a new element to the target variable\n",
    "    \"\"\"\n",
    "    if target == None:\n",
    "        target = []\n",
    "    target.append(item)\n",
    "    return target\n",
    "print(append_to(1))\n",
    "print(append_to(2))\n",
    "print(append_to(3))"
   ]
  },
  {
   "cell_type": "markdown",
   "id": "24465358",
   "metadata": {},
   "source": [
    "# Boucle for\n",
    "\n",
    "Il est possible de faire une boucle en itérant sur des entiers."
   ]
  },
  {
   "cell_type": "code",
   "execution_count": 15,
   "id": "9d4d9090",
   "metadata": {},
   "outputs": [
    {
     "name": "stdout",
     "output_type": "stream",
     "text": [
      "résultat avec la fonction range avec un unique argument\n",
      " 0 1 2 3 4 5\n",
      "résultat avec la fonction range avec deux arguments\n",
      " 1 2 3 4 5\n",
      "résultat avec la fonction range avec trois arguments\n",
      " 1 3 5\n"
     ]
    }
   ],
   "source": [
    "range_simple = ''\n",
    "for indix in range(6):\n",
    "    range_simple += ' {}'.format(indix)\n",
    "print('résultat avec la fonction range avec un unique argument')\n",
    "print(range_simple)\n",
    "\n",
    "\n",
    "range_evolved = ''\n",
    "for indix in range(1,6):\n",
    "    range_evolved += ' {}'.format(indix)\n",
    "print('résultat avec la fonction range avec deux arguments')\n",
    "print(range_evolved)\n",
    "\n",
    "\n",
    "range_evolved = ''\n",
    "for indix in range(1,6,2):\n",
    "    range_evolved += ' {}'.format(indix)\n",
    "print('résultat avec la fonction range avec trois arguments')\n",
    "print(range_evolved)"
   ]
  },
  {
   "cell_type": "code",
   "execution_count": null,
   "id": "9ce0e2d9",
   "metadata": {
    "collapsed": true
   },
   "outputs": [],
   "source": []
  },
  {
   "cell_type": "code",
   "execution_count": null,
   "id": "38b7c49f",
   "metadata": {
    "collapsed": true
   },
   "outputs": [],
   "source": []
  },
  {
   "cell_type": "code",
   "execution_count": null,
   "id": "0a2933d6",
   "metadata": {
    "collapsed": true
   },
   "outputs": [],
   "source": []
  },
  {
   "cell_type": "code",
   "execution_count": null,
   "id": "94bc4017",
   "metadata": {
    "collapsed": true
   },
   "outputs": [],
   "source": []
  },
  {
   "cell_type": "code",
   "execution_count": null,
   "id": "ff8e4fac",
   "metadata": {
    "collapsed": true
   },
   "outputs": [],
   "source": []
  }
 ],
 "metadata": {
  "kernelspec": {
   "display_name": "Python 3 (ipykernel)",
   "language": "python",
   "name": "python3"
  },
  "language_info": {
   "codemirror_mode": {
    "name": "ipython",
    "version": 3
   },
   "file_extension": ".py",
   "mimetype": "text/x-python",
   "name": "python",
   "nbconvert_exporter": "python",
   "pygments_lexer": "ipython3",
   "version": "3.9.13"
  }
 },
 "nbformat": 4,
 "nbformat_minor": 5
}
