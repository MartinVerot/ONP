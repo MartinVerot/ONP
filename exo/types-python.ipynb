{
 "cells": [
  {
   "cell_type": "markdown",
   "id": "6e935fff",
   "metadata": {},
   "source": [
    "# Types\n",
    "\n",
    "<span id=\"nombres\"></span>\n",
    "## Entiers et nombres flottants\n",
    "\n",
    "On peut voir ici qu'en fonction de la manière dont on a déclaré la variable, le résultat est différent."
   ]
  },
  {
   "cell_type": "code",
   "execution_count": 1,
   "id": "e7ef3930",
   "metadata": {},
   "outputs": [
    {
     "name": "stdout",
     "output_type": "stream",
     "text": [
      "3 <class 'int'>\n",
      "3.0 <class 'float'>\n"
     ]
    }
   ],
   "source": [
    "a = 3\n",
    "b = 3.\n",
    "print(a, type(a))\n",
    "print(b, type(b))"
   ]
  },
  {
   "cell_type": "markdown",
   "id": "27e448af",
   "metadata": {},
   "source": [
    "Cela peut alors avoir des conséquences par la suite sur les opérations possibles ou non avec les variables."
   ]
  },
  {
   "cell_type": "code",
   "execution_count": 2,
   "id": "2dd8e5c7",
   "metadata": {},
   "outputs": [
    {
     "name": "stdout",
     "output_type": "stream",
     "text": [
      "0\n",
      "1\n",
      "2\n"
     ]
    }
   ],
   "source": [
    "#a étant entier, l'opération est possible\n",
    "for indix in range(a):\n",
    "    print(indix)"
   ]
  },
  {
   "cell_type": "code",
   "execution_count": 3,
   "id": "5edbaa85",
   "metadata": {},
   "outputs": [
    {
     "ename": "TypeError",
     "evalue": "'float' object cannot be interpreted as an integer",
     "output_type": "error",
     "traceback": [
      "\u001b[0;31m---------------------------------------------------------------------------\u001b[0m",
      "\u001b[0;31mTypeError\u001b[0m                                 Traceback (most recent call last)",
      "\u001b[0;32m/tmp/ipykernel_298405/2809380749.py\u001b[0m in \u001b[0;36m<module>\u001b[0;34m\u001b[0m\n\u001b[1;32m      1\u001b[0m \u001b[0;31m#b étant un flottant, cela fait une erreur\u001b[0m\u001b[0;34m\u001b[0m\u001b[0;34m\u001b[0m\u001b[0m\n\u001b[0;32m----> 2\u001b[0;31m \u001b[0;32mfor\u001b[0m \u001b[0mindix\u001b[0m \u001b[0;32min\u001b[0m \u001b[0mrange\u001b[0m\u001b[0;34m(\u001b[0m\u001b[0mb\u001b[0m\u001b[0;34m)\u001b[0m\u001b[0;34m:\u001b[0m\u001b[0;34m\u001b[0m\u001b[0;34m\u001b[0m\u001b[0m\n\u001b[0m\u001b[1;32m      3\u001b[0m     \u001b[0mprint\u001b[0m\u001b[0;34m(\u001b[0m\u001b[0mindix\u001b[0m\u001b[0;34m)\u001b[0m\u001b[0;34m\u001b[0m\u001b[0;34m\u001b[0m\u001b[0m\n",
      "\u001b[0;31mTypeError\u001b[0m: 'float' object cannot be interpreted as an integer"
     ]
    }
   ],
   "source": [
    "#b étant un flottant, cela fait une erreur\n",
    "for indix in range(b):\n",
    "    print(indix)    "
   ]
  },
  {
   "cell_type": "code",
   "execution_count": 4,
   "id": "81e55373",
   "metadata": {},
   "outputs": [
    {
     "name": "stdout",
     "output_type": "stream",
     "text": [
      "0\n",
      "1\n",
      "2\n"
     ]
    }
   ],
   "source": [
    "#Après une conversion de type, la fonction s'éxecute correctement\n",
    "for indix in range(int(b)):\n",
    "    print(indix)  "
   ]
  },
  {
   "cell_type": "markdown",
   "id": "94ee6451",
   "metadata": {},
   "source": [
    "# Boucle for\n",
    "\n",
    "Il est possible de faire une boucle en itérant sur des entiers."
   ]
  },
  {
   "cell_type": "code",
   "execution_count": 5,
   "id": "265f6c7b",
   "metadata": {},
   "outputs": [
    {
     "name": "stdout",
     "output_type": "stream",
     "text": [
      "résultat avec la fonction range avec un unique argument\n",
      " 0 1 2 3 4 5\n",
      "résultat avec la fonction range avec deux arguments\n",
      " 1 2 3 4 5\n",
      "résultat avec la fonction range avec trois arguments\n",
      " 1 3 5\n"
     ]
    }
   ],
   "source": [
    "range_simple = ''\n",
    "for indix in range(6):\n",
    "    range_simple += ' {}'.format(indix)\n",
    "print('résultat avec la fonction range avec un unique argument')\n",
    "print(range_simple)\n",
    "\n",
    "\n",
    "range_evolved = ''\n",
    "for indix in range(1,6):\n",
    "    range_evolved += ' {}'.format(indix)\n",
    "print('résultat avec la fonction range avec deux arguments')\n",
    "print(range_evolved)\n",
    "\n",
    "\n",
    "range_evolved = ''\n",
    "for indix in range(1,6,2):\n",
    "    range_evolved += ' {}'.format(indix)\n",
    "print('résultat avec la fonction range avec trois arguments')\n",
    "print(range_evolved)"
   ]
  },
  {
   "cell_type": "code",
   "execution_count": null,
   "id": "e4b6c0d9",
   "metadata": {},
   "outputs": [],
   "source": []
  }
 ],
 "metadata": {
  "kernelspec": {
   "display_name": "Python 3 (ipykernel)",
   "language": "python",
   "name": "python3"
  },
  "language_info": {
   "codemirror_mode": {
    "name": "ipython",
    "version": 3
   },
   "file_extension": ".py",
   "mimetype": "text/x-python",
   "name": "python",
   "nbconvert_exporter": "python",
   "pygments_lexer": "ipython3",
   "version": "3.9.13"
  }
 },
 "nbformat": 4,
 "nbformat_minor": 5
}
