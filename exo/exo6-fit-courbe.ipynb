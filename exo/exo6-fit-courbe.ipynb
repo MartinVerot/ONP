{
 "cells": [
  {
   "cell_type": "markdown",
   "id": "d5c38ee2",
   "metadata": {},
   "source": [
    "Récupérer le fichier `exo6-electricite.csv`, qui correspond à la consommation mensuelle\n",
    "d’électricité en France, de Septembre 1991 à Décembre 2015. \n",
    "\n",
    "1. Tracer la consommation en fonction du mois.\n",
    "On cherche à modéliser la consommation mensuelle par la fonction :\n",
    "$$c+b\\times x+a\\times x^2+A\\times\\sin(2\\pi\\times f+\\phi)$$\n",
    "2. Faire un premier fit de la fonction avec la fonction curve_fit sans fournir de paramètre initial. Tracer le résultat de la modélisation. Constater l'échec de l'optimisation. **CONCLUSION : Il faut absolument essayer de donner des paramètres initiaux pour faciliter la convergence**\n",
    "3. déterminer les valeurs de $a_{guess}$, $b_{guess}$ et $c_{guess}$ avec la fonction `np.polyfit`\n",
    "4. Essayer de déterminer la fréquence, l'amplitude et la phase avec les fonction fft de numpy. Pour cela : tracer la transformée de fourier, puis trouver la composante principale correspondant à une fréquence non nulle. *Astuce : il est préférable de faire la transformée de fourier sur $data-(c+b\\times x+a\\times x^2)$ pour éviter d'avoir une composante pour la fréquence nulle* \n",
    "5. Refaire une nouvelle optimisation en fournissant les paramètres trouvés pour voir la nouvelle convergence qui est bien meilleure.\n",
    "6. Montrer qu'avec des paramètres estimés grossièrement, on aurait également pu faire converger l'optimisation.\n",
    "\n",
    "\n",
    "![exo6-data-fit-full.svg](exo6-data-fit-full.svg)"
   ]
  },
  {
   "cell_type": "code",
   "execution_count": null,
   "id": "5d1532ba",
   "metadata": {},
   "outputs": [],
   "source": []
  }
 ],
 "metadata": {
  "kernelspec": {
   "display_name": "Python 3 (ipykernel)",
   "language": "python",
   "name": "python3"
  },
  "language_info": {
   "codemirror_mode": {
    "name": "ipython",
    "version": 3
   },
   "file_extension": ".py",
   "mimetype": "text/x-python",
   "name": "python",
   "nbconvert_exporter": "python",
   "pygments_lexer": "ipython3",
   "version": "3.9.13"
  }
 },
 "nbformat": 4,
 "nbformat_minor": 5
}
