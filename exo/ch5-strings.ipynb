{
 "cells": [
  {
   "cell_type": "markdown",
   "id": "933e897e",
   "metadata": {},
   "source": [
    "Le cahier est ici non exécuté, il faut le lancer en cliquant successivement sur les symboles en forme de flèche afin de voir le résultat des morceaux de code.\n",
    "\n",
    "Ce cahier Jupyter vient en complément du polycopié de cours qui est disponible ici : https://github.com/MartinVerot/ONP/blob/master/cours_python.pdf\n",
    "\n",
    "# Chaînes de caractère\n",
    "<span id=\"carac\"></span>"
   ]
  },
  {
   "cell_type": "code",
   "execution_count": null,
   "id": "3d9deafa",
   "metadata": {},
   "outputs": [],
   "source": [
    "a = \"4\"\n",
    "b = 5\n",
    "c = \"9\"\n",
    "# Une addition qui est en fait une caténation\n",
    "print(a + c)"
   ]
  },
  {
   "cell_type": "code",
   "execution_count": null,
   "id": "c6aa51fc",
   "metadata": {},
   "outputs": [],
   "source": [
    "# Une erreur liée à la confusion entre addition et caténation\n",
    "print(a + b)"
   ]
  },
  {
   "cell_type": "markdown",
   "id": "e89e9219",
   "metadata": {},
   "source": [
    "### Options de formatage<span id=\"formatcarac\"></span>\n",
    "Résultat du tableau 5.1 sur le formatage des variables"
   ]
  },
  {
   "cell_type": "code",
   "execution_count": null,
   "id": "a6d23e64",
   "metadata": {},
   "outputs": [],
   "source": [
    "print(\"{} {}\".format(\"a\", 3.14))\n",
    "print(\"{1} {0}\".format(\"a\", 3.14))\n",
    "print(\"{:<10}\".format(\"blabla\"))\n",
    "print(\"{:>10}\".format(\"blabla\"))\n",
    "print(\"{:d}\".format(1))\n",
    "print(\"{:3d}\".format(1))\n",
    "print(\"{:03d}\".format(1))\n",
    "print(\"{:f}\".format(3.14))\n",
    "print(\"{:.3f}\".format(3.14))\n",
    "print(\"{:10.3f}\".format(3.14))\n",
    "print(\"{:e}\".format(3.14))\n",
    "print(\"{:.3e}\".format(3.14))\n",
    "print(\"{:10.3e}\".format(3.14))"
   ]
  },
  {
   "cell_type": "markdown",
   "id": "cd3ef949",
   "metadata": {},
   "source": [
    "### Syntaxe allégée pour afficher des variables"
   ]
  },
  {
   "cell_type": "code",
   "execution_count": null,
   "id": "910ca7f2",
   "metadata": {},
   "outputs": [],
   "source": [
    "truc = 18.25\n",
    "bidule = 0\n",
    "print(f\"la variable truc vaut {truc} et bidule vaut {bidule}\")"
   ]
  },
  {
   "cell_type": "markdown",
   "id": "eda7da14",
   "metadata": {},
   "source": [
    "### Pour ne pas avoir à échapper les backslash"
   ]
  },
  {
   "cell_type": "code",
   "execution_count": null,
   "id": "d00d8582",
   "metadata": {},
   "outputs": [],
   "source": [
    "# Ici, \\t est correspond à une tabulation, \\r est un retour à la ligne et \\n est une nouvelle ligne\n",
    "print(\"\\textit{un peu de LaTeX}\\newline\")\n",
    "# L'option r permet de ne pas avoir à échapper les caractères\n",
    "print(r\"\\textit{un peu de LaTeX}\\newline\")\n",
    "print(\"\\\\textit{un peu de LaTeX}\\\\newline\")"
   ]
  },
  {
   "cell_type": "markdown",
   "id": "41e9917b",
   "metadata": {},
   "source": [
    "### Mélanger `format` et accolades"
   ]
  },
  {
   "cell_type": "code",
   "execution_count": null,
   "id": "d7507214",
   "metadata": {},
   "outputs": [],
   "source": [
    "# Génère une erreur car il y a une accolade que l'on veut afficher en début de chaîne de caractère\n",
    "print(\"une accolade : '{' et voilà la valeur de truc : {}\".format(42))"
   ]
  },
  {
   "cell_type": "code",
   "execution_count": null,
   "id": "488086ea",
   "metadata": {},
   "outputs": [],
   "source": [
    "texte = \"italique\"\n",
    "# Ici, les accolades sont remplacées par la valeur de la variable\n",
    "print(r\"\\textit{}\".format(texte))\n",
    "# Les accolades sont doublées donc affichées et il n'y a pas de variable attendue\n",
    "print(r\"\\textit{{}}\".format(texte))\n",
    "# Ici, les accolades sont doublées pour les afficher et une paire supplémentaire permet d'afficher la variable\n",
    "print(r\"\\textit{{{}}}\".format(texte))"
   ]
  },
  {
   "cell_type": "markdown",
   "id": "89884ef4",
   "metadata": {},
   "source": [
    "### Faire une chaine de caractère sur plusieurs lignes"
   ]
  },
  {
   "cell_type": "code",
   "execution_count": null,
   "id": "ca5229a3",
   "metadata": {},
   "outputs": [],
   "source": [
    "\"\"\"L'utilisation du triple double quote permet d'utiliser des sauts à la ligne, mais ceux-ci font\n",
    "partie de la chaine de caractère\"\"\"\n",
    "test = \"\"\"une chaine\n",
    "de caractère sur \n",
    "trois lignes\"\"\"\n",
    "print(test)"
   ]
  },
  {
   "cell_type": "code",
   "execution_count": null,
   "id": "3303ccb7",
   "metadata": {},
   "outputs": [],
   "source": [
    "\"\"\"Le backslash '\\' permet de continuer une chaine de caracère sur une autre ligne,\n",
    "mais dans ce cas, le retour à la ligne ne fait pas partie de la chaine de caractères.\"\"\"\n",
    "test = \"une chaine \\\n",
    "de caractère sur \\\n",
    "trois lignes\"\n",
    "print(test)"
   ]
  },
  {
   "cell_type": "code",
   "execution_count": null,
   "id": "5797559f",
   "metadata": {},
   "outputs": [],
   "source": []
  }
 ],
 "metadata": {
  "kernelspec": {
   "display_name": "Python 3 (ipykernel)",
   "language": "python",
   "name": "python3"
  },
  "language_info": {
   "codemirror_mode": {
    "name": "ipython",
    "version": 3
   },
   "file_extension": ".py",
   "mimetype": "text/x-python",
   "name": "python",
   "nbconvert_exporter": "python",
   "pygments_lexer": "ipython3",
   "version": "3.9.13"
  }
 },
 "nbformat": 4,
 "nbformat_minor": 5
}
