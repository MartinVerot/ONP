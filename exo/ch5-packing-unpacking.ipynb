{
 "cells": [
  {
   "cell_type": "code",
   "execution_count": 1,
   "id": "e14712fc",
   "metadata": {},
   "outputs": [],
   "source": [
    "import numpy as np "
   ]
  },
  {
   "cell_type": "code",
   "execution_count": 5,
   "id": "7412ee67",
   "metadata": {},
   "outputs": [],
   "source": [
    "def func_liste(real):\n",
    "    \"\"\"fonction qui retourne le nombre et son carré dans une liste\"\"\"\n",
    "    return [real, real**2,real**3]"
   ]
  },
  {
   "cell_type": "code",
   "execution_count": 6,
   "id": "193411a9",
   "metadata": {},
   "outputs": [
    {
     "name": "stdout",
     "output_type": "stream",
     "text": [
      "12 144 1728\n"
     ]
    }
   ],
   "source": [
    "#on affecte directement deux variables à partir d'une liste\n",
    "pow1,pow2,pow3 = func_liste(12)\n",
    "print(pow1,pow2,pow3)"
   ]
  },
  {
   "cell_type": "markdown",
   "id": "2e7e6e8b",
   "metadata": {},
   "source": [
    "Si une seule partie des arguments de retour nous intéresse, on peut mettre de côté les valeurs « en trop » avec `,_`.\n"
   ]
  },
  {
   "cell_type": "code",
   "execution_count": 10,
   "id": "e040ed25",
   "metadata": {},
   "outputs": [
    {
     "name": "stdout",
     "output_type": "stream",
     "text": [
      "11 1331\n"
     ]
    }
   ],
   "source": [
    "pow1bis,_,pow3bis =   func_liste(11)\n",
    "print(pow1bis,pow3bis)"
   ]
  },
  {
   "cell_type": "markdown",
   "id": "101aa374",
   "metadata": {},
   "source": [
    "S'il y a un nombre inconnu de valeurs en retour, il est possible de les regrouper dans une variable."
   ]
  },
  {
   "cell_type": "code",
   "execution_count": 11,
   "id": "ab065218",
   "metadata": {},
   "outputs": [
    {
     "name": "stdout",
     "output_type": "stream",
     "text": [
      "11 [121, 1331]\n"
     ]
    }
   ],
   "source": [
    "#Ici, on peut potentiellement réutiliser les  valeurs de retour, même si on ne connait pas forcément leur longueur.\n",
    "pow1ter,*pows =   func_liste(11)\n",
    "print(pow1ter,pows)"
   ]
  },
  {
   "cell_type": "code",
   "execution_count": 12,
   "id": "550fd642",
   "metadata": {},
   "outputs": [
    {
     "name": "stdout",
     "output_type": "stream",
     "text": [
      "11\n"
     ]
    }
   ],
   "source": [
    "#Ici, on s'arrange pour jeter toutes les valeurs de retour supplémentaires mais sans créer d'erreur\n",
    "pow1qu,*_ =   func_liste(11)\n",
    "print(pow1qu)"
   ]
  },
  {
   "cell_type": "markdown",
   "id": "1b4956d2",
   "metadata": {},
   "source": [
    "# Unpacking\n",
    "De manière similaire, il est possible de transformer une liste en suite d'arguments pour une fonction ou toute autre opération."
   ]
  },
  {
   "cell_type": "code",
   "execution_count": 14,
   "id": "1dce0a71",
   "metadata": {},
   "outputs": [
    {
     "name": "stdout",
     "output_type": "stream",
     "text": [
      "[11, 121, 1331]\n",
      "1463\n",
      "nombre 1 : 11; nombre 2 : 121; nombre 3 : 1331\n"
     ]
    }
   ],
   "source": [
    "def somme_trois_nombres(a,b,c):\n",
    "    \"\"\"\n",
    "    Fonction qui retourne la somme des trois nombres fournis\n",
    "    \"\"\"\n",
    "    return a + b + c\n",
    "\n",
    "#On a ici une liste de trois nombres\n",
    "numbers = func_liste(11)\n",
    "print(numbers)\n",
    "#On peut utiliser directement la fonction avec le splat : `*` qui va extraire chacun des éléments de la liste\n",
    "result = somme_trois_nombres(*numbers)\n",
    "print(result)\n",
    "#ici aussi, on 'unpacke' les éléments de la liste\n",
    "print(\"nombre 1 : {}; nombre 2 : {}; nombre 3 : {}\".format(*numbers))\n"
   ]
  },
  {
   "cell_type": "code",
   "execution_count": null,
   "id": "59964d08",
   "metadata": {},
   "outputs": [],
   "source": []
  }
 ],
 "metadata": {
  "kernelspec": {
   "display_name": "Python 3 (ipykernel)",
   "language": "python",
   "name": "python3"
  },
  "language_info": {
   "codemirror_mode": {
    "name": "ipython",
    "version": 3
   },
   "file_extension": ".py",
   "mimetype": "text/x-python",
   "name": "python",
   "nbconvert_exporter": "python",
   "pygments_lexer": "ipython3",
   "version": "3.9.13"
  }
 },
 "nbformat": 4,
 "nbformat_minor": 5
}
