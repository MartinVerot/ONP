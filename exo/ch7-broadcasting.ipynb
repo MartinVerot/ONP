{
 "cells": [
  {
   "cell_type": "markdown",
   "id": "67b4025c",
   "metadata": {},
   "source": [
    "# Broadcasting\n",
    "\n",
    "Illustration du broadcasting.\n",
    "\n",
    "Dans ce premier cas, les deux tableaux ayant la même dimension, on fait l'opération élément par élément."
   ]
  },
  {
   "cell_type": "code",
   "execution_count": 1,
   "id": "fafddc76",
   "metadata": {},
   "outputs": [
    {
     "name": "stdout",
     "output_type": "stream",
     "text": [
      "a\n",
      "[[0 1 2 3 4]\n",
      " [5 6 7 8 9]]\n",
      "b\n",
      "[[10 12 14 16 18]\n",
      " [20 22 24 26 28]]\n",
      "a+b\n",
      "[[10 13 16 19 22]\n",
      " [25 28 31 34 37]]\n"
     ]
    }
   ],
   "source": [
    "import numpy as np\n",
    "a = np.arange(10)\n",
    "a = a.reshape((2,5))\n",
    "b = (np.arange(10)+5)*2\n",
    "b = b.reshape((2,5))\n",
    "print(\"a\")\n",
    "print(a)\n",
    "print(\"b\")\n",
    "print(b)\n",
    "print(\"a+b\")\n",
    "print(a+b)"
   ]
  },
  {
   "cell_type": "markdown",
   "id": "d923de5d",
   "metadata": {},
   "source": [
    "On peut vérifier les règles de broadcasting avec la fonction `np.broadcast_arrays`."
   ]
  },
  {
   "cell_type": "code",
   "execution_count": 2,
   "id": "4a85e4ab",
   "metadata": {},
   "outputs": [
    {
     "name": "stdout",
     "output_type": "stream",
     "text": [
      "[[0 1 2 3 4]\n",
      " [5 6 7 8 9]]\n",
      "[[10 12 14 16 18]\n",
      " [20 22 24 26 28]]\n"
     ]
    }
   ],
   "source": [
    "arrs = np.broadcast_arrays(a, b)\n",
    "for arr in arrs:\n",
    "    print(arr)"
   ]
  },
  {
   "cell_type": "markdown",
   "id": "b46c1777",
   "metadata": {},
   "source": [
    "Ici, rien n'a changé."
   ]
  },
  {
   "cell_type": "markdown",
   "id": "1b70a3c2",
   "metadata": {},
   "source": [
    "## Cas de broadcasting entre un vecteur et un ndarray\n",
    "\n",
    "Ici, les dimensions les plus à droites coincident, mais pas les précédentes, on va donc étirer le tableau `vec` pour que sa taille devienne égale à celle de `arr` "
   ]
  },
  {
   "cell_type": "code",
   "execution_count": 3,
   "id": "e39d62eb",
   "metadata": {},
   "outputs": [
    {
     "name": "stdout",
     "output_type": "stream",
     "text": [
      "shapes\n",
      "(4,)\n",
      "(7, 4)\n",
      "vec\n",
      "[0 1 2 3]\n",
      "arr\n",
      "[[ 0  1  2  3]\n",
      " [ 4  5  6  7]\n",
      " [ 8  9 10 11]\n",
      " [12 13 14 15]\n",
      " [16 17 18 19]\n",
      " [20 21 22 23]\n",
      " [24 25 26 27]]\n",
      "vec*arr\n",
      "[[ 0  1  4  9]\n",
      " [ 0  5 12 21]\n",
      " [ 0  9 20 33]\n",
      " [ 0 13 28 45]\n",
      " [ 0 17 36 57]\n",
      " [ 0 21 44 69]\n",
      " [ 0 25 52 81]]\n"
     ]
    }
   ],
   "source": [
    "vec = np.arange(4)\n",
    "arr = np.arange(7*4).reshape(7,4)\n",
    "print('shapes')\n",
    "print(vec.shape)\n",
    "print(arr.shape)\n",
    "print('vec')\n",
    "print(vec)\n",
    "print('arr')\n",
    "print(arr)\n",
    "print('vec*arr')\n",
    "print(vec*arr)"
   ]
  },
  {
   "cell_type": "code",
   "execution_count": 4,
   "id": "3d7b6e7e",
   "metadata": {},
   "outputs": [
    {
     "name": "stdout",
     "output_type": "stream",
     "text": [
      "[[0 1 2 3]\n",
      " [0 1 2 3]\n",
      " [0 1 2 3]\n",
      " [0 1 2 3]\n",
      " [0 1 2 3]\n",
      " [0 1 2 3]\n",
      " [0 1 2 3]]\n",
      "[[ 0  1  2  3]\n",
      " [ 4  5  6  7]\n",
      " [ 8  9 10 11]\n",
      " [12 13 14 15]\n",
      " [16 17 18 19]\n",
      " [20 21 22 23]\n",
      " [24 25 26 27]]\n"
     ]
    }
   ],
   "source": [
    "arrs = np.broadcast_arrays(vec, arr)\n",
    "for arr in arrs:\n",
    "    print(arr)"
   ]
  },
  {
   "cell_type": "markdown",
   "id": "71a092c2",
   "metadata": {},
   "source": [
    "## Un cas où ça ne marche pas"
   ]
  },
  {
   "cell_type": "code",
   "execution_count": 5,
   "id": "7d32d4cf",
   "metadata": {},
   "outputs": [
    {
     "name": "stdout",
     "output_type": "stream",
     "text": [
      "shapes\n",
      "(4,)\n",
      "(4, 7)\n",
      "vec*arr\n"
     ]
    },
    {
     "ename": "ValueError",
     "evalue": "operands could not be broadcast together with shapes (4,) (4,7) ",
     "output_type": "error",
     "traceback": [
      "\u001b[0;31m---------------------------------------------------------------------------\u001b[0m",
      "\u001b[0;31mValueError\u001b[0m                                Traceback (most recent call last)",
      "\u001b[0;32m/tmp/ipykernel_508439/1804842502.py\u001b[0m in \u001b[0;36m<module>\u001b[0;34m\u001b[0m\n\u001b[1;32m      6\u001b[0m \u001b[0mprint\u001b[0m\u001b[0;34m(\u001b[0m\u001b[0marr\u001b[0m\u001b[0;34m.\u001b[0m\u001b[0mshape\u001b[0m\u001b[0;34m)\u001b[0m\u001b[0;34m\u001b[0m\u001b[0;34m\u001b[0m\u001b[0m\n\u001b[1;32m      7\u001b[0m \u001b[0mprint\u001b[0m\u001b[0;34m(\u001b[0m\u001b[0;34m'vec*arr'\u001b[0m\u001b[0;34m)\u001b[0m\u001b[0;34m\u001b[0m\u001b[0;34m\u001b[0m\u001b[0m\n\u001b[0;32m----> 8\u001b[0;31m \u001b[0mprint\u001b[0m\u001b[0;34m(\u001b[0m\u001b[0mvec\u001b[0m\u001b[0;34m*\u001b[0m\u001b[0marr\u001b[0m\u001b[0;34m)\u001b[0m\u001b[0;34m\u001b[0m\u001b[0;34m\u001b[0m\u001b[0m\n\u001b[0m",
      "\u001b[0;31mValueError\u001b[0m: operands could not be broadcast together with shapes (4,) (4,7) "
     ]
    }
   ],
   "source": [
    "vec = np.arange(4)\n",
    "arr = np.arange(7*4).reshape(4,7)\n",
    "\n",
    "print('shapes')\n",
    "print(vec.shape)\n",
    "print(arr.shape)\n",
    "print('vec*arr')\n",
    "print(vec*arr)"
   ]
  },
  {
   "cell_type": "markdown",
   "id": "4ea2ac39",
   "metadata": {},
   "source": [
    "La dimension la plus à droite n'est pas identique (4 pour le vecteur, 7 pour le tableau)"
   ]
  },
  {
   "cell_type": "markdown",
   "id": "96384a37",
   "metadata": {},
   "source": [
    "## Rendre compatible des tableaux pour le broadcasting\n",
    "\n",
    "Si on cherche à faire une **autre** opération qui consiste à faire le broadcasting sur l'avant dernière dimension de `arr`, alors il faut ajouter une nouvelle dimension à droite avec `np.expand_dims` ce qui permet de faire le broadcasting sur la dernière dimension"
   ]
  },
  {
   "cell_type": "code",
   "execution_count": 6,
   "id": "5949a91d",
   "metadata": {},
   "outputs": [
    {
     "name": "stdout",
     "output_type": "stream",
     "text": [
      "shapes\n",
      "(4, 1)\n",
      "(4, 7)\n",
      "vec\n",
      "[[0]\n",
      " [1]\n",
      " [2]\n",
      " [3]]\n",
      "arr\n",
      "[[ 0  1  2  3  4  5  6]\n",
      " [ 7  8  9 10 11 12 13]\n",
      " [14 15 16 17 18 19 20]\n",
      " [21 22 23 24 25 26 27]]\n",
      "vec*arr\n",
      "[[ 0  0  0  0  0  0  0]\n",
      " [ 7  8  9 10 11 12 13]\n",
      " [28 30 32 34 36 38 40]\n",
      " [63 66 69 72 75 78 81]]\n"
     ]
    }
   ],
   "source": [
    "vec = np.arange(4)\n",
    "#On ajoute artificiellement une dimension de plus \n",
    "vec = np.expand_dims(vec,axis=-1)\n",
    "#solution équivalente\n",
    "#vec = vec[:, np.newaxis]\n",
    "arr = np.arange(7*4).reshape(4,7)\n",
    "print('shapes')\n",
    "print(vec.shape)\n",
    "print(arr.shape)\n",
    "print('vec')\n",
    "print(vec)\n",
    "print('arr')\n",
    "print(arr)\n",
    "print('vec*arr')\n",
    "print(vec*arr)"
   ]
  },
  {
   "cell_type": "code",
   "execution_count": 7,
   "id": "4c1a9fef",
   "metadata": {},
   "outputs": [
    {
     "name": "stdout",
     "output_type": "stream",
     "text": [
      "[[0 0 0 0 0 0 0]\n",
      " [1 1 1 1 1 1 1]\n",
      " [2 2 2 2 2 2 2]\n",
      " [3 3 3 3 3 3 3]]\n",
      "[[ 0  1  2  3  4  5  6]\n",
      " [ 7  8  9 10 11 12 13]\n",
      " [14 15 16 17 18 19 20]\n",
      " [21 22 23 24 25 26 27]]\n"
     ]
    }
   ],
   "source": [
    "arrs = np.broadcast_arrays(vec, arr)\n",
    "for arr in arrs:\n",
    "    print(arr)"
   ]
  },
  {
   "cell_type": "markdown",
   "id": "7b9e3ca0",
   "metadata": {},
   "source": [
    "## Extension « par la gauche » en cas de dimension inégales"
   ]
  },
  {
   "cell_type": "code",
   "execution_count": 8,
   "id": "afb5c225",
   "metadata": {},
   "outputs": [
    {
     "name": "stdout",
     "output_type": "stream",
     "text": [
      "shapes\n",
      "(2, 3, 4)\n",
      "(4,)\n",
      "a\n",
      "[[[ 0  1  2  3]\n",
      "  [ 4  5  6  7]\n",
      "  [ 8  9 10 11]]\n",
      "\n",
      " [[12 13 14 15]\n",
      "  [16 17 18 19]\n",
      "  [20 21 22 23]]]\n",
      "b\n",
      "[0 1 2 3]\n",
      "a+b\n",
      "[[[ 0  2  4  6]\n",
      "  [ 4  6  8 10]\n",
      "  [ 8 10 12 14]]\n",
      "\n",
      " [[12 14 16 18]\n",
      "  [16 18 20 22]\n",
      "  [20 22 24 26]]]\n",
      "(2, 3, 4)\n",
      "[[[ 0  1  2  3]\n",
      "  [ 4  5  6  7]\n",
      "  [ 8  9 10 11]]\n",
      "\n",
      " [[12 13 14 15]\n",
      "  [16 17 18 19]\n",
      "  [20 21 22 23]]]\n",
      "(2, 3, 4)\n",
      "[[[0 1 2 3]\n",
      "  [0 1 2 3]\n",
      "  [0 1 2 3]]\n",
      "\n",
      " [[0 1 2 3]\n",
      "  [0 1 2 3]\n",
      "  [0 1 2 3]]]\n"
     ]
    }
   ],
   "source": [
    "a = np.arange(2*3*4).reshape((2,3,4))\n",
    "b = np.arange(4)\n",
    "print('shapes')\n",
    "print(a.shape)\n",
    "print(b.shape)\n",
    "print(\"a\")\n",
    "print(a)\n",
    "print(\"b\")\n",
    "print(b)\n",
    "print(\"a+b\")\n",
    "print(a+b)\n",
    "\n",
    "arrs = np.broadcast_arrays(a, b)\n",
    "for arr in arrs:\n",
    "    print(arr.shape)\n",
    "    print(arr)\n",
    "    "
   ]
  },
  {
   "cell_type": "markdown",
   "id": "1bc92eec",
   "metadata": {},
   "source": [
    "## Un broadcasting « piégeur »"
   ]
  },
  {
   "cell_type": "code",
   "execution_count": 9,
   "id": "fb10df0a",
   "metadata": {},
   "outputs": [
    {
     "name": "stdout",
     "output_type": "stream",
     "text": [
      "a\n",
      "[0 1 2]\n",
      "b\n",
      "[[0 1 2]\n",
      " [3 4 5]\n",
      " [6 7 8]]\n",
      "broadcasting standard en ligne\n",
      "[[ 0  1  4]\n",
      " [ 0  4 10]\n",
      " [ 0  7 16]]\n",
      "broadcasting en colonne NON STANDARD\n",
      "[[ 0  0  0]\n",
      " [ 3  4  5]\n",
      " [12 14 16]]\n"
     ]
    }
   ],
   "source": [
    "a = np.arange(3)\n",
    "b = np.arange(3*3).reshape((3,3))\n",
    "print(\"a\")\n",
    "print(a)\n",
    "print(\"b\")\n",
    "print(b)\n",
    "\n",
    "#Broadcasting \"normal\" « en ligne »\n",
    "print(\"broadcasting standard en ligne\")\n",
    "print(a*b)\n",
    "#Broadcasting \"en colonne\"\n",
    "print(\"broadcasting en colonne NON STANDARD\")\n",
    "print(np.expand_dims(a,axis=-1)*b)\n",
    "\n"
   ]
  }
 ],
 "metadata": {
  "kernelspec": {
   "display_name": "Python 3 (ipykernel)",
   "language": "python",
   "name": "python3"
  },
  "language_info": {
   "codemirror_mode": {
    "name": "ipython",
    "version": 3
   },
   "file_extension": ".py",
   "mimetype": "text/x-python",
   "name": "python",
   "nbconvert_exporter": "python",
   "pygments_lexer": "ipython3",
   "version": "3.9.13"
  }
 },
 "nbformat": 4,
 "nbformat_minor": 5
}
