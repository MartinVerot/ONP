{
 "cells": [
  {
   "cell_type": "code",
   "execution_count": 1,
   "id": "1922a177",
   "metadata": {},
   "outputs": [],
   "source": [
    "import scipy\n",
    "import scipy.constants as constants"
   ]
  },
  {
   "cell_type": "code",
   "execution_count": 2,
   "id": "28c81e11",
   "metadata": {},
   "outputs": [
    {
     "name": "stdout",
     "output_type": "stream",
     "text": [
      "8.314462618\n",
      "6.02214076e+23\n",
      "1.380649e-23\n"
     ]
    }
   ],
   "source": [
    "print(constants.R)\n",
    "print(constants.N_A)\n",
    "print(constants.k)"
   ]
  },
  {
   "cell_type": "markdown",
   "id": "1e5b323d",
   "metadata": {},
   "source": [
    "Pour les constantes physiques, il faut faire attention à ce que retourne la librairie.\n",
    "\n",
    "En particulier, `precision` donne l'**incertitude relative** alors que le troisième élément du tuple retourné par `physical_constants` est l'**incertitude-type absolue**."
   ]
  },
  {
   "cell_type": "code",
   "execution_count": 10,
   "id": "baa42770",
   "metadata": {},
   "outputs": [
    {
     "name": "stdout",
     "output_type": "stream",
     "text": [
      "(1.380649e-23, 'J K^-1', 0.0)\n",
      "1.380649e-23\n",
      "J K^-1\n",
      "0.0\n"
     ]
    }
   ],
   "source": [
    "print(\n",
    "    constants.physical_constants[\"Boltzmann constant\"]\n",
    ")  # (valeur, unité, incertitude-type)\n",
    "print(constants.value(\"Boltzmann constant\"))  # valeur\n",
    "print(constants.unit(\"Boltzmann constant\"))  # unité\n",
    "print(constants.precision(\"Boltzmann constant\"))  # incertitude relative"
   ]
  },
  {
   "cell_type": "code",
   "execution_count": 14,
   "id": "cbbdfffa",
   "metadata": {},
   "outputs": [
    {
     "name": "stdout",
     "output_type": "stream",
     "text": [
      "(27.211386245988, 'eV', 5.3e-11)\n",
      "27.211386245988\n",
      "eV\n",
      "1.9477140753097144e-12\n",
      "1.9477140753097144e-12\n"
     ]
    }
   ],
   "source": [
    "print(constants.physical_constants[\"Hartree energy in eV\"])\n",
    "print(constants.value(\"Hartree energy in eV\"))\n",
    "print(constants.unit(\"Hartree energy in eV\"))\n",
    "print(constants.precision(\"Hartree energy in eV\"))\n",
    "# calcul explicite de la valeur retournée par `precision`\n",
    "print(\n",
    "    constants.physical_constants[\"Hartree energy in eV\"][2]\n",
    "    / constants.value(\"Hartree energy in eV\")\n",
    ")"
   ]
  },
  {
   "cell_type": "code",
   "execution_count": 13,
   "id": "823a13c3",
   "metadata": {},
   "outputs": [
    {
     "name": "stdout",
     "output_type": "stream",
     "text": [
      "(5.29177210903e-11, 'm', 8e-21)\n",
      "5.29177210903e-11\n",
      "m\n",
      "1.511780899700616e-10\n",
      "1.511780899700616e-10\n"
     ]
    }
   ],
   "source": [
    "print(constants.physical_constants[\"Bohr radius\"])\n",
    "print(constants.value(\"Bohr radius\"))\n",
    "print(constants.unit(\"Bohr radius\"))\n",
    "print(constants.precision(\"Bohr radius\"))"
   ]
  },
  {
   "cell_type": "code",
   "execution_count": null,
   "id": "547571a6",
   "metadata": {},
   "outputs": [],
   "source": []
  }
 ],
 "metadata": {
  "kernelspec": {
   "display_name": "Python 3 (ipykernel)",
   "language": "python",
   "name": "python3"
  },
  "language_info": {
   "codemirror_mode": {
    "name": "ipython",
    "version": 3
   },
   "file_extension": ".py",
   "mimetype": "text/x-python",
   "name": "python",
   "nbconvert_exporter": "python",
   "pygments_lexer": "ipython3",
   "version": "3.9.13"
  }
 },
 "nbformat": 4,
 "nbformat_minor": 5
}
