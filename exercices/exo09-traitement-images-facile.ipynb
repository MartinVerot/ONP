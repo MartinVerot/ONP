{
 "cells": [
  {
   "cell_type": "markdown",
   "id": "27a6a54a",
   "metadata": {},
   "source": [
    "# Stéganographie\n",
    "\n",
    "*exercice inspiré des exercices d'ONP des années <2023*\n",
    "\n",
    "Il est possible de cacher une image dans une autre via un procédé appelé stéganographie. On va essayer ici de décoder une image pour trouver l'image cachée.\n",
    "\n",
    "Pour la stéganographie : \n",
    "* chaque pixel de l'image est codé en RGB donc trois valeurs en simultané, chaque canal R, G ou B prend une valeur comprise entre 0 et 255 pour une image codée sur 8 bits pour chaque composante. \n",
    "* Pour chacune des composantes, la valeur décimale peut être convertie en valeur binaire. Comme on ne dépasse jamais 255, 8 bits suffisent (un octet). Parmis les 8 bits, les 4 premiers sont ceux de poids fort car ils servent à coder les « chiffres supérieurs à 16 ». Les 4 derniers (les bits de poids faible) codent tous les chiffres entre 0 et 16. \n",
    "\n",
    "Donc si on enlève les bits de poids faible, on fait au plus un écart de 16 par rapport à la valeur initiale. Ainsi, tous les octets de la forme \"1111XXXX\" (X = 0 ou 1) valent forcément entre 240 et 255, ceux de la forme \"1010XXXX\" sont entre 160 et 175. Ainsi, en changeant les bits de poids faible, on garde l'image principale globalement inchangée.\n",
    "\n",
    "![pics/exo9-RGB.png](pics/exo9-RGB.png)\n",
    "\n",
    "L'idée de la stéganographie est de placer les bits de poids fort (ceux qui comptent beaucoup) d'une image 2 à la place des bits de poids faible de l'image 1 originale, en faisant ça, on cache alors l'image 2 dans l'image 1. On peut ensuite faire l'opération inverse pour avoir deux images à partir d'une seule. L'opération de stéganographie puis de retour à l'original aura donc fait faire au plus une erreur de 16 sur la valeur des composantes RGB des deux images originales pour chaque pixel.\n",
    "\n",
    "![pics/exo9-stegano.png](pics/exo9-stegano.png)\n",
    "\n",
    "1. Pour l'image de départ `files/exo09-imagecacheee.png` qui contient une image cachée par stéganographie :  à l'aide de la commande `file` ou `identify` du terminal, regarder les caractéristiques de celle-ci (en particulier, la largeur, la hauteur et le nombre de bits utilisés pour encoder chaque composante)\n",
    "2. À l'aide de la librairie opencv (https://opencv.org/) `import cv2 as cv` et de la fonction `cv.imread`, lire l'image de départ. Convertir le résultat en tableau numpy avec la fonction `np.array` (vérifier ou forcer le type `uint8`). Regarder le shape du tableau retourné pour savoir quelle dimension correspond à quoi : largeur, hauteur, canaux RGB.\n",
    "3. À l'aide de la fonction `np.unpackbits`, convertir les canaux RGB en binaire. Regarder le shape de ce qui est retourné *Par défaut, unpackbits travail sur le tableau « mis à plat ». L'utilisation de `np.expand_dims` puis d'une option de `unpackbits` permet de garder des dimensions liés à la position de chaque pixel de manière à avoir un objet de shape (324, 196, 3, 8)*\n",
    "4. Sélectionner les bits de poids faible de l'image (quatre derniers bits, avec du slicing) et les placer en tant que bits de poids fort (quatre premiers bits) dans un nouveau tableau qui forme l'image cachée `img_cachee`.\n",
    "5. Utiliser la fonction `np.packbits` pour former une nouvelle image (*On pourra utiliser `np.squeeze` pour supprimer les dimensions rendues inutiles.*) et l'afficher avec \n",
    "```python\n",
    "    cv.imshow(\"Display window\", img_cachee)\n",
    "    k = cv.waitKey(0) #Pour laisser la fenêtre active tant qu'une touche n'a pas été pressée\n",
    "    cv.destroyAllWindows() #Pour éviter des soucis liés à ipython/jupyter\n",
    "```\n",
    "\n",
    "\n",
    "6. Faire une fonction capable de créer une image mélangée par stéganographie (on pourra utiliser les deux images `files/exo09-mario.png` et `files/exo09-luigi.png` pour tester le résultat)"
   ]
  },
  {
   "cell_type": "code",
   "execution_count": null,
   "id": "726d7176",
   "metadata": {},
   "outputs": [],
   "source": []
  }
 ],
 "metadata": {
  "kernelspec": {
   "display_name": "Python 3 (ipykernel)",
   "language": "python",
   "name": "python3"
  },
  "language_info": {
   "codemirror_mode": {
    "name": "ipython",
    "version": 3
   },
   "file_extension": ".py",
   "mimetype": "text/x-python",
   "name": "python",
   "nbconvert_exporter": "python",
   "pygments_lexer": "ipython3",
   "version": "3.9.13"
  }
 },
 "nbformat": 4,
 "nbformat_minor": 5
}
