{
 "cells": [
  {
   "cell_type": "markdown",
   "id": "98ca49d5",
   "metadata": {},
   "source": [
    "# Stéganographie : décodage"
   ]
  },
  {
   "cell_type": "code",
   "execution_count": 4,
   "id": "7ecce7af",
   "metadata": {},
   "outputs": [
    {
     "ename": "ImportError",
     "evalue": "/lib/x86_64-linux-gnu/libatspi.so.0: undefined symbol: g_once_init_leave_pointer",
     "output_type": "error",
     "traceback": [
      "\u001b[0;31m---------------------------------------------------------------------------\u001b[0m",
      "\u001b[0;31mImportError\u001b[0m                               Traceback (most recent call last)",
      "\u001b[0;32m/tmp/ipykernel_75172/2455123303.py\u001b[0m in \u001b[0;36m<module>\u001b[0;34m\u001b[0m\n\u001b[1;32m      6\u001b[0m \u001b[0;34m\u001b[0m\u001b[0m\n\u001b[1;32m      7\u001b[0m \u001b[0;34m\u001b[0m\u001b[0m\n\u001b[0;32m----> 8\u001b[0;31m \u001b[0;32mimport\u001b[0m \u001b[0mcv2\u001b[0m \u001b[0;32mas\u001b[0m \u001b[0mcv\u001b[0m\u001b[0;34m\u001b[0m\u001b[0;34m\u001b[0m\u001b[0m\n\u001b[0m\u001b[1;32m      9\u001b[0m \u001b[0;32mimport\u001b[0m \u001b[0msys\u001b[0m\u001b[0;34m\u001b[0m\u001b[0;34m\u001b[0m\u001b[0m\n\u001b[1;32m     10\u001b[0m \u001b[0;34m\u001b[0m\u001b[0m\n",
      "\u001b[0;31mImportError\u001b[0m: /lib/x86_64-linux-gnu/libatspi.so.0: undefined symbol: g_once_init_leave_pointer"
     ]
    }
   ],
   "source": [
    "#!/usr/bin/env python3\n",
    "# -*- coding: utf-8 -*-\n",
    "import matplotlib\n",
    "import matplotlib.pyplot as plt\n",
    "import numpy as np\n",
    "\n",
    "\n",
    "import cv2 as cv\n",
    "import sys\n",
    "\n",
    "\n",
    "# Programme principal\n",
    "if __name__ == \"__main__\":\n",
    "    # ouverture de l'image\n",
    "    img = cv.imread(\"exo9-imagecacheee.png\")\n",
    "\n",
    "    # conversion en tableau numpy\n",
    "    img_arr = np.array(img)\n",
    "\n",
    "    print(\"shape du tableau avec les canaux RGB\")\n",
    "    print(img_arr.shape)\n",
    "    # l'axe zéro correspond donc à la hauteur, l'axe 1 à la largeur, et l'axe 2 aux composantes RGB\n",
    "\n",
    "    # conversion en binaire, l'option expand_dims permet d'augmenter d'une dimension pour chaque composante\n",
    "    # puis de convertir chaque octet en binaire\n",
    "    img_bin = np.unpackbits(np.expand_dims(img_arr, axis=-1), axis=-1)\n",
    "    print(\"shape du tableau avec les canaux RGB passés en binaire\")\n",
    "    print(img_bin.shape)\n",
    "\n",
    "    # On créé une image vierge pour placer l'image cachée\n",
    "    img_cachee_bin = np.zeros_like(img_bin)\n",
    "    # On place les bits de poids faible de l'image img en tant que bits de poids fort pour notre image cachée\n",
    "    img_cachee_bin[:, :, :, 0:4] = img_bin[:, :, :, 4:8]\n",
    "    # On retransforme les bits en entier de type uint8\n",
    "    img_cachee = np.packbits(img_cachee_bin, axis=-1)\n",
    "    # À ce stade, on a une dimension en trop que l'on va éliminer avec np.squeeze\n",
    "    print(\"shape du tableau recondensé avec packbits\")\n",
    "    print(img_cachee.shape)\n",
    "    img_cachee = np.squeeze(img_cachee)\n",
    "\n",
    "    cv.imshow(\"Display window\", img_cachee)\n",
    "    k = cv.waitKey(\n",
    "        0\n",
    "    )  # Pour laisser la fenêtre active tant qu'une touche n'a pas été pressée\n",
    "    cv.destroyAllWindows()  # Pour éviter des soucis liés à ipython/jupyter"
   ]
  },
  {
   "cell_type": "code",
   "execution_count": 8,
   "id": "284eedd1",
   "metadata": {},
   "outputs": [
    {
     "name": "stdout",
     "output_type": "stream",
     "text": [
      "shape du tableau avec les canaux RGB\n",
      "(324, 196, 3)\n",
      "shape du tableau avec les canaux RGB passés en binaire\n",
      "(324, 196, 3, 8)\n",
      "shape du tableau recondensé avec packbits\n",
      "(324, 196, 3, 1)\n"
     ]
    }
   ],
   "source": [
    "#!/usr/bin/env python3\n",
    "# -*- coding: utf-8 -*-\n",
    "import matplotlib\n",
    "import matplotlib.pyplot as plt\n",
    "import numpy as np\n",
    "\n",
    "\n",
    "import cv2 as cv\n",
    "import sys\n",
    "\n",
    "\n",
    "# Programme principal\n",
    "if __name__ == \"__main__\":\n",
    "    # ouverture de l'image\n",
    "    img = cv.imread(\"exo9-imagecacheee.png\", cv.IMREAD_COLOR)\n",
    "\n",
    "    # conversion en tableau numpy\n",
    "    img_arr = np.array(img)\n",
    "\n",
    "    print(\"shape du tableau avec les canaux RGB\")\n",
    "    print(img_arr.shape)\n",
    "    # l'axe zéro correspond donc à la hauteur, l'axe 1 à la largeur, et l'axe 2 aux composantes RGB\n",
    "\n",
    "    # conversion en binaire, l'option expand_dims permet d'augmenter d'une dimension pour chaque composante\n",
    "    # puis de convertir chaque octet en binaire\n",
    "    img_bin = np.unpackbits(np.expand_dims(img_arr, axis=-1), axis=-1)\n",
    "    print(\"shape du tableau avec les canaux RGB passés en binaire\")\n",
    "    print(img_bin.shape)\n",
    "\n",
    "    # On créé une image vierge pour placer l'image cachée\n",
    "    img_cachee_bin = np.zeros_like(img_bin)\n",
    "    # On place les bits de poids faible de l'image img en tant que bits de poids fort pour notre image cachée\n",
    "    img_cachee_bin[:, :, :, 0:4] = img_bin[:, :, :, 4:8]\n",
    "    # On retransforme les bits en entier de type uint8\n",
    "    img_cachee = np.packbits(img_cachee_bin, axis=-1)\n",
    "    # À ce stade, on a une dimension en trop que l'on va éliminer avec np.squeeze\n",
    "    print(\"shape du tableau recondensé avec packbits\")\n",
    "    print(img_cachee.shape)\n",
    "    img_cachee = np.squeeze(img_cachee)\n",
    "\n",
    "    ##version compatible avec matplotlib qui demande une conversion de couleur\n",
    "    # img_cachee = cv.cvtColor(img_cachee, cv.COLOR_BGR2RGB)\n",
    "    # plt.imshow(img_cachee)\n",
    "    # plt.show()\n",
    "\n",
    "    # version avec opencv qui est plus simple car la librairie est en accord\n",
    "    # avec elle-même pour l'ordre des canaux de couleur\n",
    "    cv.imshow(\"image cachée\", img_cachee)\n",
    "    k = cv.waitKey(\n",
    "        0\n",
    "    )  # Pour laisser la fenêtre active tant qu'une touche n'a pas été pressée\n",
    "    cv.destroyAllWindows()  # Pour éviter des soucis liés à ipython/jupyter"
   ]
  },
  {
   "cell_type": "markdown",
   "id": "e9781560",
   "metadata": {},
   "source": [
    "# Stéganographie : encodage"
   ]
  },
  {
   "cell_type": "code",
   "execution_count": 5,
   "id": "b8486132",
   "metadata": {},
   "outputs": [],
   "source": [
    "#!/usr/bin/env python3\n",
    "# -*- coding: utf-8 -*-\n",
    "import matplotlib\n",
    "import matplotlib.pyplot as plt\n",
    "import numpy as np\n",
    "\n",
    "\n",
    "import cv2 as cv\n",
    "import sys\n",
    "\n",
    "\n",
    "# Programme principal\n",
    "if __name__ == \"__main__\":\n",
    "    # ouverture des images\n",
    "    img1 = cv.imread(\"exo9-mario.png\")\n",
    "    img2 = cv.imread(\"exo9-luigi.png\")\n",
    "    # conversion en tableau numpy\n",
    "    img1_arr = np.array(img1)\n",
    "    img2_arr = np.array(img2)\n",
    "\n",
    "    # conversion en binaire, l'option expand_dims permet d'augmenter d'une dimension pour chaque composante\n",
    "    # puis de convertir chaque octet en binaire\n",
    "    img1_bin = np.unpackbits(np.expand_dims(img1_arr, axis=-1), axis=-1)\n",
    "    img2_bin = np.unpackbits(np.expand_dims(img2_arr, axis=-1), axis=-1)\n",
    "\n",
    "    # Opération de stéganographie : on place les bits de poids fort de img2 à la place des bits de poids faible de img1\n",
    "    img1_bin[:, :, :, 4:8] = img2_bin[:, :, :, 0:4]\n",
    "    # On reforme l'entier codé sur 8 bits\n",
    "    img_melangee = np.packbits(img1_bin, axis=-1)\n",
    "    # On enlève la dimension en trop utilisée de manière intermédiaire\n",
    "    img_melangee = np.squeeze(img_melangee)\n",
    "    # enregistrement de l'image mélangée\n",
    "    cv.imwrite(\"exo9-imagecacheee2.png\", img_melangee)\n",
    "\n",
    "    # affichage de l'image mélangée.\n",
    "    cv.imshow(\"Display window\", img_melangee)\n",
    "    k = cv.waitKey(\n",
    "        0\n",
    "    )  # Pour laisser la fenêtre active tant qu'une touche n'a pas été pressée\n",
    "    cv.destroyAllWindows()  # Pour éviter des soucis liés à ipython/jupyter"
   ]
  },
  {
   "cell_type": "code",
   "execution_count": null,
   "id": "2cad3103",
   "metadata": {},
   "outputs": [],
   "source": []
  }
 ],
 "metadata": {
  "kernelspec": {
   "display_name": "Python 3 (ipykernel)",
   "language": "python",
   "name": "python3"
  },
  "language_info": {
   "codemirror_mode": {
    "name": "ipython",
    "version": 3
   },
   "file_extension": ".py",
   "mimetype": "text/x-python",
   "name": "python",
   "nbconvert_exporter": "python",
   "pygments_lexer": "ipython3",
   "version": "3.9.13"
  }
 },
 "nbformat": 4,
 "nbformat_minor": 5
}
