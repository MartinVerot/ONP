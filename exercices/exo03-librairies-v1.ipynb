{
 "cells": [
  {
   "cell_type": "markdown",
   "id": "914808d3",
   "metadata": {},
   "source": [
    "À cette séance comme à toutes les suivantes, il est possible de s'aider de recherches sur internet, chatgpt, et des modes d'emploi des librairies !\n",
    "\n",
    "# Utilisation de librairies\n",
    "\n",
    "## Exercice 1 : la librairie time/datetime\n",
    "\n",
    "La documentation officielle est disponible à cette adresse :\n",
    "https://docs.python.org/fr/3/library/time.html  \n",
    "https://docs.python.org/fr/3/library/datetime.html\n",
    "\n",
    "\n",
    "1. Faire un script qui donne le jour de la semaine correspondant à une date donnée au format dd-mm-yyyy / jour-mois-année où le jour est donné sur deux chiffres, le mois également et l'année sur 4 chiffres (par exemple, '04-07-2012' pour la date d'annonce de la découverte du boson de Higgs).\n",
    "\n",
    "indice : `strptime` et `strftime` pour convertir des chaînes de caractère en date et vice-versa.\n"
   ]
  },
  {
   "cell_type": "markdown",
   "id": "d40712c4",
   "metadata": {},
   "source": [
    "## Exercice 2 : librairies os, glob\n",
    "*exercice adapté des énoncés de TD du module ONP pour les années <2023*\n",
    "\n",
    "librairies à utiliser : os https://docs.python.org/3/library/os.html, time, glob https://docs.python.org/fr/3.6/library/glob.html\n",
    "\n",
    "1. Créer un répertoire 'test' dans le dossier du script uniquement s'il n'existe pas déjà\n",
    "2. À l'aide d'une fonction, y créer des fichiers vides de la forme 'output-dd-mm-yyyy-XX.txt' où 'dd-mm-yyyy' est la date au format jour-mois-année et XX est un entier strictement positif inférieur à `N`. La fonction utilisée doit prendre comme paramètre facultatif `N` le nombre de fichiers à créer ( 0 < XX <= N) et une date. La valeur par défaut de `N` doit être égale à 25 et la date par défaut doit être celle de la journée.\n",
    "3. Après avoir exécuté la fonction sans date fournie ainsi que pour les dates suivantes '21-03-2023', '10-05-2024' et '30-04-2022'  avec la valeur de `N` par défaut, faire une commande 'ls -l' sur le répertoire.\n",
    "4. Après avoir constaté que les fichiers ne sont classés ni par ordre croissant de date ni par ordre croissant de XX pour une même date, faire un nouveau script qui renomme les fichiers déjà créés et associés à une date précise sous une autre forme pour que la commande `ls -l` les classe correctement par numéro de fichier. En appliquant la fonction à toutes les dates, les fichiers doivent au final être également classés par ordre de date (en plus de l'ordre par numéro de fichier).\n",
    "\n",
    "indice : la méthode `split` pour découper des chaines de caractère. De même, utiliser des fonctions de formatage pour les chaines de caractère (tableau 5.1 du polycopié de cours).\n",
    "\n"
   ]
  },
  {
   "cell_type": "markdown",
   "id": "b153308a",
   "metadata": {},
   "source": [
    "## Exercice 3 : librairies argparse et math\n",
    "\n",
    "librairies à utiliser : argparse (tutoriel : https://docs.python.org/fr/3/howto/argparse.html ), math, os\n",
    "\n",
    "Déterminer l’angle $\\theta_{eq}$ caractérisant la position d’équilibre stable et la pulsation $\\omega_0$ des petites oscillations autour de $\\theta \\approx \\theta_{eq}$\n",
    "dans le problème du “cerceau tournant” (cf TD de mécanique analytique) qui correspond au fait d'étudier une particule astreinte à se déplacer sur un cerceau de rayon $r$ en rotation autour d'un axe vertical à la vitesse angulaire $\\omega$. La position d'équilibre stable correspond à :\n",
    "*  si  $\\omega ^2 < \\dfrac{g}{r}$\n",
    "$$\\theta_{eq} = \\pi \\quad  $$\n",
    "$$\\omega_0 = \\sqrt{\\dfrac{g}{r}} \\sqrt{1-\\dfrac{\\omega ^2 r}{g }}$$\n",
    "* sinon :\n",
    "$$\\theta_{eq} = \\arccos \\left(-\\dfrac{g}{r \\omega ^2}\\right) $$\n",
    "$$\\omega_0 = \\omega \\sqrt{1-\\left(\\dfrac{ g}{r\\omega ^2 }\\right)^2}$$\n",
    "\n",
    "\n",
    "\n",
    "Le programme doit pouvoir être utilisé sans arguments (i.e. sous la forme python monscript.py, avec des valeurs par défaut de g, r et ω), en passant les valeurs des paramètres dans la commande (soit sous la forme “short version” `./monscript.py -g 9.81 -r 1.0 -w 2.0`, soit sous la forme “long version” `./monscript.py --gravity 9.81 --radius 1.0 --omega 2.0`), ou enfin en passant comme argument le nom d’un fichier dans\n",
    "lequel sont définis ces paramètres (sous la forme python `./monscript.py -f myfile.txt` ou la version longue avec le mot-clé `--inputfile`). Le résultat attendu est présenté ci-dessous :\n",
    "```\n",
    "$ ./cercle_tournant.py\n",
    "Les parametres du probleme sont : g = 9.81, r = 1.0, omega = 2.0 [MKSA]\n",
    "La position d’equilibre stable est : theta_eq = 3.14159265359\n",
    "La pulsation des petites oscillations autour de cet equilbre est : w0 = 2.41039415864 (/s)\n",
    "\n",
    "$ ./cercle_tournant.py -w 5\n",
    "Les parametres du probleme sont : g = 9.81 r = 1.0 w = 5.0 [MKSA]\n",
    "La position d’equilibre stable est : theta_eq = 1.9740357497847503 \n",
    "La pulsation des petites oscillations autour de cet equilbre est : w0 = 4.598973363697598 (/s)\n",
    "\n",
    "\n",
    "$ ./cercle_tournant.py --radius 1.0 -w 2.0\n",
    "Les parametres du probleme sont : g = 9.81, r = 1.0, omega = 2.0 [MKSA]\n",
    "La position d’equilibre stable est : theta_eq = 3.14159265359\n",
    "La pulsation des petites oscillations autour de cet equilbre est : w0 = 2.41039415864 (/s)\n",
    "\n",
    "$ ./cercle_tournant.py -f cercle_tournant.txt\n",
    "Les parametres du probleme sont : g = 9.81, r = 1.0, omega = 4.0 [MKSA]\n",
    "La position d’equilibre stable est : theta_eq = 2.2308066409\n",
    "La pulsation des petites oscillations autour de cet equilbre est : w0 = 3.15994363083 (/s)\n",
    "```"
   ]
  },
  {
   "cell_type": "code",
   "execution_count": null,
   "id": "8b3bc806",
   "metadata": {},
   "outputs": [],
   "source": []
  }
 ],
 "metadata": {
  "kernelspec": {
   "display_name": "Python 3 (ipykernel)",
   "language": "python",
   "name": "python3"
  },
  "language_info": {
   "codemirror_mode": {
    "name": "ipython",
    "version": 3
   },
   "file_extension": ".py",
   "mimetype": "text/x-python",
   "name": "python",
   "nbconvert_exporter": "python",
   "pygments_lexer": "ipython3",
   "version": "3.9.13"
  }
 },
 "nbformat": 4,
 "nbformat_minor": 5
}
