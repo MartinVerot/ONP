{
 "cells": [
  {
   "cell_type": "markdown",
   "id": "4e514f62",
   "metadata": {},
   "source": [
    "# Construction de Maxwell des isothermes d'Andrews pour un gaz de Van der Waals.\n",
    "\n",
    "L'équation d'état en coordonnées réduites pour un gaz de Van der Waals est donnée par :\n",
    "$$\\left(P_R + \\dfrac{3}{{V_R}^{2}}\\right)\\left({V_R} -\\dfrac{1}{3} \\right) = \\dfrac{8}{3}T_R$$\n",
    "\n",
    "où $P_R$, ${V_R}$ et $T_R$ sont les coordonnées réduites (adimensionnées) pour la pression $P_R=P/P_c$, le volume molaire  ${V_R}= {V}/{V_c}$ et la température $T_R=T/T_c$ avec $P_c$, ${V_c}$ et $T_c$ les valeurs critiques de la pression, la température et la pression.\n",
    "\n",
    "L'équation d'état peut donc s'écrire sous une forme polynomiale :\n",
    "\n",
    "\\begin{align}3P_R {V_R}^3 - (P_R+8T_R){V_R}^2+9{V_R}-3=0\\end{align}\n",
    "\n",
    "Qui s'annule au point critique (pour lequel $P_R$, ${V_R}$ et $T_R$ valent tous 1)\n",
    "\n",
    "\n",
    "1. Pour des valeurs de $T_R$ comprises entre 0.85 et 1.1, tracer les isothermes d'Andrews $P_R = f({V_R},T_R) = \\dfrac{8}{3}\\dfrac{T_R}{V_R-1/3}-\\dfrac{3}{V_R^2}$ \n",
    "\n",
    "\n",
    "![VdW-ok.svg](VdW-ok.svg)\n",
    "\n",
    "On cherche à connaître la pression d'équilibre lors de la co-existence entre la phase gaz et la phase liquide. \n",
    "\n",
    "2. Pour une température inférieure à la température critique (par exemple $T_R=0.9$), trouver le volume correspondant aux deux extremums de la fonction -- points bleus sur la figure. *utiliser la fonction np.roots ou la méthode `.roots()` sur un objet de type `numpy.polynomial.polynomial.Polynomial`et ne garder que les deux racines les plus grandes.* (on doit trouver [0.7186 1.5285])\n",
    "\n",
    "$$\\dfrac{\\partial P}{\\partial V} = 0 \\Leftrightarrow 2-12V_R+18V_R^2-8T_RV_R^3 = 0$$\n",
    "\n",
    "3. Calculer la pression pour ces deux extremums. (on doit trouver [0.4198 0.7240 ] )\n",
    "\n",
    "4. Pour une pression comprise entre ces deux extremums (par exemple $P_e = 0.6$ pour $T_R=0.9$) trouver les trois racines $V_1$, $V_2$ et $V_3$ du polynôme telles que $V_1<V_2<V_3$.\n",
    "\n",
    "5. Calculer l'aire $A_1$ (positive) entre la droite $P=P_e$ et l'isotherme entre $V_1$ et $V_2$, puis l'aire $A_2$ entre $V_2$ et $V_3$. Ces deux aires sont grisées sur la figure. *utiliser integrate.quad* (on doit trouver 0.0413 ; 0.1318 pour $P_e = 0.6$ et $T_R=0.9$))\n",
    "\n",
    "6. Trouver la valeur de la pression $P_\\mathrm{iso}$ qui égalise les deux aires $A_1(P_\\mathrm{iso})=A_2(P_\\mathrm{iso})$. *utiliser optimize.brentq* (On doit trouver 0.647 pour $T=0.9$, en cas d'erreur, vérifiez que vous recalculez bien les différents volumes pour chaque pression.)\n",
    "\n",
    "La valeur trouvée est la pression à l'équilibre lors de la coexistence entre les deux phases.\n",
    "\n",
    "7. Tracer l'isotherme d'Andrews correspondante pour $T_R=0,9$. *On rappelle qu'il est possible de faire du masking pour sélectionner de manière conditionnelle certains éléments.*\n",
    "\n",
    "![VdW2.svg](VdW2.svg)\n"
   ]
  },
  {
   "cell_type": "code",
   "execution_count": null,
   "id": "723504a6",
   "metadata": {},
   "outputs": [],
   "source": []
  }
 ],
 "metadata": {
  "kernelspec": {
   "display_name": "Python 3 (ipykernel)",
   "language": "python",
   "name": "python3"
  },
  "language_info": {
   "codemirror_mode": {
    "name": "ipython",
    "version": 3
   },
   "file_extension": ".py",
   "mimetype": "text/x-python",
   "name": "python",
   "nbconvert_exporter": "python",
   "pygments_lexer": "ipython3",
   "version": "3.9.13"
  }
 },
 "nbformat": 4,
 "nbformat_minor": 5
}
