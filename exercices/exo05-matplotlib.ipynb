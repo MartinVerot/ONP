{
 "cells": [
  {
   "cell_type": "markdown",
   "id": "983e3a90",
   "metadata": {},
   "source": [
    "Pour l'import de matplotlib, utiliser les lignes suivantes :\n",
    "```\n",
    "import matplotlib as mpl\n",
    "import matplotlib.pyplot as plt\n",
    "```\n",
    "\n",
    "*Les scripts que vous aurez à faire ci-dessous correspondent aux situations relativement basiques que vous rencontrerez souvent (tracé d'une fonction, tracé de points, tracé sur une grille, subplots, etc). Il peut ainsi être judicieux de les garder précieusement pour les ré-utiliser le moment venu.*"
   ]
  },
  {
   "cell_type": "markdown",
   "id": "399fca1d",
   "metadata": {},
   "source": [
    "# Ex1 : Tracé d'une fonction\n",
    "\n",
    "Avec la fonction `plt.plot` Tracer la courbe correspondant au potentiel de Lennard-Jones entre deux particules :\n",
    "$$ E_{LJ}(r) = 4E_0\\left[\\left(\\frac{d}{r}\\right)^{12}-\\left(\\frac{d}{r}\\right)^{6}\\right] $$\n",
    "\n",
    "\n",
    "Pour l'argon, $d=0.3405~\\mathrm{nm}$ et $\\dfrac{E_0}{k_B} = 119.8~\\mathrm{K}$\n",
    "\n",
    "* Prendre une abscisse comprise entre 0.1 et 1.5 nm. \n",
    "* Utiliser `set_ylim` afin de voir le puit de potentiel. \n",
    "* Enlever les spines du haut et à droite, \n",
    "* placer le spine du bas en $y=0$\n",
    "* donner un titre général ainsi qu'une légende aux axes\n",
    "* faire en sorte d'avoir une ligne en tirets\n",
    "* enregistrer votre figure avec le nom `lennard-jones.svg`\n",
    "\n",
    "**Enregistrer le script python dans un fichier nommé `TD5-ex1.py`**\n",
    "\n",
    "Votre figure devrait (presque) ressembler à cela :\n",
    "![lennard-jones.svg](lennard-jones.svg)\n",
    "\n"
   ]
  },
  {
   "cell_type": "markdown",
   "id": "e71e09f2",
   "metadata": {},
   "source": [
    "# Tracé d'une fonction numérique à partir d'un fichier\n",
    "\n",
    "**Enregistrer le script python dans un fichier nommé `TD5-ex2.py`**\n",
    "\n",
    "À l'aide du fichier `exo5-fid.csv`, tracer le signal en fonction du temps pour le spectre RMN d'une molécule d'éthanol deutéré.\n",
    "\n",
    "Utiliser la fonction `np.genfromtxt` https://numpy.org/doc/stable/reference/generated/numpy.genfromtxt.html L'import des données doit directement être exploitable pour le tracé avec `plt.plot`\n",
    "\n",
    "* fixer l'abscisse minimale à zéro et l'abscisse maximale en utilisant la fonction `np.max` sur les points en abscisse\n",
    "\n",
    "![fid.png](fid.png)"
   ]
  },
  {
   "cell_type": "markdown",
   "id": "bc1f60d7",
   "metadata": {},
   "source": [
    "# Tracé de graphiques multiples\n",
    "\n",
    "**Enregistrer le script python dans un fichier nommé `TD5-ex3.py`**\n",
    "\n",
    "Utiliser le fichier `exo5-anscombe.dat` qui contient 4 jeux de données x/y ayant :\n",
    "* la même moyenne en x/y\n",
    "* la même variance en x/y. \n",
    "* Le même coefficient de corrélation \n",
    "* les mêmes équations de régression linéaire\n",
    "\n",
    "Tracer :\n",
    "* chacun des jeux de données avec la fonction `plt.gridspec` https://matplotlib.org/stable/api/_as_gen/matplotlib.gridspec.GridSpec.html \n",
    "* faire en sorte que les axes en abscisse et en ordonnée soient partagés entre les différents graphiques afin de représenter toujours la même zone en x et en y et que celle-ci contienne tous les points.\n",
    "* Indiquer la valeur moyenne en x, en y pour chaque jeu de données avec les fonction `plt.hlines` et `plt.vlines`\n",
    "* faire la régression linéaire avec `np.polyfit` https://numpy.org/doc/stable/reference/generated/numpy.polyfit.html pour chaque jeu de données, puis tracer la régression linéaire sur l'intervalle choisi avec la fonction `np.polyval` https://numpy.org/doc/stable/reference/generated/numpy.polyval.html#numpy.polyval.\n",
    "\n",
    "![anscombe.png](anscombe.png)\n"
   ]
  },
  {
   "cell_type": "markdown",
   "id": "cb6dd7b8",
   "metadata": {},
   "source": [
    "# Tracé d'une fonction et de son gradient\n",
    "\n",
    "Pour la fonction :\n",
    "$$f(x,y)=\\exp(-x^2)\\times \\sin(y)$$\n",
    "* calculer la fonction pour x compris entre -5 et 5 et pour y compris entre 0 et 2$\\pi$ : pour cela, utiliser `np.linspace` et `np.meshgrid`\n",
    "* Utiliser `mpl.plot_surface` pour tracer la fonction en 3 dimensions. https://matplotlib.org/stable/gallery/mplot3d/surface3d.html#sphx-glr-gallery-mplot3d-surface3d-py\n",
    "![func-view1.png](func-view1.png) ![func-view2.png](func-view2.png) ![func-view3.png](func-view3.png)\n",
    "\n",
    "* Tracer le gradient de la fonction avec `plt.quiver` et l'option `width=0.0009`.\n",
    "![func-grad.png](func-grad.png)\n"
   ]
  },
  {
   "cell_type": "code",
   "execution_count": null,
   "id": "37c22afc",
   "metadata": {},
   "outputs": [],
   "source": []
  }
 ],
 "metadata": {
  "kernelspec": {
   "display_name": "Python 3 (ipykernel)",
   "language": "python",
   "name": "python3"
  },
  "language_info": {
   "codemirror_mode": {
    "name": "ipython",
    "version": 3
   },
   "file_extension": ".py",
   "mimetype": "text/x-python",
   "name": "python",
   "nbconvert_exporter": "python",
   "pygments_lexer": "ipython3",
   "version": "3.9.13"
  }
 },
 "nbformat": 4,
 "nbformat_minor": 5
}
