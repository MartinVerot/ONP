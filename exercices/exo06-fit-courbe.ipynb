{
 "cells": [
  {
   "cell_type": "markdown",
   "id": "d5c38ee2",
   "metadata": {},
   "source": [
    "*Exercice tiré des TD du module ONP, années <2023*\n",
    "\n",
    "Récupérer le fichier `files/exo06-electricite.csv`, qui correspond à la consommation mensuelle\n",
    "d’électricité en France, de Septembre 1991 à Décembre 2015. \n",
    "\n",
    "1. Tracer la consommation en fonction du mois. Pour les mois, utiliser la fonction `np.arange` pour créer une liste d'entier croissants.\n",
    "\n",
    "On cherche à modéliser la consommation mensuelle par la fonction :\n",
    "$$c+b\\times x+a\\times x^2+A\\times\\sin(2\\pi\\times f \\times x+\\phi)$$\n",
    "\n",
    "2. Faire un premier fit de la fonction avec la fonction curve_fit sans fournir de paramètres initiaux. Tracer le résultat de la modélisation. Constater l'échec de l'optimisation. **CONCLUSION : Il faut absolument essayer de donner des paramètres initiaux pour faciliter la convergence**\n",
    "\n",
    "3. Déterminer les valeurs de $a_{guess}$, $b_{guess}$ et $c_{guess}$ avec la fonction `np.polyfit`. *Pour calculer les valeurs du polynôme trouvé $c_{guess}+b_{guess}\\times x+a_{guess}\\times x^2$, il est plus judicieux d'utiliser `np.polyval` afin d'éviter toute erreur sur l'ordre des coefficients.*\n",
    "\n",
    "4. Essayer de déterminer la fréquence, l'amplitude et la phase avec les fonction fft de numpy. Pour cela : tracer la transformée de fourier, puis trouver la composante principale correspondant à une fréquence non nulle. *Astuce : il est préférable de faire la transformée de fourier sur $data-(c+b\\times x+a\\times x^2)$ pour éviter d'avoir une composante pour la fréquence nulle. De manière générale, il peut être utile de soustraire la valeur moyenne du signal pour enlever la composante nulle.* Pour une transformée classique (option `norm='backward'`), il faut appliquer un facteur de normalisation égal à 2/N où N est le nombre de points de la série temporelle (`data.size`) pour retrouver l'amplitude du signal original.\n",
    "\n",
    "5. Refaire une nouvelle optimisation de tous les paramètres en fournissant comme valeurs initiales les paramètres trouvés pour voir la nouvelle convergence, bien meilleure.\n",
    "\n",
    "6. Montrer qu'avec des paramètres estimés grossièrement, on aurait également pu faire converger l'optimisation.\n",
    "\n",
    "7. Refaire l'estimation avec la fonction `least_squares`. *Si nécessaire, utiliser `bounds` suivi d'un tuple de deux array donnant la borne inférieure et supérieure pour chaque paramètre.*\n",
    "\n",
    "![pics/exo6-data-fit-full.svg](pics/exo6-data-fit-full.svg)"
   ]
  },
  {
   "cell_type": "code",
   "execution_count": null,
   "id": "5d1532ba",
   "metadata": {},
   "outputs": [],
   "source": []
  },
  {
   "cell_type": "code",
   "execution_count": null,
   "id": "dca0f93c",
   "metadata": {},
   "outputs": [],
   "source": []
  }
 ],
 "metadata": {
  "kernelspec": {
   "display_name": "Python 3 (ipykernel)",
   "language": "python",
   "name": "python3"
  },
  "language_info": {
   "codemirror_mode": {
    "name": "ipython",
    "version": 3
   },
   "file_extension": ".py",
   "mimetype": "text/x-python",
   "name": "python",
   "nbconvert_exporter": "python",
   "pygments_lexer": "ipython3",
   "version": "3.9.13"
  }
 },
 "nbformat": 4,
 "nbformat_minor": 5
}
