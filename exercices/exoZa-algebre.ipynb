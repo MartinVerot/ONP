{
 "cells": [
  {
   "cell_type": "markdown",
   "id": "2ebb8a77",
   "metadata": {},
   "source": [
    "# Un peu d'algèbre linéaire\n",
    "\n",
    "1. Créer une fonction qui crée une matrice nxn réelle symétrique (A_i,j = A_j,i) à partir d'un générateur de nombre aléatoire,  selon une loi normale d'écart-type et valeur centrale donnée. *il est possible d'utiliser les fonction `np.diag`, `np.tril` ou `np.triu` ou `np.tri`, prendre n=4 par défaut*\n",
    "2. Diagonaliser cette matrice avec numpy ou avec scipy. \n",
    "3. Calculer l'inverse de la matrice de passage, de manière explicite avec `inv` puis à l'aide de la définition de l'inverse d'une matrice unitaire. \n",
    "4. Vérifier que la matrice est bien diagonale dans la base de vecteurs propres.\n",
    "5. Calculer la norme de chaque vecteur propre.\n",
    "\n"
   ]
  },
  {
   "cell_type": "code",
   "execution_count": null,
   "id": "734b5099",
   "metadata": {},
   "outputs": [],
   "source": []
  }
 ],
 "metadata": {
  "kernelspec": {
   "display_name": "Python 3 (ipykernel)",
   "language": "python",
   "name": "python3"
  },
  "language_info": {
   "codemirror_mode": {
    "name": "ipython",
    "version": 3
   },
   "file_extension": ".py",
   "mimetype": "text/x-python",
   "name": "python",
   "nbconvert_exporter": "python",
   "pygments_lexer": "ipython3",
   "version": "3.9.13"
  }
 },
 "nbformat": 4,
 "nbformat_minor": 5
}
