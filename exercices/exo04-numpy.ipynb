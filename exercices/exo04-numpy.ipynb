{
 "cells": [
  {
   "cell_type": "markdown",
   "id": "070f8550",
   "metadata": {},
   "source": [
    "**Pour tout l'exercice, il n'y a besoin d'*AUCUNE* boucle for**.\n",
    "\n",
    "# Slicing, broadcasting et opérations sur des axes\n",
    "\n",
    "exercice tiré du module ONP années < 2023 et adapté\n",
    "\n",
    "Le fichier `exo4-WATER-pos-1.xyz` contenu dans l'archive `exo4-WATER.zip` correspond au résultat d'une simulation numérique correspondant à la simulation d'une boîte contenant 64 molécules d'eau sur 10 000 pas de temps espacés de 0,5 femtosecondes. La simulation concerne donc $64\\times 3 =192$ atomes, dans une boîte cubique de 12,42 Å de côté en contact avec un thermostat. \n",
    "\n",
    "Une représentation visuelle du système est disponible à l'adresse suivante :\n",
    "https://www.youtube.com/shorts/8xod-O0NwNY\n",
    "\n",
    "Le format obtenu correspond au fait de donner pour chaque pas de temps :\n",
    "* le nombre d'atomes sur une ligne\n",
    "* une ligne de commentaires\n",
    "* puis pour chaque atome : une ligne avec le symbole chimique de l'élément suivi de ses coordonnées $(x,y,z)$ *en Angström*\n",
    "\n",
    "0. Avant de se jeter dans la bataille : utiliser la commande `more` sur le fichier `exo4-WATER-pos-1.xyz` pour voir la structure du fichier de départ. **Faire attention à la taille du fichier : il est trop gros (120 Mo !!) pour être lu directement par gedit ou un éditeur de texte avec interface graphique**\n"
   ]
  },
  {
   "cell_type": "markdown",
   "id": "6fe81e12",
   "metadata": {},
   "source": [
    "1. Pour une phase de test, il est fortement déconseillé de travailler sur le jeu de données complet : les tests vont être inutilement longs. On va donc ici commencer par se ramener à un fichier plus modeste avec la commande `head -n 1940 exo4-WATER-pos-1.xyz > testFile.xyz` qui va créer un fichier contenant uniquement les 10 premiers pas de temps."
   ]
  },
  {
   "cell_type": "markdown",
   "id": "afc95bd3",
   "metadata": {},
   "source": [
    "2. À l'aide de la fonction `extract_data` du module `numpy_MD_utils.py` (disponible sur le dépôt github) importer les données de `testFile.xyz` sous forme de numpy array. *Ne pas hésiter à aller voir le fichier `numpy_MD_utils.py` pour voir comment utiliser la fonction*\n",
    "\n",
    "Le tableau résultant sera à 4 dimensions :\n",
    "* la première dimension sera pour chaque pas de temps\n",
    "* la deuxième dimension sera pour indiquer chaque molécule d'eau\n",
    "* la troisième dimension sera pour indiquer les atomes de la molécule (O,H,H)\n",
    "* la quatrième dimension indiquer la coordonnée x, y ou z.\n",
    "\n",
    "ainsi :\n",
    "si `data` est le tableau, alors `data[789,13,0,2]` correspondra (lire les indices de droite à gauche) à la coordonnée z (indice 2) de l'atome d'oxygène (indice 0), de la quatorzième molécule d'eau (indice 13), au 790ième pas de temps (indice 789).\n"
   ]
  },
  {
   "cell_type": "markdown",
   "id": "404bd280",
   "metadata": {},
   "source": [
    "3. Regarder le shape du tableau extrait. *Il est recommandé de noter quelque part la correspondance entre dimension, grandeur physique, et le shape final pour faciliter la suite de l'exercice*\n",
    "Résultat attendu :\n",
    "```\n",
    "shape : (10, 64, 3, 3)\n",
    "```"
   ]
  },
  {
   "cell_type": "markdown",
   "id": "700ccbda",
   "metadata": {},
   "source": [
    "4. Afficher les coordonnées du premier atome d'hydrogène de la deuxième molécule d'eau au deuxième pas de temps.\n",
    "Les résultats doivent correspondre aux coordonnées indiquées à la ligne suivante dans le fichier de départ :\n",
    "```\n",
    "  H        -3.3415222496        0.8258629565        4.1545571170\n",
    "```"
   ]
  },
  {
   "cell_type": "markdown",
   "id": "44a7781c",
   "metadata": {},
   "source": [
    "5. Afficher la trajectoire de l'atome d'oxygène de la première molécule d'eau.\n",
    "résultat attendu (en angström) :\n",
    "```\n",
    "[[ 3.85858738 -4.75331752  5.50919748]\n",
    " [ 3.86207789 -4.75647898  5.50987972]\n",
    " [ 3.86670402 -4.76021707  5.51020989]\n",
    " [ 3.87165408 -4.76422854  5.51167051]\n",
    " [ 3.87814674 -4.76788065  5.51245274]\n",
    " [ 3.88368732 -4.77156524  5.51394204]\n",
    " [ 3.88807613 -4.77544192  5.51568638]\n",
    " [ 3.89273159 -4.77678148  5.51657667]\n",
    " [ 3.89688626 -4.77724275  5.51936164]\n",
    " [ 3.90072985 -4.7777787   5.52115613]]\n",
    "```"
   ]
  },
  {
   "cell_type": "markdown",
   "id": "601b5685",
   "metadata": {},
   "source": [
    "6. À l'aide la fonction `np.gradient` ( https://numpy.org/doc/stable/reference/generated/numpy.gradient.html ) : calculer la vitesse (en m/s) de chaque atome. *Utiliser l'option edge_order = 2 et ne calculer que la dérivée temporelle qui est la seule à avoir du sens.*  \n",
    "résultat attendu pour l'atome d'oxygène de la première molécule d'eau : \n",
    "```\n",
    "[[ 584.53991 -574.62943  171.65707]\n",
    " [ 811.66397 -689.95485  101.24125]\n",
    " [ 957.61961 -774.95612  179.07878]\n",
    " [1144.27258 -766.35776  224.28546]\n",
    " [1203.32347 -733.67012  227.15323]\n",
    " [ 992.93892 -756.12735  323.36409]\n",
    " [ 904.4278  -521.62392  263.46327]\n",
    " [ 881.01316 -180.0825   367.52526]\n",
    " [ 799.82575  -99.72119  457.94512]\n",
    " [ 737.61013 -114.65865  259.85056]]\n",
    "```"
   ]
  },
  {
   "cell_type": "markdown",
   "id": "bf22cbc7",
   "metadata": {},
   "source": [
    "7. Calculer l'énergie cinétique de chaque atome à l'aide de la fonction `np.sum` (et éventuellement de la fonction `np.linalg.norm` )\n",
    "* On prendra comme masse molaires : 16 g/mol pour l'oxygène et 1 g/mol pour l'hydrogène\n",
    "* Utiliser la librairie `scipy` et plus particulièrement `scipy.constants` pour accéder à la valeur de la constante d'Avogadro ou toute autre constante physique https://docs.scipy.org/doc/scipy/reference/constants.html\n",
    "\n",
    "résultat attendu pour l'atome d'oxygène de la première molécule d'eau (en joule) :\n",
    "```\n",
    "[9.31697967e-21 1.52116788e-20 2.05861879e-20 2.58641304e-20\n",
    " 2.70715400e-20 2.20814580e-20 1.54030814e-20 1.25362558e-20\n",
    " 1.14162629e-20 8.29920984e-21]\n",
    "```"
   ]
  },
  {
   "cell_type": "markdown",
   "id": "9a370282",
   "metadata": {},
   "source": [
    "8. À l'aide de la fonction `np.sum` : calculer la position du barycentre de chaque molécule d'eau $\\mathbf{r}_{b,i} (t) = \\dfrac{1}{\\displaystyle\\sum_{j=O,H,H} m_j}\\displaystyle\\sum_{j=O,H,H} m_j r_{j,i}$ où $j$ indique l'atome considéré et $i$ indique la molécule considérée ($i=0..63$). Recommencer avec la fonction `np.average`.\n",
    "\n",
    "https://numpy.org/doc/stable/reference/generated/numpy.average.html\n",
    "\n",
    "https://numpy.org/doc/stable/reference/generated/numpy.sum.html\n",
    "\n",
    "résultat attendu pour le barycentre de la première molécule d'eau (en m)\n",
    "```\n",
    "[[ 3.83572787e-10 -4.77373429e-10  5.55890074e-10]\n",
    " [ 3.83891259e-10 -4.77672251e-10  5.55896508e-10]\n",
    " [ 3.84284552e-10 -4.78002300e-10  5.55907874e-10]\n",
    " [ 3.84722315e-10 -4.78288804e-10  5.56035633e-10]\n",
    " [ 3.85272551e-10 -4.78530403e-10  5.56119206e-10]\n",
    " [ 3.85757044e-10 -4.78809546e-10  5.56251688e-10]\n",
    " [ 3.86161465e-10 -4.79095799e-10  5.56385251e-10]\n",
    " [ 3.86638120e-10 -4.79233971e-10  5.56484026e-10]\n",
    " [ 3.87102070e-10 -4.79354019e-10  5.56796340e-10]\n",
    " [ 3.87527274e-10 -4.79472438e-10  5.57060592e-10]]\n",
    "```"
   ]
  },
  {
   "cell_type": "markdown",
   "id": "1074806c",
   "metadata": {},
   "source": [
    "9. Calculer la valeur de l'énergie cinétique totale du système :\n",
    "$$E_c = \\dfrac{1}{2}\\sum_\\text{molécules}\\sum_{i=\\text{O,H,H}}m_i v^2$$\n",
    "Puis calculer sa moyenne temporelle $\\langle E_c \\rangle_t$ ainsi que l'écart-type réduit correspondant :\n",
    "$$\\sigma_{E_c} = \\sqrt{\\dfrac{1}{N-1}\\sum_t (E_c(t)-\\langle E_c \\rangle_t)^2}$$\n",
    "où N est le nombre de pas de temps considérés.\n",
    "\n",
    "En déduire la valeur de la température grâce au théorème d'équipartition de l'énergie qui donne :\n",
    "$$\\langle E_c\\rangle_{atomes,temps} = \\dfrac{3}{2}k_B T$$\n",
    "où l'énergie cinétique est l'énergie cinétique moyenne calculée **par atome** (on myenne donc temporellement ainsi que pour chaque atome)\n",
    "\n",
    "Indication : Utiliser `np.average` ou `np.mean` (https://numpy.org/doc/stable/reference/generated/numpy.mean.html) et `np.std` (https://numpy.org/doc/stable/reference/generated/numpy.std.html)\n",
    "\n",
    "résultat attendu : \n",
    "\n",
    "moyenne temporelle de E_c : 1.228e-18 J, écart-type réduit : 1.061e-19 J\n",
    "\n",
    "Température : 308.823 K"
   ]
  },
  {
   "cell_type": "markdown",
   "id": "0e50d724",
   "metadata": {},
   "source": [
    "10. Pour chaque molécule, calculer la position de la **moyenne temporelle** du barycentre avec `np.mean`  ou `np.average` : $\\mathbf{r}_{mtb,i} = \\langle \\mathbf{r}_{b,i} (t) \\rangle _t$ ($i = 0..63$). Calculer ensuite la position de chaque atome par rapport à cette position $\\mathbf{r}_{red}(t) = \\mathbf{r}(t)-\\mathbf{r}_{mtb,i}$.\n",
    "\n",
    "Indication : ré-utiliser les résultats de la question 8, faire attention aux opérations de broadcasting, la fonction `np.expand_dims` peut servir dans ce but.\n",
    "\n",
    "résultat attendu pour l'atome d'oxygène de la première molécule d'eau (en angström) :\n",
    "```\n",
    "[[ 0.00365794  0.03251544 -0.05362972]\n",
    " [ 0.00714845  0.02935398 -0.05294747]\n",
    " [ 0.01177458  0.02561589 -0.0526173 ]\n",
    " [ 0.01672465  0.02160442 -0.05115668]\n",
    " [ 0.02321731  0.01795231 -0.05037445]\n",
    " [ 0.02875788  0.01426771 -0.04888515]\n",
    " [ 0.03314669  0.01039104 -0.04714081]\n",
    " [ 0.03780216  0.00905148 -0.04625052]\n",
    " [ 0.04195683  0.00859021 -0.04346555]\n",
    " [ 0.04580042  0.00805426 -0.04167107]]\n",
    " ```\n"
   ]
  },
  {
   "cell_type": "code",
   "execution_count": null,
   "id": "b7981d3c",
   "metadata": {},
   "outputs": [],
   "source": []
  },
  {
   "cell_type": "code",
   "execution_count": null,
   "id": "21208af2",
   "metadata": {},
   "outputs": [],
   "source": []
  }
 ],
 "metadata": {
  "kernelspec": {
   "display_name": "Python 3 (ipykernel)",
   "language": "python",
   "name": "python3"
  },
  "language_info": {
   "codemirror_mode": {
    "name": "ipython",
    "version": 3
   },
   "file_extension": ".py",
   "mimetype": "text/x-python",
   "name": "python",
   "nbconvert_exporter": "python",
   "pygments_lexer": "ipython3",
   "version": "3.9.13"
  }
 },
 "nbformat": 4,
 "nbformat_minor": 5
}
